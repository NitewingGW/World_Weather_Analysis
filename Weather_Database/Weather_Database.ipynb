{
 "cells": [
  {
   "cell_type": "code",
   "execution_count": 1,
   "metadata": {},
   "outputs": [],
   "source": [
    "import random\n",
    "import numpy as np\n",
    "import pandas as pd\n",
    "import matplotlib.pyplot as plt\n",
    "import timeit #time to process\n",
    "import requests\n",
    "import time\n",
    "from scipy.stats import linregress\n",
    "from datetime import datetime\n",
    "\n",
    "from config import weather_api_key\n",
    "from citipy import citipy # Use the citipy module to determine city based on latitude and longitude."
   ]
  },
  {
   "cell_type": "code",
   "execution_count": null,
   "metadata": {},
   "outputs": [],
   "source": []
  },
  {
   "cell_type": "markdown",
   "metadata": {},
   "source": [
    "requests.__version__\n",
    "#https://requests.kennethreitz.org/en/master/\n"
   ]
  },
  {
   "cell_type": "markdown",
   "metadata": {},
   "source": [
    "x = 1\n",
    "latitudes = []\n",
    "while x < 11:\n",
    "    random_lat = random.randint(-90, 89) + random.random()\n",
    "    latitudes.append(random_lat)\n",
    "    x += 1\n",
    "latitudes"
   ]
  },
  {
   "cell_type": "markdown",
   "metadata": {},
   "source": [
    "#can not generate whole numbers\n",
    "random.uniform(-90, 90)"
   ]
  },
  {
   "cell_type": "markdown",
   "metadata": {},
   "source": [
    "# only generate whole numbers\n",
    "# step is used to seperate the random numbers by a minimum amount\n",
    "random.randrange(-90, 90, step=3)"
   ]
  },
  {
   "cell_type": "markdown",
   "metadata": {},
   "source": [
    "#random whole numbers from with in a given range\n",
    "random.randrange(-90, 90, step=1)"
   ]
  },
  {
   "cell_type": "markdown",
   "metadata": {},
   "source": [
    "#random whole numbers from with in a given range\n",
    "random.randint(-90,90)"
   ]
  },
  {
   "cell_type": "markdown",
   "metadata": {},
   "source": [
    "# generate and array of x (size) amount of numbers\n",
    "np.random.uniform(-90.000, 90.000, size=50)"
   ]
  },
  {
   "cell_type": "markdown",
   "metadata": {},
   "source": [
    "# time to process line\n",
    "%timeit np.random.uniform(-90.000, 90.000, size=1500)"
   ]
  },
  {
   "cell_type": "markdown",
   "metadata": {},
   "source": [
    "# For loop take 60 times longer than the np.random.uniform()\n",
    "def latitudes(size):\n",
    "    latitudes = []\n",
    "    x = 0\n",
    "    while x < (size):\n",
    "        random_lat = random.randint(-90, 90) + random.random()\n",
    "        latitudes.append(random_lat)\n",
    "        x += 1\n",
    "    return latitudes\n",
    "# Call the function with 1500.\n",
    "%timeit latitudes(1500)"
   ]
  },
  {
   "cell_type": "markdown",
   "metadata": {},
   "source": [
    "# Generate Random Lat Long"
   ]
  },
  {
   "cell_type": "code",
   "execution_count": 2,
   "metadata": {},
   "outputs": [
    {
     "data": {
      "text/plain": [
       "<zip at 0x1887cb70740>"
      ]
     },
     "execution_count": 2,
     "metadata": {},
     "output_type": "execute_result"
    }
   ],
   "source": [
    "# Create a set of random latitude and longitude combinations.\n",
    "# zip creates pairs in the order listed\n",
    "lats = np.random.uniform(low=-90.000, high=90.000, size=2000)\n",
    "lngs = np.random.uniform(low=-180.000, high=180.000, size=2000)\n",
    "lat_lngs = zip(lats, lngs)\n",
    "lat_lngs"
   ]
  },
  {
   "cell_type": "markdown",
   "metadata": {},
   "source": [
    "#### Example --how to show contents of zip-- DO NOT DO THIS WITH 1500\n",
    "#### You can only unzip a zipped tuple once before it is removed from the\n",
    "#### computer's memory. Make sure you unzip the latitudes and longitudes \n",
    "#### into the coordinates list before moving on."
   ]
  },
  {
   "cell_type": "markdown",
   "metadata": {},
   "source": [
    "# Create a practice set of random latitude and longitude combinations.\n",
    "x = [25.12903645, 25.92017388, 26.62509167, -59.98969384, 37.30571269]\n",
    "y = [-67.59741259, 11.09532135, 74.84233102, -76.89176677, -61.13376282]\n",
    "coordinates = zip(x, y)\n",
    "\n",
    "# Use the tuple() function to display the latitude and longitude combinations.\n",
    "for coordinate in coordinates:\n",
    "    print(coordinate[0], coordinate[1])"
   ]
  },
  {
   "cell_type": "code",
   "execution_count": 3,
   "metadata": {},
   "outputs": [],
   "source": [
    "# Add the latitudes and longitudes to a list.\n",
    "coordinates = list(lat_lngs)"
   ]
  },
  {
   "cell_type": "code",
   "execution_count": 40,
   "metadata": {},
   "outputs": [
    {
     "data": {
      "text/plain": [
       "2000"
      ]
     },
     "execution_count": 40,
     "metadata": {},
     "output_type": "execute_result"
    }
   ],
   "source": [
    "len(coordinates)"
   ]
  },
  {
   "cell_type": "markdown",
   "metadata": {},
   "source": [
    "# Generate Random World Cities\n",
    "##### Example for iterating through lat long  and finding city"
   ]
  },
  {
   "cell_type": "markdown",
   "metadata": {},
   "source": [
    "# Use the tuple() function to display the latitude and longitude combinations.\n",
    "# It works...commenting out to save memory\n",
    "#for coordinate in coordinates:\n",
    "#    print(citipy.nearest_city(coordinate[0], coordinate[1]).city_name,\n",
    "#          citipy.nearest_city(coordinate[0], coordinate[1]).country_code)"
   ]
  },
  {
   "cell_type": "code",
   "execution_count": 39,
   "metadata": {},
   "outputs": [
    {
     "data": {
      "text/plain": [
       "796"
      ]
     },
     "execution_count": 39,
     "metadata": {},
     "output_type": "execute_result"
    }
   ],
   "source": [
    "# Create a list for holding the cities.\n",
    "cities = []\n",
    "# Identify the nearest city for each latitude and longitude combination.\n",
    "for coordinate in coordinates:\n",
    "    city = citipy.nearest_city(coordinate[0], coordinate[1]).city_name\n",
    "\n",
    "    # If the city is unique, then we will add it to the cities list.\n",
    "    if city not in cities:\n",
    "        cities.append(city)\n",
    "# Print the city count to confirm sufficient count.\n",
    "len(cities)"
   ]
  },
  {
   "cell_type": "markdown",
   "metadata": {},
   "source": [
    "# Using API\n",
    "### Open Weather map API\n",
    "### import requests \n",
    "##### https://requests.kennethreitz.org/en/master/"
   ]
  },
  {
   "cell_type": "markdown",
   "metadata": {},
   "source": [
    "### Building API URL"
   ]
  },
  {
   "cell_type": "code",
   "execution_count": 6,
   "metadata": {},
   "outputs": [],
   "source": [
    "# api.openweathermap.org/data/2.5/weather?q={city name}&appid={API key}\n",
    "# api.openweathermap.org/data/2.5/weather?q={city name},{state code},{country code}&appid={API key}\n",
    "# api.openweathermap.org/data/2.5/weather?q={city name},{state code}&appid={API key}\n"
   ]
  },
  {
   "cell_type": "code",
   "execution_count": 11,
   "metadata": {},
   "outputs": [
    {
     "name": "stdout",
     "output_type": "stream",
     "text": [
      "http://api.openweathermap.org/data/2.5/weather?units=Imperial&APPID=72c6ac49835b8273bfc5a12e4f65f701\n"
     ]
    }
   ],
   "source": [
    "# Starting URL for Weather Map API Call.\n",
    "url = \"http://api.openweathermap.org/data/2.5/weather?units=Imperial&APPID=\" + weather_api_key\n",
    "print(url)"
   ]
  },
  {
   "cell_type": "markdown",
   "metadata": {},
   "source": [
    "### Add query to url"
   ]
  },
  {
   "cell_type": "markdown",
   "metadata": {},
   "source": [
    "# Create an endpoint URL for a city.\n",
    "city_url = url + \"&q=\" + \"Boston\"\n",
    "print(city_url)"
   ]
  },
  {
   "cell_type": "markdown",
   "metadata": {},
   "source": [
    "## Request()\n",
    "### Request Method\t    Action\n",
    "### get()--------------------->Retrieves data from a web source.\n",
    "### head()--------------------->Retrieves the headers from a web source.\n",
    "### post()--------------------->Adds or annotates data on a web source. Used on mailing groups, message boards, or comments.\n",
    "### put()--------------------->Updates an existing resource. For example, if the date on a Wikipedia page is wrong, you can use the put() method to update that date.\n",
    "### delete()--------------------->Deletes data from a web source.\n",
    "### options()--------------------->Discovers what HTTP methods a web source allows.\n",
    "### patch()--------------------->Partially modifies a web source."
   ]
  },
  {
   "cell_type": "markdown",
   "metadata": {},
   "source": [
    "\n",
    "### \n",
    "### \n",
    "### Build a get request"
   ]
  },
  {
   "cell_type": "markdown",
   "metadata": {},
   "source": [
    "city_weather = requests.get(city_url)\n",
    "city_weather"
   ]
  },
  {
   "cell_type": "markdown",
   "metadata": {},
   "source": [
    "#boston spelled wrong so it could not find that name in the query\n",
    "city_url = url + \"&q=\" + \"Bston\"\n",
    "city_weather = requests.get(city_url)\n",
    "city_weather"
   ]
  },
  {
   "cell_type": "markdown",
   "metadata": {},
   "source": [
    "city_url"
   ]
  },
  {
   "cell_type": "code",
   "execution_count": 12,
   "metadata": {},
   "outputs": [
    {
     "data": {
      "text/plain": [
       "<Response [200]>"
      ]
     },
     "execution_count": 12,
     "metadata": {},
     "output_type": "execute_result"
    }
   ],
   "source": [
    "#test if url is working\n",
    "city_url = url + \"&q=\" + \"Boston\"\n",
    "city_weather = requests.get(city_url)\n",
    "city_weather"
   ]
  },
  {
   "cell_type": "code",
   "execution_count": 14,
   "metadata": {},
   "outputs": [
    {
     "data": {
      "text/plain": [
       "'{\"coord\":{\"lon\":-71.0598,\"lat\":42.3584},\"weather\":[{\"id\":803,\"main\":\"Clouds\",\"description\":\"broken clouds\",\"icon\":\"04n\"}],\"base\":\"stations\",\"main\":{\"temp\":77,\"feels_like\":77.65,\"temp_min\":69.55,\"temp_max\":82.24,\"pressure\":1011,\"humidity\":69},\"visibility\":10000,\"wind\":{\"speed\":5.01,\"deg\":294,\"gust\":11.01},\"clouds\":{\"all\":62},\"dt\":1622945150,\"sys\":{\"type\":2,\"id\":2013408,\"country\":\"US\",\"sunrise\":1622884109,\"sunset\":1622938644},\"timezone\":-14400,\"id\":4930956,\"name\":\"Boston\",\"cod\":200}'"
      ]
     },
     "execution_count": 14,
     "metadata": {},
     "output_type": "execute_result"
    }
   ],
   "source": [
    "# view data in response to find the keys you need to pull for the dataframe\n",
    "city_weather.text"
   ]
  },
  {
   "cell_type": "code",
   "execution_count": 33,
   "metadata": {},
   "outputs": [
    {
     "data": {
      "text/plain": [
       "{'coord': {'lon': -71.0598, 'lat': 42.3584},\n",
       " 'weather': [{'id': 803,\n",
       "   'main': 'Clouds',\n",
       "   'description': 'broken clouds',\n",
       "   'icon': '04n'}],\n",
       " 'base': 'stations',\n",
       " 'main': {'temp': 77,\n",
       "  'feels_like': 77.65,\n",
       "  'temp_min': 69.55,\n",
       "  'temp_max': 82.24,\n",
       "  'pressure': 1011,\n",
       "  'humidity': 69},\n",
       " 'visibility': 10000,\n",
       " 'wind': {'speed': 5.01, 'deg': 294, 'gust': 11.01},\n",
       " 'clouds': {'all': 62},\n",
       " 'dt': 1622945150,\n",
       " 'sys': {'type': 2,\n",
       "  'id': 2013408,\n",
       "  'country': 'US',\n",
       "  'sunrise': 1622884109,\n",
       "  'sunset': 1622938644},\n",
       " 'timezone': -14400,\n",
       " 'id': 4930956,\n",
       " 'name': 'Boston',\n",
       " 'cod': 200}"
      ]
     },
     "execution_count": 33,
     "metadata": {},
     "output_type": "execute_result"
    }
   ],
   "source": [
    "city_weather.json()"
   ]
  },
  {
   "cell_type": "code",
   "execution_count": 28,
   "metadata": {},
   "outputs": [],
   "source": [
    "temp_data=city_weather.json()"
   ]
  },
  {
   "cell_type": "code",
   "execution_count": 35,
   "metadata": {},
   "outputs": [
    {
     "data": {
      "text/plain": [
       "'broken clouds'"
      ]
     },
     "execution_count": 35,
     "metadata": {},
     "output_type": "execute_result"
    }
   ],
   "source": [
    "temp_data['weather'][0]['description']\n"
   ]
  },
  {
   "cell_type": "markdown",
   "metadata": {},
   "source": [
    "### Get the data/text from the 'Get' request.\n",
    "#### Output is a dictionary"
   ]
  },
  {
   "cell_type": "code",
   "execution_count": null,
   "metadata": {},
   "outputs": [],
   "source": []
  },
  {
   "cell_type": "markdown",
   "metadata": {},
   "source": [
    "# Get the text of the 'Get' request. Output is a dictionary\n",
    "city_weather.text"
   ]
  },
  {
   "cell_type": "markdown",
   "metadata": {},
   "source": [
    "### Use json to access the data returned from get request\n",
    "### Makes it a lot easier to read"
   ]
  },
  {
   "cell_type": "markdown",
   "metadata": {},
   "source": [
    "# Get the JSON text of the 'Get' request.\n",
    "city_weather.json()"
   ]
  },
  {
   "cell_type": "markdown",
   "metadata": {},
   "source": [
    "### Error handling for request respnse code (200, 404 etc)\n",
    "### Use .status_code on the variable containing the response"
   ]
  },
  {
   "cell_type": "markdown",
   "metadata": {},
   "source": [
    "# Create an endpoint URL for a city.\n",
    "city_url = url + \"&q=\" + \"Bton\"\n",
    "city_weather = requests.get(city_url)\n",
    "if city_weather.status_code == 200:\n",
    "    print(f\"City Weather found.\")\n",
    "else:\n",
    "    print(f\"City weather not found.\")"
   ]
  },
  {
   "cell_type": "markdown",
   "metadata": {},
   "source": [
    "# Create an endpoint URL for a city.\n",
    "city_url = url + \"&q=\" + \"Boston\"\n",
    "city_weather = requests.get(city_url)\n",
    "if city_weather.status_code == 200:\n",
    "    print(f\"City Weather found.\")\n",
    "else:\n",
    "    print(f\"City weather not found.\")"
   ]
  },
  {
   "cell_type": "markdown",
   "metadata": {},
   "source": [
    "# PARSE RESPONSE from Get request"
   ]
  },
  {
   "cell_type": "markdown",
   "metadata": {},
   "source": [
    "### Get the json data"
   ]
  },
  {
   "cell_type": "markdown",
   "metadata": {},
   "source": [
    "# Get the JSON data.\n",
    "boston_data = city_weather.json()"
   ]
  },
  {
   "cell_type": "markdown",
   "metadata": {},
   "source": [
    "### Review data"
   ]
  },
  {
   "cell_type": "markdown",
   "metadata": {},
   "source": [
    "# Review data in table\n",
    "boston_data"
   ]
  },
  {
   "cell_type": "markdown",
   "metadata": {},
   "source": [
    "### Pull data from dictionary"
   ]
  },
  {
   "cell_type": "markdown",
   "metadata": {},
   "source": [
    "boston_data[\"sys\"]"
   ]
  },
  {
   "cell_type": "markdown",
   "metadata": {},
   "source": [
    "### Pull data from dictionary 2 levels deep"
   ]
  },
  {
   "cell_type": "markdown",
   "metadata": {},
   "source": [
    "boston_data[\"sys\"][\"country\"]"
   ]
  },
  {
   "cell_type": "markdown",
   "metadata": {},
   "source": [
    "# date time \n",
    "boston_data['dt']"
   ]
  },
  {
   "cell_type": "markdown",
   "metadata": {},
   "source": [
    "# latitude\n",
    "boston_data[\"coord\"][\"lat\"]"
   ]
  },
  {
   "cell_type": "markdown",
   "metadata": {},
   "source": [
    "### Place all relevent data into variables"
   ]
  },
  {
   "cell_type": "markdown",
   "metadata": {},
   "source": [
    "lat = boston_data[\"coord\"][\"lat\"]\n",
    "lng = boston_data[\"coord\"][\"lon\"]\n",
    "max_temp = boston_data[\"main\"][\"temp_max\"]\n",
    "humidity = boston_data[\"main\"][\"humidity\"]\n",
    "clouds = boston_data[\"clouds\"][\"all\"]\n",
    "wind = boston_data[\"wind\"][\"speed\"]\n",
    "print(lat, lng, max_temp, humidity, clouds, wind)"
   ]
  },
  {
   "cell_type": "markdown",
   "metadata": {},
   "source": [
    "## Convert Date Time Stamp from unix time\n",
    "### from datetime import datetime\n",
    "#### https://docs.python.org/3.6/library/datetime.html#strftime-and-strptime-behavior\n",
    "#### https://docs.python.org/3.6/library/datetime.html\n",
    "#### Date time listed in a comma delimited fashion"
   ]
  },
  {
   "cell_type": "markdown",
   "metadata": {},
   "source": [
    "# Get the date from the JSON file.\n",
    "date = boston_data[\"dt\"]\n",
    "# Convert the UTC date to a date format with year, month, day, hours, minutes, and seconds.\n",
    "datetime.utcfromtimestamp(date)"
   ]
  },
  {
   "cell_type": "markdown",
   "metadata": {},
   "source": [
    "# Get the date from the JSON file.\n",
    "date = boston_data[\"dt\"]\n",
    "# Convert the UTC date to a date string formatted\n",
    "datetime.utcfromtimestamp(date).strftime('%Y-%m-%d %H:%M:%S')"
   ]
  },
  {
   "cell_type": "markdown",
   "metadata": {},
   "source": [
    "### Initialize an Empty List and Counters"
   ]
  },
  {
   "cell_type": "code",
   "execution_count": 72,
   "metadata": {},
   "outputs": [
    {
     "name": "stdout",
     "output_type": "stream",
     "text": [
      "Beginning Data Retrieval     \n",
      "-----------------------------\n"
     ]
    }
   ],
   "source": [
    "# Create an empty list to hold the weather data.\n",
    "city_data = []\n",
    "# Print the beginning of the logging.\n",
    "print(\"Beginning Data Retrieval     \")\n",
    "print(\"-----------------------------\")\n",
    "\n",
    "# Create counters.\n",
    "record_count = 1\n",
    "set_count = 1\n"
   ]
  },
  {
   "cell_type": "code",
   "execution_count": 73,
   "metadata": {},
   "outputs": [
    {
     "data": {
      "text/plain": [
       "[]"
      ]
     },
     "execution_count": 73,
     "metadata": {},
     "output_type": "execute_result"
    }
   ],
   "source": [
    "city_data"
   ]
  },
  {
   "cell_type": "markdown",
   "metadata": {},
   "source": [
    "# Handle API Request Errors with try-except Blocks\n",
    "### Exception handling"
   ]
  },
  {
   "cell_type": "code",
   "execution_count": 75,
   "metadata": {},
   "outputs": [
    {
     "name": "stdout",
     "output_type": "stream",
     "text": [
      "City not found. Skipping...\n",
      "City not found. Skipping...\n",
      "City not found. Skipping...\n",
      "City not found. Skipping...\n",
      "City not found. Skipping...\n",
      "City not found. Skipping...\n",
      "City not found. Skipping...\n",
      "City not found. Skipping...\n",
      "City not found. Skipping...\n",
      "City not found. Skipping...\n",
      "City not found. Skipping...\n",
      "City not found. Skipping...\n",
      "City not found. Skipping...\n",
      "City not found. Skipping...\n",
      "City not found. Skipping...\n",
      "City not found. Skipping...\n",
      "City not found. Skipping...\n",
      "City not found. Skipping...\n",
      "City not found. Skipping...\n",
      "City not found. Skipping...\n",
      "City not found. Skipping...\n",
      "City not found. Skipping...\n",
      "City not found. Skipping...\n",
      "City not found. Skipping...\n",
      "City not found. Skipping...\n",
      "City not found. Skipping...\n",
      "City not found. Skipping...\n",
      "City not found. Skipping...\n",
      "City not found. Skipping...\n",
      "City not found. Skipping...\n",
      "City not found. Skipping...\n",
      "City not found. Skipping...\n",
      "City not found. Skipping...\n",
      "City not found. Skipping...\n",
      "City not found. Skipping...\n",
      "City not found. Skipping...\n",
      "City not found. Skipping...\n",
      "City not found. Skipping...\n",
      "City not found. Skipping...\n",
      "City not found. Skipping...\n",
      "City not found. Skipping...\n",
      "City not found. Skipping...\n",
      "City not found. Skipping...\n",
      "City not found. Skipping...\n",
      "City not found. Skipping...\n",
      "City not found. Skipping...\n",
      "City not found. Skipping...\n",
      "City not found. Skipping...\n",
      "City not found. Skipping...\n",
      "City not found. Skipping...\n",
      "City not found. Skipping...\n",
      "City not found. Skipping...\n",
      "City not found. Skipping...\n",
      "City not found. Skipping...\n",
      "City not found. Skipping...\n",
      "City not found. Skipping...\n",
      "City not found. Skipping...\n",
      "City not found. Skipping...\n",
      "City not found. Skipping...\n",
      "City not found. Skipping...\n",
      "City not found. Skipping...\n",
      "City not found. Skipping...\n",
      "City not found. Skipping...\n",
      "City not found. Skipping...\n",
      "City not found. Skipping...\n",
      "City not found. Skipping...\n",
      "City not found. Skipping...\n",
      "City not found. Skipping...\n",
      "City not found. Skipping...\n",
      "City not found. Skipping...\n",
      "City not found. Skipping...\n",
      "City not found. Skipping...\n",
      "City not found. Skipping...\n",
      "City not found. Skipping...\n",
      "City not found. Skipping...\n",
      "City not found. Skipping...\n",
      "City not found. Skipping...\n",
      "City not found. Skipping...\n",
      "City not found. Skipping...\n",
      "City not found. Skipping...\n",
      "City not found. Skipping...\n",
      "City not found. Skipping...\n",
      "City not found. Skipping...\n",
      "City not found. Skipping...\n",
      "City not found. Skipping...\n",
      "City not found. Skipping...\n",
      "City not found. Skipping...\n",
      "City not found. Skipping...\n",
      "City not found. Skipping...\n",
      "City not found. Skipping...\n",
      "City not found. Skipping...\n",
      "City not found. Skipping...\n",
      "City not found. Skipping...\n",
      "City not found. Skipping...\n",
      "City not found. Skipping...\n",
      "City not found. Skipping...\n",
      "City not found. Skipping...\n",
      "City not found. Skipping...\n",
      "City not found. Skipping...\n",
      "City not found. Skipping...\n",
      "City not found. Skipping...\n",
      "City not found. Skipping...\n",
      "City not found. Skipping...\n",
      "City not found. Skipping...\n",
      "City not found. Skipping...\n",
      "City not found. Skipping...\n",
      "City not found. Skipping...\n",
      "City not found. Skipping...\n",
      "City not found. Skipping...\n",
      "City not found. Skipping...\n",
      "City not found. Skipping...\n",
      "City not found. Skipping...\n",
      "City not found. Skipping...\n",
      "City not found. Skipping...\n",
      "City not found. Skipping...\n",
      "City not found. Skipping...\n",
      "City not found. Skipping...\n",
      "City not found. Skipping...\n",
      "City not found. Skipping...\n",
      "City not found. Skipping...\n",
      "City not found. Skipping...\n",
      "City not found. Skipping...\n",
      "City not found. Skipping...\n",
      "City not found. Skipping...\n",
      "City not found. Skipping...\n",
      "City not found. Skipping...\n",
      "City not found. Skipping...\n",
      "City not found. Skipping...\n",
      "City not found. Skipping...\n",
      "City not found. Skipping...\n",
      "City not found. Skipping...\n",
      "City not found. Skipping...\n",
      "City not found. Skipping...\n",
      "City not found. Skipping...\n",
      "City not found. Skipping...\n",
      "City not found. Skipping...\n",
      "City not found. Skipping...\n",
      "City not found. Skipping...\n",
      "City not found. Skipping...\n",
      "City not found. Skipping...\n",
      "City not found. Skipping...\n",
      "City not found. Skipping...\n",
      "City not found. Skipping...\n",
      "City not found. Skipping...\n",
      "City not found. Skipping...\n",
      "City not found. Skipping...\n",
      "City not found. Skipping...\n",
      "City not found. Skipping...\n",
      "City not found. Skipping...\n",
      "City not found. Skipping...\n",
      "City not found. Skipping...\n",
      "City not found. Skipping...\n",
      "City not found. Skipping...\n",
      "-----------------------------\n",
      "Data Retrieval Complete      \n",
      "-----------------------------\n"
     ]
    }
   ],
   "source": [
    "# Loop through all the cities in the list.\n",
    "## change to code to run\n",
    "for i, city in enumerate(cities):\n",
    "\n",
    "    # Group cities in sets of 50 for logging purposes.\n",
    "    if (i % 50 == 0 and i >= 50): #is remainder of 50 >= 0... basically checks if there is a remainder. if so contiue counting until there isn't\n",
    "        set_count += 1\n",
    "        record_count = 1\n",
    "    # Create endpoint URL with each city.\n",
    "    city_url = url + \"&q=\" + city.replace(\" \",\"+\") # replace all spaces in city with \"+\"\n",
    "\n",
    "    # Log the URL, record, and set numbers and the city.\n",
    "    # print(f\"Processing Record {record_count} of Set {set_count} | {city}\")\n",
    "    # Add 1 to the record count.\n",
    "    record_count += 1\n",
    "    ###################################################################\n",
    "    #   Start your exception here...when it adds to the iterator      #\n",
    "    #   to go to the next record                                      #\n",
    "    ###################################################################\n",
    "# Run an API request for each of the cities.\n",
    "    try:\n",
    "        # Parse the JSON and retrieve data.\n",
    "        city_weather = requests.get(city_url).json()\n",
    "        # Parse out the needed data.\n",
    "        city_lat = city_weather[\"coord\"][\"lat\"]\n",
    "        city_lng = city_weather[\"coord\"][\"lon\"]\n",
    "        city_max_temp = city_weather[\"main\"][\"temp_max\"]\n",
    "        city_humidity = city_weather[\"main\"][\"humidity\"]\n",
    "        city_clouds = city_weather[\"clouds\"][\"all\"]\n",
    "        city_wind = city_weather[\"wind\"][\"speed\"]\n",
    "        city_country = city_weather[\"sys\"][\"country\"]\n",
    "        description = city_weather['weather'][0]['description']\n",
    "        # Convert the date to ISO standard.\n",
    "        city_date = datetime.utcfromtimestamp(city_weather[\"dt\"]).strftime('%Y-%m-%d %H:%M:%S')\n",
    "        # Append the city information into city_data list.\n",
    "        city_data.append({\"City\": city.title(),\n",
    "                          \"Country\": city_country,\n",
    "                          \"Lat\": city_lat,\n",
    "                          \"Lng\": city_lng,\n",
    "                          \"Max Temp\": city_max_temp,\n",
    "                          \"Humidity\": city_humidity,\n",
    "                          \"Cloudiness\": city_clouds,\n",
    "                          \"Wind Speed\": city_wind,\n",
    "                          \"Current Description\": description})\n",
    "\n",
    "# If an error is experienced, skip the city.\n",
    "    except:\n",
    "        print(\"City not found. Skipping...\")\n",
    "        #pass\n",
    "\n",
    "# Indicate that Data Loading is complete.\n",
    "print(\"-----------------------------\")\n",
    "print(\"Data Retrieval Complete      \")\n",
    "print(\"-----------------------------\")"
   ]
  },
  {
   "cell_type": "code",
   "execution_count": 76,
   "metadata": {},
   "outputs": [
    {
     "data": {
      "text/html": [
       "<div>\n",
       "<style scoped>\n",
       "    .dataframe tbody tr th:only-of-type {\n",
       "        vertical-align: middle;\n",
       "    }\n",
       "\n",
       "    .dataframe tbody tr th {\n",
       "        vertical-align: top;\n",
       "    }\n",
       "\n",
       "    .dataframe thead th {\n",
       "        text-align: right;\n",
       "    }\n",
       "</style>\n",
       "<table border=\"1\" class=\"dataframe\">\n",
       "  <thead>\n",
       "    <tr style=\"text-align: right;\">\n",
       "      <th></th>\n",
       "      <th>City</th>\n",
       "      <th>Country</th>\n",
       "      <th>Lat</th>\n",
       "      <th>Lng</th>\n",
       "      <th>Max Temp</th>\n",
       "      <th>Humidity</th>\n",
       "      <th>Cloudiness</th>\n",
       "      <th>Wind Speed</th>\n",
       "      <th>Current Description</th>\n",
       "    </tr>\n",
       "  </thead>\n",
       "  <tbody>\n",
       "    <tr>\n",
       "      <th>0</th>\n",
       "      <td>Imbituba</td>\n",
       "      <td>BR</td>\n",
       "      <td>-28.2400</td>\n",
       "      <td>-48.6703</td>\n",
       "      <td>69.69</td>\n",
       "      <td>76</td>\n",
       "      <td>48</td>\n",
       "      <td>7.61</td>\n",
       "      <td>scattered clouds</td>\n",
       "    </tr>\n",
       "    <tr>\n",
       "      <th>1</th>\n",
       "      <td>Atuona</td>\n",
       "      <td>PF</td>\n",
       "      <td>-9.8000</td>\n",
       "      <td>-139.0333</td>\n",
       "      <td>79.34</td>\n",
       "      <td>69</td>\n",
       "      <td>18</td>\n",
       "      <td>14.18</td>\n",
       "      <td>few clouds</td>\n",
       "    </tr>\n",
       "    <tr>\n",
       "      <th>2</th>\n",
       "      <td>Rikitea</td>\n",
       "      <td>PF</td>\n",
       "      <td>-23.1203</td>\n",
       "      <td>-134.9692</td>\n",
       "      <td>76.10</td>\n",
       "      <td>81</td>\n",
       "      <td>69</td>\n",
       "      <td>12.80</td>\n",
       "      <td>broken clouds</td>\n",
       "    </tr>\n",
       "    <tr>\n",
       "      <th>3</th>\n",
       "      <td>Bluff</td>\n",
       "      <td>NZ</td>\n",
       "      <td>-46.6000</td>\n",
       "      <td>168.3333</td>\n",
       "      <td>49.80</td>\n",
       "      <td>70</td>\n",
       "      <td>78</td>\n",
       "      <td>4.74</td>\n",
       "      <td>broken clouds</td>\n",
       "    </tr>\n",
       "    <tr>\n",
       "      <th>4</th>\n",
       "      <td>Marawi</td>\n",
       "      <td>PH</td>\n",
       "      <td>7.9986</td>\n",
       "      <td>124.2928</td>\n",
       "      <td>74.64</td>\n",
       "      <td>83</td>\n",
       "      <td>98</td>\n",
       "      <td>4.54</td>\n",
       "      <td>light rain</td>\n",
       "    </tr>\n",
       "    <tr>\n",
       "      <th>...</th>\n",
       "      <td>...</td>\n",
       "      <td>...</td>\n",
       "      <td>...</td>\n",
       "      <td>...</td>\n",
       "      <td>...</td>\n",
       "      <td>...</td>\n",
       "      <td>...</td>\n",
       "      <td>...</td>\n",
       "      <td>...</td>\n",
       "    </tr>\n",
       "    <tr>\n",
       "      <th>638</th>\n",
       "      <td>Felsoszentivan</td>\n",
       "      <td>HU</td>\n",
       "      <td>46.1971</td>\n",
       "      <td>19.1869</td>\n",
       "      <td>59.14</td>\n",
       "      <td>77</td>\n",
       "      <td>91</td>\n",
       "      <td>1.36</td>\n",
       "      <td>overcast clouds</td>\n",
       "    </tr>\n",
       "    <tr>\n",
       "      <th>639</th>\n",
       "      <td>Kralendijk</td>\n",
       "      <td>BQ</td>\n",
       "      <td>12.1500</td>\n",
       "      <td>-68.2667</td>\n",
       "      <td>80.58</td>\n",
       "      <td>78</td>\n",
       "      <td>20</td>\n",
       "      <td>16.11</td>\n",
       "      <td>few clouds</td>\n",
       "    </tr>\n",
       "    <tr>\n",
       "      <th>640</th>\n",
       "      <td>Beloha</td>\n",
       "      <td>MG</td>\n",
       "      <td>-25.1667</td>\n",
       "      <td>45.0500</td>\n",
       "      <td>57.79</td>\n",
       "      <td>81</td>\n",
       "      <td>0</td>\n",
       "      <td>5.77</td>\n",
       "      <td>clear sky</td>\n",
       "    </tr>\n",
       "    <tr>\n",
       "      <th>641</th>\n",
       "      <td>Gallup</td>\n",
       "      <td>US</td>\n",
       "      <td>35.5281</td>\n",
       "      <td>-108.7426</td>\n",
       "      <td>76.01</td>\n",
       "      <td>23</td>\n",
       "      <td>81</td>\n",
       "      <td>1.99</td>\n",
       "      <td>broken clouds</td>\n",
       "    </tr>\n",
       "    <tr>\n",
       "      <th>642</th>\n",
       "      <td>Cumberland</td>\n",
       "      <td>US</td>\n",
       "      <td>35.0502</td>\n",
       "      <td>-78.8664</td>\n",
       "      <td>79.30</td>\n",
       "      <td>85</td>\n",
       "      <td>20</td>\n",
       "      <td>1.01</td>\n",
       "      <td>few clouds</td>\n",
       "    </tr>\n",
       "  </tbody>\n",
       "</table>\n",
       "<p>643 rows × 9 columns</p>\n",
       "</div>"
      ],
      "text/plain": [
       "               City Country      Lat       Lng  Max Temp  Humidity  \\\n",
       "0          Imbituba      BR -28.2400  -48.6703     69.69        76   \n",
       "1            Atuona      PF  -9.8000 -139.0333     79.34        69   \n",
       "2           Rikitea      PF -23.1203 -134.9692     76.10        81   \n",
       "3             Bluff      NZ -46.6000  168.3333     49.80        70   \n",
       "4            Marawi      PH   7.9986  124.2928     74.64        83   \n",
       "..              ...     ...      ...       ...       ...       ...   \n",
       "638  Felsoszentivan      HU  46.1971   19.1869     59.14        77   \n",
       "639      Kralendijk      BQ  12.1500  -68.2667     80.58        78   \n",
       "640          Beloha      MG -25.1667   45.0500     57.79        81   \n",
       "641          Gallup      US  35.5281 -108.7426     76.01        23   \n",
       "642      Cumberland      US  35.0502  -78.8664     79.30        85   \n",
       "\n",
       "     Cloudiness  Wind Speed Current Description  \n",
       "0            48        7.61    scattered clouds  \n",
       "1            18       14.18          few clouds  \n",
       "2            69       12.80       broken clouds  \n",
       "3            78        4.74       broken clouds  \n",
       "4            98        4.54          light rain  \n",
       "..          ...         ...                 ...  \n",
       "638          91        1.36     overcast clouds  \n",
       "639          20       16.11          few clouds  \n",
       "640           0        5.77           clear sky  \n",
       "641          81        1.99       broken clouds  \n",
       "642          20        1.01          few clouds  \n",
       "\n",
       "[643 rows x 9 columns]"
      ]
     },
     "execution_count": 76,
     "metadata": {},
     "output_type": "execute_result"
    }
   ],
   "source": [
    "# Convert the array of dictionaries to a Pandas DataFrame.\n",
    "city_data_dirty_df = pd.DataFrame(city_data)\n",
    "city_data_dirty_df"
   ]
  },
  {
   "cell_type": "code",
   "execution_count": 77,
   "metadata": {},
   "outputs": [
    {
     "data": {
      "text/plain": [
       "City                   0\n",
       "Country                0\n",
       "Lat                    0\n",
       "Lng                    0\n",
       "Max Temp               0\n",
       "Humidity               0\n",
       "Cloudiness             0\n",
       "Wind Speed             0\n",
       "Current Description    0\n",
       "dtype: int64"
      ]
     },
     "execution_count": 77,
     "metadata": {},
     "output_type": "execute_result"
    }
   ],
   "source": [
    "city_data_dirty_df.isnull().sum()"
   ]
  },
  {
   "cell_type": "code",
   "execution_count": 78,
   "metadata": {},
   "outputs": [
    {
     "data": {
      "text/html": [
       "<div>\n",
       "<style scoped>\n",
       "    .dataframe tbody tr th:only-of-type {\n",
       "        vertical-align: middle;\n",
       "    }\n",
       "\n",
       "    .dataframe tbody tr th {\n",
       "        vertical-align: top;\n",
       "    }\n",
       "\n",
       "    .dataframe thead th {\n",
       "        text-align: right;\n",
       "    }\n",
       "</style>\n",
       "<table border=\"1\" class=\"dataframe\">\n",
       "  <thead>\n",
       "    <tr style=\"text-align: right;\">\n",
       "      <th></th>\n",
       "      <th>City</th>\n",
       "      <th>Country</th>\n",
       "      <th>Lat</th>\n",
       "      <th>Lng</th>\n",
       "      <th>Max Temp</th>\n",
       "      <th>Humidity</th>\n",
       "      <th>Cloudiness</th>\n",
       "      <th>Wind Speed</th>\n",
       "      <th>Current Description</th>\n",
       "    </tr>\n",
       "  </thead>\n",
       "  <tbody>\n",
       "    <tr>\n",
       "      <th>0</th>\n",
       "      <td>Imbituba</td>\n",
       "      <td>BR</td>\n",
       "      <td>-28.2400</td>\n",
       "      <td>-48.6703</td>\n",
       "      <td>69.69</td>\n",
       "      <td>76</td>\n",
       "      <td>48</td>\n",
       "      <td>7.61</td>\n",
       "      <td>scattered clouds</td>\n",
       "    </tr>\n",
       "    <tr>\n",
       "      <th>1</th>\n",
       "      <td>Atuona</td>\n",
       "      <td>PF</td>\n",
       "      <td>-9.8000</td>\n",
       "      <td>-139.0333</td>\n",
       "      <td>79.34</td>\n",
       "      <td>69</td>\n",
       "      <td>18</td>\n",
       "      <td>14.18</td>\n",
       "      <td>few clouds</td>\n",
       "    </tr>\n",
       "    <tr>\n",
       "      <th>2</th>\n",
       "      <td>Rikitea</td>\n",
       "      <td>PF</td>\n",
       "      <td>-23.1203</td>\n",
       "      <td>-134.9692</td>\n",
       "      <td>76.10</td>\n",
       "      <td>81</td>\n",
       "      <td>69</td>\n",
       "      <td>12.80</td>\n",
       "      <td>broken clouds</td>\n",
       "    </tr>\n",
       "    <tr>\n",
       "      <th>3</th>\n",
       "      <td>Bluff</td>\n",
       "      <td>NZ</td>\n",
       "      <td>-46.6000</td>\n",
       "      <td>168.3333</td>\n",
       "      <td>49.80</td>\n",
       "      <td>70</td>\n",
       "      <td>78</td>\n",
       "      <td>4.74</td>\n",
       "      <td>broken clouds</td>\n",
       "    </tr>\n",
       "    <tr>\n",
       "      <th>4</th>\n",
       "      <td>Marawi</td>\n",
       "      <td>PH</td>\n",
       "      <td>7.9986</td>\n",
       "      <td>124.2928</td>\n",
       "      <td>74.64</td>\n",
       "      <td>83</td>\n",
       "      <td>98</td>\n",
       "      <td>4.54</td>\n",
       "      <td>light rain</td>\n",
       "    </tr>\n",
       "    <tr>\n",
       "      <th>...</th>\n",
       "      <td>...</td>\n",
       "      <td>...</td>\n",
       "      <td>...</td>\n",
       "      <td>...</td>\n",
       "      <td>...</td>\n",
       "      <td>...</td>\n",
       "      <td>...</td>\n",
       "      <td>...</td>\n",
       "      <td>...</td>\n",
       "    </tr>\n",
       "    <tr>\n",
       "      <th>638</th>\n",
       "      <td>Felsoszentivan</td>\n",
       "      <td>HU</td>\n",
       "      <td>46.1971</td>\n",
       "      <td>19.1869</td>\n",
       "      <td>59.14</td>\n",
       "      <td>77</td>\n",
       "      <td>91</td>\n",
       "      <td>1.36</td>\n",
       "      <td>overcast clouds</td>\n",
       "    </tr>\n",
       "    <tr>\n",
       "      <th>639</th>\n",
       "      <td>Kralendijk</td>\n",
       "      <td>BQ</td>\n",
       "      <td>12.1500</td>\n",
       "      <td>-68.2667</td>\n",
       "      <td>80.58</td>\n",
       "      <td>78</td>\n",
       "      <td>20</td>\n",
       "      <td>16.11</td>\n",
       "      <td>few clouds</td>\n",
       "    </tr>\n",
       "    <tr>\n",
       "      <th>640</th>\n",
       "      <td>Beloha</td>\n",
       "      <td>MG</td>\n",
       "      <td>-25.1667</td>\n",
       "      <td>45.0500</td>\n",
       "      <td>57.79</td>\n",
       "      <td>81</td>\n",
       "      <td>0</td>\n",
       "      <td>5.77</td>\n",
       "      <td>clear sky</td>\n",
       "    </tr>\n",
       "    <tr>\n",
       "      <th>641</th>\n",
       "      <td>Gallup</td>\n",
       "      <td>US</td>\n",
       "      <td>35.5281</td>\n",
       "      <td>-108.7426</td>\n",
       "      <td>76.01</td>\n",
       "      <td>23</td>\n",
       "      <td>81</td>\n",
       "      <td>1.99</td>\n",
       "      <td>broken clouds</td>\n",
       "    </tr>\n",
       "    <tr>\n",
       "      <th>642</th>\n",
       "      <td>Cumberland</td>\n",
       "      <td>US</td>\n",
       "      <td>35.0502</td>\n",
       "      <td>-78.8664</td>\n",
       "      <td>79.30</td>\n",
       "      <td>85</td>\n",
       "      <td>20</td>\n",
       "      <td>1.01</td>\n",
       "      <td>few clouds</td>\n",
       "    </tr>\n",
       "  </tbody>\n",
       "</table>\n",
       "<p>643 rows × 9 columns</p>\n",
       "</div>"
      ],
      "text/plain": [
       "               City Country      Lat       Lng  Max Temp  Humidity  \\\n",
       "0          Imbituba      BR -28.2400  -48.6703     69.69        76   \n",
       "1            Atuona      PF  -9.8000 -139.0333     79.34        69   \n",
       "2           Rikitea      PF -23.1203 -134.9692     76.10        81   \n",
       "3             Bluff      NZ -46.6000  168.3333     49.80        70   \n",
       "4            Marawi      PH   7.9986  124.2928     74.64        83   \n",
       "..              ...     ...      ...       ...       ...       ...   \n",
       "638  Felsoszentivan      HU  46.1971   19.1869     59.14        77   \n",
       "639      Kralendijk      BQ  12.1500  -68.2667     80.58        78   \n",
       "640          Beloha      MG -25.1667   45.0500     57.79        81   \n",
       "641          Gallup      US  35.5281 -108.7426     76.01        23   \n",
       "642      Cumberland      US  35.0502  -78.8664     79.30        85   \n",
       "\n",
       "     Cloudiness  Wind Speed Current Description  \n",
       "0            48        7.61    scattered clouds  \n",
       "1            18       14.18          few clouds  \n",
       "2            69       12.80       broken clouds  \n",
       "3            78        4.74       broken clouds  \n",
       "4            98        4.54          light rain  \n",
       "..          ...         ...                 ...  \n",
       "638          91        1.36     overcast clouds  \n",
       "639          20       16.11          few clouds  \n",
       "640           0        5.77           clear sky  \n",
       "641          81        1.99       broken clouds  \n",
       "642          20        1.01          few clouds  \n",
       "\n",
       "[643 rows x 9 columns]"
      ]
     },
     "execution_count": 78,
     "metadata": {},
     "output_type": "execute_result"
    }
   ],
   "source": [
    "city_data_dirty_df.dropna()"
   ]
  },
  {
   "cell_type": "code",
   "execution_count": 79,
   "metadata": {},
   "outputs": [],
   "source": [
    "#convert dirty dataframe to a new cleaned dataframe without nulls\n",
    "city_data_df = pd.DataFrame(city_data_dirty_df.dropna())"
   ]
  },
  {
   "cell_type": "markdown",
   "metadata": {},
   "source": [
    "## check if all nulls were completely removed"
   ]
  },
  {
   "cell_type": "code",
   "execution_count": 80,
   "metadata": {},
   "outputs": [
    {
     "data": {
      "text/plain": [
       "City                   0\n",
       "Country                0\n",
       "Lat                    0\n",
       "Lng                    0\n",
       "Max Temp               0\n",
       "Humidity               0\n",
       "Cloudiness             0\n",
       "Wind Speed             0\n",
       "Current Description    0\n",
       "dtype: int64"
      ]
     },
     "execution_count": 80,
     "metadata": {},
     "output_type": "execute_result"
    }
   ],
   "source": [
    "city_data_df.isnull().sum()"
   ]
  },
  {
   "cell_type": "code",
   "execution_count": 81,
   "metadata": {},
   "outputs": [
    {
     "data": {
      "text/plain": [
       "City                   643\n",
       "Country                643\n",
       "Lat                    643\n",
       "Lng                    643\n",
       "Max Temp               643\n",
       "Humidity               643\n",
       "Cloudiness             643\n",
       "Wind Speed             643\n",
       "Current Description    643\n",
       "dtype: int64"
      ]
     },
     "execution_count": 81,
     "metadata": {},
     "output_type": "execute_result"
    }
   ],
   "source": [
    "city_data_df.notnull().sum()"
   ]
  },
  {
   "cell_type": "code",
   "execution_count": 82,
   "metadata": {},
   "outputs": [
    {
     "data": {
      "text/plain": [
       "City                   643\n",
       "Country                643\n",
       "Lat                    643\n",
       "Lng                    643\n",
       "Max Temp               643\n",
       "Humidity               643\n",
       "Cloudiness             643\n",
       "Wind Speed             643\n",
       "Current Description    643\n",
       "dtype: int64"
      ]
     },
     "execution_count": 82,
     "metadata": {},
     "output_type": "execute_result"
    }
   ],
   "source": [
    "city_data_df.count()"
   ]
  },
  {
   "cell_type": "markdown",
   "metadata": {},
   "source": [
    "### Reorder columns"
   ]
  },
  {
   "cell_type": "code",
   "execution_count": 83,
   "metadata": {},
   "outputs": [],
   "source": [
    "### Change order of columns if neccesary\n",
    "#new_column_order= [\"City\",\"Country\",'Lat','Lng','Max Temp', 'Humidity','Cloudiness', 'Wind Speed','Current Description']\n",
    "#city_data_df = city_data_df[new_column_order]"
   ]
  },
  {
   "cell_type": "code",
   "execution_count": null,
   "metadata": {},
   "outputs": [],
   "source": [
    "city_data_df.head(1)"
   ]
  },
  {
   "cell_type": "markdown",
   "metadata": {},
   "source": [
    "# Convert Dataframe to CSV"
   ]
  },
  {
   "cell_type": "code",
   "execution_count": 86,
   "metadata": {},
   "outputs": [],
   "source": [
    "# Create the output file (CSV).\n",
    "output_data_file = \"WeatherPy_Database.csv\"\n",
    "# Export the City_Data into a CSV.\n",
    "city_data_df.to_csv(output_data_file, index_label=\"City_ID\")"
   ]
  },
  {
   "cell_type": "code",
   "execution_count": null,
   "metadata": {},
   "outputs": [],
   "source": []
  },
  {
   "cell_type": "markdown",
   "metadata": {},
   "source": [
    "# Create Plot\n",
    "## Gather Plotting data"
   ]
  },
  {
   "cell_type": "code",
   "execution_count": null,
   "metadata": {},
   "outputs": [],
   "source": [
    "# Extract relevant fields from the DataFrame for plotting.\n",
    "lats = city_data_df[\"Lat\"]\n",
    "max_temps = city_data_df[\"Max Temp\"]\n",
    "humidity = city_data_df[\"Humidity\"]\n",
    "cloudiness = city_data_df[\"Cloudiness\"]\n",
    "wind_speed = city_data_df[\"Wind Speed\"]"
   ]
  },
  {
   "cell_type": "markdown",
   "metadata": {},
   "source": [
    "## Get today's date"
   ]
  },
  {
   "cell_type": "code",
   "execution_count": null,
   "metadata": {},
   "outputs": [],
   "source": [
    "# Import the time module.\n",
    "import time\n",
    "# Get today's date in seconds.\n",
    "today = time.time()\n",
    "today"
   ]
  },
  {
   "cell_type": "code",
   "execution_count": null,
   "metadata": {},
   "outputs": [],
   "source": [
    "today = time.strftime(\"%x\")\n",
    "today"
   ]
  },
  {
   "cell_type": "markdown",
   "metadata": {},
   "source": [
    "### Latitude vs max temp"
   ]
  },
  {
   "cell_type": "code",
   "execution_count": null,
   "metadata": {},
   "outputs": [],
   "source": [
    "# Import time module\n",
    "import time\n",
    "\n",
    "# Build the scatter plot for latitude vs. max temperature.\n",
    "plt.scatter(lats,\n",
    "            max_temps,\n",
    "            edgecolor=\"black\", linewidths=1, marker=\"o\",\n",
    "            alpha=0.8, label=\"Cities\")\n",
    "\n",
    "# Incorporate the other graph properties.\n",
    "plt.title(f\"City Latitude vs. Max Temperature \"+ time.strftime(\"%x\"))\n",
    "plt.ylabel(\"Max Temperature (F)\")\n",
    "plt.xlabel(\"Latitude\")\n",
    "plt.grid(True)\n",
    "\n",
    "# Save the figure.\n",
    "plt.savefig(\"weather_data/Fig1.png\")\n",
    "\n",
    "# Show plot.\n",
    "plt.show()"
   ]
  },
  {
   "cell_type": "markdown",
   "metadata": {},
   "source": [
    "### Latitude vs Humidity"
   ]
  },
  {
   "cell_type": "code",
   "execution_count": null,
   "metadata": {},
   "outputs": [],
   "source": [
    "# Build the scatter plots for latitude vs. humidity.\n",
    "plt.scatter(lats,\n",
    "            humidity,\n",
    "            edgecolor=\"black\", linewidths=1, marker=\"o\",\n",
    "            alpha=0.8, label=\"Cities\")\n",
    "\n",
    "# Incorporate the other graph properties.\n",
    "plt.title(f\"City Latitude vs. Humidity \"+ time.strftime(\"%x\"))\n",
    "plt.ylabel(\"Humidity (%)\")\n",
    "plt.xlabel(\"Latitude\")\n",
    "plt.grid(True)\n",
    "# Save the figure.\n",
    "plt.savefig(\"weather_data/Fig2.png\")\n",
    "# Show plot.\n",
    "plt.show()"
   ]
  },
  {
   "cell_type": "markdown",
   "metadata": {},
   "source": [
    "### Latitude vs Humidity"
   ]
  },
  {
   "cell_type": "code",
   "execution_count": null,
   "metadata": {},
   "outputs": [],
   "source": [
    "# Build the scatter plots for latitude vs. cloudiness.\n",
    "plt.scatter(lats,\n",
    "            cloudiness,\n",
    "            edgecolor=\"black\", linewidths=1, marker=\"o\",\n",
    "            alpha=0.8, label=\"Cities\")\n",
    "\n",
    "# Incorporate the other graph properties.\n",
    "plt.title(f\"City Latitude vs. Cloudiness (%) \"+ time.strftime(\"%x\"))\n",
    "plt.ylabel(\"Cloudiness (%)\")\n",
    "plt.xlabel(\"Latitude\")\n",
    "plt.grid(True)\n",
    "# Save the figure.\n",
    "plt.savefig(\"weather_data/Fig3.png\")\n",
    "# Show plot.\n",
    "plt.show()"
   ]
  },
  {
   "cell_type": "markdown",
   "metadata": {},
   "source": [
    "### Latitude vs Wind Speed"
   ]
  },
  {
   "cell_type": "code",
   "execution_count": null,
   "metadata": {},
   "outputs": [],
   "source": [
    "# Build the scatter plots for latitude vs. wind speed.\n",
    "plt.scatter(lats,\n",
    "            wind_speed,\n",
    "            edgecolor=\"black\", linewidths=1, marker=\"o\",\n",
    "            alpha=0.8, label=\"Cities\")\n",
    "\n",
    "# Incorporate the other graph properties.\n",
    "plt.title(f\"City Latitude vs. Wind Speed \"+ time.strftime(\"%x\"))\n",
    "plt.ylabel(\"Wind Speed (mph)\")\n",
    "plt.xlabel(\"Latitude\")\n",
    "plt.grid(True)\n",
    "# Save the figure.\n",
    "plt.savefig(\"weather_data/Fig4.png\")\n",
    "# Show plot.\n",
    "plt.show()"
   ]
  },
  {
   "cell_type": "markdown",
   "metadata": {},
   "source": [
    "# Linear Regression\n",
    "### Fitting a line using data from scatter plot\n",
    "### Try on all new datasets\n",
    "#### y = mx + b (y-depedent variable (dependent on x), m-slope,x-independent variable,y-intercept)\n",
    "#### use linregress method() ... linregress(independent variable(x), dependent variable(y))\n",
    "#### scipy.stats import lingress\n",
    "#### import matplotlib.pyplot as plt\n",
    "#### in linregress the higher the standard error the less the model describes the data sufficiently\n",
    "#### (slope, intercept, rval, pval, stderr) = linregress(independent(x),dependent(y))\n",
    "#### calculate the line....line equals... line_eq = \"y = \" + str(round(slope,2)) + \"x + \" + str(round(intercept,2))"
   ]
  },
  {
   "cell_type": "code",
   "execution_count": null,
   "metadata": {},
   "outputs": [],
   "source": [
    "# Import linear regression from the SciPy stats module.\n",
    "from scipy.stats import linregress"
   ]
  },
  {
   "cell_type": "code",
   "execution_count": null,
   "metadata": {},
   "outputs": [],
   "source": [
    "# Create an equal number of latitudes and temperatures.\n",
    "lats = [42.5, 43.9, 8.1, 36.8, 79.9, 69.1, 25.7, 15.3, 12.7, 64.5]\n",
    "temps = [80.5, 75.3, 90.9, 90.0, 40.4, 62.3, 85.4, 79.6, 72.5, 72.0]"
   ]
  },
  {
   "cell_type": "markdown",
   "metadata": {},
   "source": [
    "## x,y... which variable data set does not depend on the other...thats X"
   ]
  },
  {
   "cell_type": "code",
   "execution_count": null,
   "metadata": {},
   "outputs": [],
   "source": [
    "linregress(lats,temps) "
   ]
  },
  {
   "cell_type": "markdown",
   "metadata": {},
   "source": [
    "## Perform linear regression. \n",
    "### Adds data to each variable"
   ]
  },
  {
   "cell_type": "code",
   "execution_count": null,
   "metadata": {},
   "outputs": [],
   "source": [
    "# Perform linear regression. \n",
    "# Adds data to each variable\n",
    "(slope, intercept, r_value, p_value, std_err) = linregress(lats, temps)"
   ]
  },
  {
   "cell_type": "markdown",
   "metadata": {},
   "source": [
    "## Get the equation of the line."
   ]
  },
  {
   "cell_type": "code",
   "execution_count": null,
   "metadata": {},
   "outputs": [],
   "source": [
    "# Get the equation of the line.\n",
    "line_eq = \"y = \" + str(round(slope,2)) + \"x + \" + str(round(intercept,2))\n",
    "print(line_eq)\n"
   ]
  },
  {
   "cell_type": "code",
   "execution_count": null,
   "metadata": {},
   "outputs": [],
   "source": [
    "print(f\"The p-value is: {p_value:.3f}\")"
   ]
  },
  {
   "cell_type": "markdown",
   "metadata": {},
   "source": [
    "# AVOID ERROR\n",
    "##### The slope, intercept, r_value, p_value, and std_errare always returned when we run the \n",
    "##### linregress function. If you don't want to calculate one of these values but do not add \n",
    "##### it inside the parentheses, you'll get a ValueError: too many values to unpack.\n",
    "\n",
    "##### To prevent this error, add a comma and underscore for each value you don't want to calculate.\n",
    "\n",
    "##### For instance, if you don't want to print out the p-value and the standard error, \n",
    "##### write your function as (slope, intercept, r_value, _, _) = linregress(x, y)."
   ]
  },
  {
   "cell_type": "markdown",
   "metadata": {},
   "source": [
    "# Understanding p-value and significance of your data\n",
    "##### In statistics, the p-value is used to determine significance of results. In most cases,\n",
    "##### data scientists like to use a significance level of 0.05, which means:\n",
    "\n",
    "### A linear regression with a p-value > 0.05 is not statistically significant.\n",
    "\n",
    "### A linear regression with a p-value < 0.05 is statistically significant.\n",
    "\n",
    "##### P-values can also be used to justify rejecting a null hypothesis. We will discuss\n",
    "##### p-values and hypothesis testing in more detail later in the course."
   ]
  },
  {
   "cell_type": "code",
   "execution_count": null,
   "metadata": {},
   "outputs": [],
   "source": []
  },
  {
   "cell_type": "markdown",
   "metadata": {},
   "source": [
    "# Perform list comprehension \n",
    "### on the latitudes by multiplying each latitude by the slope and adding the intercept\n",
    "## Calculate the regression line \"y values\" from the slope and intercept."
   ]
  },
  {
   "cell_type": "code",
   "execution_count": null,
   "metadata": {},
   "outputs": [],
   "source": [
    "# Calculate the regression line \"y values\" from the slope and intercept.\n",
    "regress_values = [(lat * slope + intercept) for lat in lats]"
   ]
  },
  {
   "cell_type": "code",
   "execution_count": null,
   "metadata": {},
   "outputs": [],
   "source": [
    "# Import Matplotlib.\n",
    "import matplotlib.pyplot as plt\n",
    "# Create a scatter plot of the x and y values.\n",
    "plt.scatter(lats,temps)\n",
    "# Plot the regression line with the x-values and the y coordinates based on the intercept and slope.\n",
    "plt.plot(lats,regress_values,\"r\")\n",
    "# Annotate the text for the line equation and add its coordinates.\n",
    "plt.annotate(line_eq, (10,40), fontsize=15, color=\"red\")\n",
    "plt.xlabel('Latitude')\n",
    "plt.ylabel('Temp')\n",
    "plt.show()"
   ]
  },
  {
   "cell_type": "markdown",
   "metadata": {},
   "source": [
    "## Let's review what ^this code^ does:\n",
    "\n",
    "### We plot the latitudes and temperatures on a scatter plot.\n",
    "### We create a line plot of our regression line with the ideal temperatures.\n",
    "### We annotate the line plot by adding the equation of our regression line, where the x-axis is 10 and the y-axis is 40, and specify the font and color.\n",
    "### We create x- and y-axes labels.\n",
    "#### ==========================================================================="
   ]
  },
  {
   "cell_type": "markdown",
   "metadata": {},
   "source": [
    "## Linear regression function\n",
    "### Still linear regression\n",
    "###  Correlation Between Latitude and Maximum Temperature"
   ]
  },
  {
   "cell_type": "code",
   "execution_count": null,
   "metadata": {},
   "outputs": [],
   "source": [
    "# Import linregress\n",
    "from scipy.stats import linregress\n",
    "\n",
    "# Create a function to create perform linear regression on the weather data\n",
    "# and plot a regression line and the equation with the data. \n",
    "# TEXT COORDINATES is where to place text in graph\n",
    "def plot_linear_regression(x_values, y_values, title, y_label, text_coordinates):\n",
    "\n",
    "    # Run regression on hemisphere weather data.\n",
    "    (slope, intercept, r_value, p_value, std_err) = linregress(x_values, y_values)\n",
    "\n",
    "    # Calculate the regression line \"y values\" from the slope and intercept.\n",
    "    regress_values = x_values * slope + intercept\n",
    "    # Get the equation of the line.\n",
    "    line_eq = \"y = \" + str(round(slope,2)) + \"x + \" + str(round(intercept,2))\n",
    "    # Create a scatter plot and plot the regression line.\n",
    "    plt.scatter(x_values,y_values)\n",
    "    plt.plot(x_values,regress_values,\"r\")\n",
    "    # Annotate the text for the line equation.\n",
    "    plt.annotate(line_eq, text_coordinates, fontsize=15, color=\"red\")\n",
    "    plt.xlabel('Latitude')\n",
    "    plt.ylabel(y_label)\n",
    "    plt.show()"
   ]
  },
  {
   "cell_type": "markdown",
   "metadata": {},
   "source": [
    "### Create new dataframe using .loc method\n",
    "### row = df.loc[row_index]\n",
    "### this is one record"
   ]
  },
  {
   "cell_type": "code",
   "execution_count": null,
   "metadata": {},
   "outputs": [],
   "source": [
    "#create new dataframe\n",
    "index13 = city_data_df.loc[13]"
   ]
  },
  {
   "cell_type": "code",
   "execution_count": null,
   "metadata": {},
   "outputs": [],
   "source": [
    "index13.head(10)"
   ]
  },
  {
   "cell_type": "markdown",
   "metadata": {},
   "source": [
    "### Create new dataframe based on value ex. city_data_df[\"Lat\"] >= 0\n",
    "### Add to .loc for multiple records"
   ]
  },
  {
   "cell_type": "code",
   "execution_count": null,
   "metadata": {},
   "outputs": [],
   "source": [
    "city_data_df[\"Lat\"] >= 0"
   ]
  },
  {
   "cell_type": "code",
   "execution_count": null,
   "metadata": {},
   "outputs": [],
   "source": [
    "city_data_df.loc[(city_data_df[\"Lat\"] >= 0)].head()"
   ]
  },
  {
   "cell_type": "code",
   "execution_count": null,
   "metadata": {},
   "outputs": [],
   "source": [
    "# Create Northern and Southern Hemisphere DataFrames using .loc method\n",
    "northern_hemi_df = city_data_df.loc[(city_data_df[\"Lat\"] >= 0)]\n",
    "southern_hemi_df = city_data_df.loc[(city_data_df[\"Lat\"] < 0)]"
   ]
  },
  {
   "cell_type": "markdown",
   "metadata": {},
   "source": [
    "## Call plot_linear_regression function\n",
    "### Search for and review ^this function^ whenever things looks a lil confusing\n",
    "### Perform linear regression on new dataframes"
   ]
  },
  {
   "cell_type": "markdown",
   "metadata": {},
   "source": [
    "### Temperature (direct correllation)"
   ]
  },
  {
   "cell_type": "code",
   "execution_count": null,
   "metadata": {},
   "outputs": [],
   "source": [
    "# Linear regression on the Northern Hemisphere\n",
    "x_values = northern_hemi_df[\"Lat\"]\n",
    "y_values = northern_hemi_df[\"Max Temp\"]\n",
    "# Call the function.\n",
    "plot_linear_regression(x_values, y_values,\n",
    "                       'Linear Regression on the Northern Hemisphere \\\n",
    "                        for Maximum Temperature', 'Max Temp',(10,40))"
   ]
  },
  {
   "cell_type": "code",
   "execution_count": null,
   "metadata": {},
   "outputs": [],
   "source": [
    "# Linear regression on the Southern Hemisphere\n",
    "x_values = southern_hemi_df[\"Lat\"]\n",
    "y_values = southern_hemi_df[\"Max Temp\"]\n",
    "# Call the function.\n",
    "plot_linear_regression(x_values, y_values,\n",
    "                       'Linear Regression on the Southern Hemisphere \\\n",
    "                        for Maximum Temperature', 'Max Temp',(-50,90))"
   ]
  },
  {
   "cell_type": "markdown",
   "metadata": {},
   "source": [
    "### Humidity (little coorelation)"
   ]
  },
  {
   "cell_type": "code",
   "execution_count": null,
   "metadata": {},
   "outputs": [],
   "source": [
    "\n",
    "# Linear regression on the Northern Hemisphere\n",
    "x_values = northern_hemi_df[\"Lat\"]\n",
    "y_values = northern_hemi_df[\"Humidity\"]\n",
    "# Call the function.\n",
    "plot_linear_regression(x_values, y_values,\n",
    "                       'Linear Regression on the Northern Hemisphere \\\n",
    "                        for % Humidity', '% Humidity',(40,10))"
   ]
  },
  {
   "cell_type": "code",
   "execution_count": null,
   "metadata": {},
   "outputs": [],
   "source": [
    "# Linear regression on the Southern Hemisphere\n",
    "x_values = southern_hemi_df[\"Lat\"]\n",
    "y_values = southern_hemi_df[\"Humidity\"]\n",
    "# Call the function.\n",
    "plot_linear_regression(x_values, y_values,\n",
    "                       'Linear Regression on the Southern Hemisphere \\\n",
    "                        for % Humidity', '% Humidity',(-55,20))"
   ]
  },
  {
   "cell_type": "markdown",
   "metadata": {},
   "source": [
    "### Cloudiness (no correlation)"
   ]
  },
  {
   "cell_type": "code",
   "execution_count": null,
   "metadata": {},
   "outputs": [],
   "source": [
    "# Linear regression on the Southern Hemisphere\n",
    "x_values = southern_hemi_df[\"Lat\"]\n",
    "y_values = southern_hemi_df[\"Cloudiness\"]\n",
    "# Call the function.\n",
    "plot_linear_regression(x_values, y_values,\n",
    "                       'Linear Regression on the Southern Hemisphere \\\n",
    "                        for % Cloudiness', '% Cloudiness',(-50,60))"
   ]
  },
  {
   "cell_type": "code",
   "execution_count": null,
   "metadata": {},
   "outputs": [],
   "source": [
    "# Linear regression on the Southern Hemisphere\n",
    "x_values = northern_hemi_df[\"Lat\"]\n",
    "y_values = northern_hemi_df[\"Cloudiness\"]\n",
    "# Call the function.\n",
    "plot_linear_regression(x_values, y_values,\n",
    "                       'Linear Regression on the Southern Hemisphere \\\n",
    "                        for % Cloudiness', '% Cloudiness',(20,60))"
   ]
  },
  {
   "cell_type": "code",
   "execution_count": null,
   "metadata": {},
   "outputs": [],
   "source": [
    "print(f'R Value {r_value}, P Value {p_value}')"
   ]
  },
  {
   "cell_type": "markdown",
   "metadata": {},
   "source": [
    "### Wind Speed"
   ]
  },
  {
   "cell_type": "code",
   "execution_count": null,
   "metadata": {},
   "outputs": [],
   "source": [
    "# Linear regression on the Northern Hemisphere\n",
    "x_values = northern_hemi_df[\"Lat\"]\n",
    "y_values = northern_hemi_df[\"Wind Speed\"]\n",
    "# Call the function.\n",
    "plot_linear_regression(x_values, y_values,\n",
    "                       'Linear Regression on the Northern Hemisphere \\\n",
    "                        for Wind Speed', 'Wind Speed',(40,24))"
   ]
  },
  {
   "cell_type": "code",
   "execution_count": null,
   "metadata": {},
   "outputs": [],
   "source": [
    "# Linear regression on the Northern Hemisphere\n",
    "x_values = southern_hemi_df[\"Lat\"]\n",
    "y_values = southern_hemi_df[\"Wind Speed\"]\n",
    "# Call the function.\n",
    "plot_linear_regression(x_values, y_values,\n",
    "                       'Linear Regression on the Northern Hemisphere \\\n",
    "                        for Wind Speed', 'Wind Speed',(-23,22))"
   ]
  },
  {
   "cell_type": "code",
   "execution_count": null,
   "metadata": {},
   "outputs": [],
   "source": [
    "r_value"
   ]
  },
  {
   "cell_type": "markdown",
   "metadata": {},
   "source": [
    "# Install Gmaps and update jupyter notebooks\n",
    "\n",
    "### Create Google API key\n",
    "### conda install -c conda-forge gmaps (at conda cmd prompt)\n",
    "### jupyter nbextension enable --py --sys-prefix widgetsnbextension (Windows CMD Admin priv prompt)\n",
    "### pip install gmaps (at conda cmd prompt)\n",
    "### jupyter nbextension enable --py --sys-prefix gmaps (Windows CMD Admin priv prompt)"
   ]
  },
  {
   "cell_type": "code",
   "execution_count": null,
   "metadata": {},
   "outputs": [],
   "source": []
  }
 ],
 "metadata": {
  "kernelspec": {
   "display_name": "Python 3",
   "language": "python",
   "name": "python3"
  },
  "language_info": {
   "codemirror_mode": {
    "name": "ipython",
    "version": 3
   },
   "file_extension": ".py",
   "mimetype": "text/x-python",
   "name": "python",
   "nbconvert_exporter": "python",
   "pygments_lexer": "ipython3",
   "version": "3.8.5"
  }
 },
 "nbformat": 4,
 "nbformat_minor": 4
}
