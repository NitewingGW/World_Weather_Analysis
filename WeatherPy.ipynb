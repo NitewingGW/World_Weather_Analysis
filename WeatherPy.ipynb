{
 "cells": [
  {
   "cell_type": "code",
   "execution_count": 60,
   "metadata": {},
   "outputs": [],
   "source": [
    "import random\n",
    "import numpy as np\n",
    "import matplotlib.pyplot as plt\n",
    "import timeit #time to process\n",
    "import requests\n",
    "from datetime import datetime\n",
    "\n",
    "from config import weather_api_key\n",
    "from citipy import citipy # Use the citipy module to determine city based on latitude and longitude."
   ]
  },
  {
   "cell_type": "code",
   "execution_count": null,
   "metadata": {},
   "outputs": [],
   "source": []
  },
  {
   "cell_type": "code",
   "execution_count": 20,
   "metadata": {},
   "outputs": [
    {
     "data": {
      "text/plain": [
       "'2.24.0'"
      ]
     },
     "execution_count": 20,
     "metadata": {},
     "output_type": "execute_result"
    }
   ],
   "source": [
    "requests.__version__\n",
    "#https://requests.kennethreitz.org/en/master/\n"
   ]
  },
  {
   "cell_type": "code",
   "execution_count": 21,
   "metadata": {},
   "outputs": [
    {
     "data": {
      "text/plain": [
       "[-84.44702953201985,\n",
       " 7.914911382087724,\n",
       " 31.355193325787376,\n",
       " -89.38178766268466,\n",
       " -78.04511902748966,\n",
       " 27.5465611584234,\n",
       " -86.79055346178166,\n",
       " -72.52828772051598,\n",
       " 32.89316011244349,\n",
       " 12.106682226061421]"
      ]
     },
     "execution_count": 21,
     "metadata": {},
     "output_type": "execute_result"
    }
   ],
   "source": [
    "x = 1\n",
    "latitudes = []\n",
    "while x < 11:\n",
    "    random_lat = random.randint(-90, 89) + random.random()\n",
    "    latitudes.append(random_lat)\n",
    "    x += 1\n",
    "latitudes"
   ]
  },
  {
   "cell_type": "code",
   "execution_count": 22,
   "metadata": {},
   "outputs": [
    {
     "data": {
      "text/plain": [
       "-28.99445936449778"
      ]
     },
     "execution_count": 22,
     "metadata": {},
     "output_type": "execute_result"
    }
   ],
   "source": [
    "#can not generate whole numbers\n",
    "random.uniform(-90, 90)"
   ]
  },
  {
   "cell_type": "code",
   "execution_count": 23,
   "metadata": {},
   "outputs": [
    {
     "data": {
      "text/plain": [
       "-24"
      ]
     },
     "execution_count": 23,
     "metadata": {},
     "output_type": "execute_result"
    }
   ],
   "source": [
    "# only generate whole numbers\n",
    "# step is used to seperate the random numbers by a minimum amount\n",
    "random.randrange(-90, 90, step=3)"
   ]
  },
  {
   "cell_type": "code",
   "execution_count": 24,
   "metadata": {},
   "outputs": [
    {
     "data": {
      "text/plain": [
       "62"
      ]
     },
     "execution_count": 24,
     "metadata": {},
     "output_type": "execute_result"
    }
   ],
   "source": [
    "#random whole numbers from with in a given range\n",
    "random.randrange(-90, 90, step=1)"
   ]
  },
  {
   "cell_type": "code",
   "execution_count": 25,
   "metadata": {},
   "outputs": [
    {
     "data": {
      "text/plain": [
       "81"
      ]
     },
     "execution_count": 25,
     "metadata": {},
     "output_type": "execute_result"
    }
   ],
   "source": [
    "#random whole numbers from with in a given range\n",
    "random.randint(-90,90)"
   ]
  },
  {
   "cell_type": "code",
   "execution_count": 26,
   "metadata": {},
   "outputs": [
    {
     "data": {
      "text/plain": [
       "array([  1.09739375,  43.30809485,  88.75797722,  -9.50092803,\n",
       "        -7.76261415, -38.57737564,  74.17209557,  16.50842538,\n",
       "       -27.08869747,  89.45852007,   4.08364249,  65.81874268,\n",
       "       -37.47979464,  82.48684943, -10.47690815, -65.97601785,\n",
       "        17.90085712,  59.38164088,  43.3381235 ,  40.89478539,\n",
       "         9.86008449, -44.51550797,  18.06263199,  71.89179015,\n",
       "       -52.4958868 , -77.56129874,  55.61236614,   9.45574242,\n",
       "         4.44317369, -15.06969075, -77.17397824,  81.52569539,\n",
       "         2.41878827,  -2.98067227, -36.59746685,  71.83051681,\n",
       "        88.06294814,  44.61519231, -73.1754895 , -29.86317298,\n",
       "       -12.93627968,  33.15045078,  62.87846812, -34.320833  ,\n",
       "        88.99659652,  17.20543804, -22.5747996 ,  35.819973  ,\n",
       "       -67.44805196,  -4.17863631])"
      ]
     },
     "execution_count": 26,
     "metadata": {},
     "output_type": "execute_result"
    }
   ],
   "source": [
    "# generate and array of x (size) amount of numbers\n",
    "np.random.uniform(-90.000, 90.000, size=50)"
   ]
  },
  {
   "cell_type": "code",
   "execution_count": 27,
   "metadata": {},
   "outputs": [
    {
     "name": "stdout",
     "output_type": "stream",
     "text": [
      "17 µs ± 1.24 µs per loop (mean ± std. dev. of 7 runs, 100000 loops each)\n"
     ]
    }
   ],
   "source": [
    "# time to process line\n",
    "%timeit np.random.uniform(-90.000, 90.000, size=1500)"
   ]
  },
  {
   "cell_type": "code",
   "execution_count": 28,
   "metadata": {},
   "outputs": [
    {
     "name": "stdout",
     "output_type": "stream",
     "text": [
      "1.82 ms ± 152 µs per loop (mean ± std. dev. of 7 runs, 1000 loops each)\n"
     ]
    }
   ],
   "source": [
    "# For loop take 60 times longer than the np.random.uniform()\n",
    "def latitudes(size):\n",
    "    latitudes = []\n",
    "    x = 0\n",
    "    while x < (size):\n",
    "        random_lat = random.randint(-90, 90) + random.random()\n",
    "        latitudes.append(random_lat)\n",
    "        x += 1\n",
    "    return latitudes\n",
    "# Call the function with 1500.\n",
    "%timeit latitudes(1500)"
   ]
  },
  {
   "cell_type": "markdown",
   "metadata": {},
   "source": [
    "# Generate Random Lat Long"
   ]
  },
  {
   "cell_type": "code",
   "execution_count": 29,
   "metadata": {},
   "outputs": [
    {
     "data": {
      "text/plain": [
       "<zip at 0x1281043a5c0>"
      ]
     },
     "execution_count": 29,
     "metadata": {},
     "output_type": "execute_result"
    }
   ],
   "source": [
    "# Create a set of random latitude and longitude combinations.\n",
    "# zip creates pairs in the order listed\n",
    "lats = np.random.uniform(low=-90.000, high=90.000, size=1500)\n",
    "lngs = np.random.uniform(low=-180.000, high=180.000, size=1500)\n",
    "lat_lngs = zip(lats, lngs)\n",
    "lat_lngs"
   ]
  },
  {
   "cell_type": "markdown",
   "metadata": {},
   "source": [
    "#### Example --how to show contents of zip-- DO NOT DO THIS WITH 1500\n",
    "#### You can only unzip a zipped tuple once before it is removed from the\n",
    "#### computer's memory. Make sure you unzip the latitudes and longitudes \n",
    "#### into the coordinates list before moving on."
   ]
  },
  {
   "cell_type": "code",
   "execution_count": 30,
   "metadata": {},
   "outputs": [
    {
     "name": "stdout",
     "output_type": "stream",
     "text": [
      "25.12903645 -67.59741259\n",
      "25.92017388 11.09532135\n",
      "26.62509167 74.84233102\n",
      "-59.98969384 -76.89176677\n",
      "37.30571269 -61.13376282\n"
     ]
    }
   ],
   "source": [
    "# Create a practice set of random latitude and longitude combinations.\n",
    "x = [25.12903645, 25.92017388, 26.62509167, -59.98969384, 37.30571269]\n",
    "y = [-67.59741259, 11.09532135, 74.84233102, -76.89176677, -61.13376282]\n",
    "coordinates = zip(x, y)\n",
    "\n",
    "# Use the tuple() function to display the latitude and longitude combinations.\n",
    "for coordinate in coordinates:\n",
    "    print(coordinate[0], coordinate[1])"
   ]
  },
  {
   "cell_type": "code",
   "execution_count": 31,
   "metadata": {},
   "outputs": [],
   "source": [
    "# Add the latitudes and longitudes to a list.\n",
    "coordinates = list(lat_lngs)"
   ]
  },
  {
   "cell_type": "code",
   "execution_count": 32,
   "metadata": {},
   "outputs": [
    {
     "data": {
      "text/plain": [
       "(-78.78743823831408, 146.75141908789516)"
      ]
     },
     "execution_count": 32,
     "metadata": {},
     "output_type": "execute_result"
    }
   ],
   "source": [
    "coordinates[25]"
   ]
  },
  {
   "cell_type": "markdown",
   "metadata": {},
   "source": [
    "# Generate Random World Cities\n",
    "##### Example for iterating through lat long  and finding city"
   ]
  },
  {
   "cell_type": "code",
   "execution_count": 33,
   "metadata": {},
   "outputs": [],
   "source": [
    "# Use the tuple() function to display the latitude and longitude combinations.\n",
    "# It works...commenting out to save memory\n",
    "#for coordinate in coordinates:\n",
    "#    print(citipy.nearest_city(coordinate[0], coordinate[1]).city_name,\n",
    "#          citipy.nearest_city(coordinate[0], coordinate[1]).country_code)"
   ]
  },
  {
   "cell_type": "code",
   "execution_count": 34,
   "metadata": {},
   "outputs": [
    {
     "data": {
      "text/plain": [
       "603"
      ]
     },
     "execution_count": 34,
     "metadata": {},
     "output_type": "execute_result"
    }
   ],
   "source": [
    "# Create a list for holding the cities.\n",
    "cities = []\n",
    "# Identify the nearest city for each latitude and longitude combination.\n",
    "for coordinate in coordinates:\n",
    "    city = citipy.nearest_city(coordinate[0], coordinate[1]).city_name\n",
    "\n",
    "    # If the city is unique, then we will add it to the cities list.\n",
    "    if city not in cities:\n",
    "        cities.append(city)\n",
    "# Print the city count to confirm sufficient count.\n",
    "len(cities)"
   ]
  },
  {
   "cell_type": "markdown",
   "metadata": {},
   "source": [
    "# Using API\n",
    "### Open Weather map API\n",
    "### import requests \n",
    "##### https://requests.kennethreitz.org/en/master/"
   ]
  },
  {
   "cell_type": "markdown",
   "metadata": {},
   "source": [
    "### Building API URL"
   ]
  },
  {
   "cell_type": "code",
   "execution_count": 35,
   "metadata": {},
   "outputs": [],
   "source": [
    "# api.openweathermap.org/data/2.5/weather?q={city name}&appid={API key}\n",
    "# api.openweathermap.org/data/2.5/weather?q={city name},{state code},{country code}&appid={API key}\n",
    "# api.openweathermap.org/data/2.5/weather?q={city name},{state code}&appid={API key}\n"
   ]
  },
  {
   "cell_type": "code",
   "execution_count": 36,
   "metadata": {},
   "outputs": [
    {
     "name": "stdout",
     "output_type": "stream",
     "text": [
      "http://api.openweathermap.org/data/2.5/weather?units=Imperial&APPID=72c6ac49835b8273bfc5a12e4f65f701\n"
     ]
    }
   ],
   "source": [
    "# Starting URL for Weather Map API Call.\n",
    "url = \"http://api.openweathermap.org/data/2.5/weather?units=Imperial&APPID=\" + weather_api_key\n",
    "print(url)"
   ]
  },
  {
   "cell_type": "markdown",
   "metadata": {},
   "source": [
    "### Add query to url"
   ]
  },
  {
   "cell_type": "code",
   "execution_count": 37,
   "metadata": {},
   "outputs": [
    {
     "name": "stdout",
     "output_type": "stream",
     "text": [
      "http://api.openweathermap.org/data/2.5/weather?units=Imperial&APPID=72c6ac49835b8273bfc5a12e4f65f701&q=Boston\n"
     ]
    }
   ],
   "source": [
    "# Create an endpoint URL for a city.\n",
    "city_url = url + \"&q=\" + \"Boston\"\n",
    "print(city_url)"
   ]
  },
  {
   "cell_type": "markdown",
   "metadata": {},
   "source": [
    "## Request()\n",
    "### Request Method\t    Action\n",
    "### get()--------------------->Retrieves data from a web source.\n",
    "### head()--------------------->Retrieves the headers from a web source.\n",
    "### post()--------------------->Adds or annotates data on a web source. Used on mailing groups, message boards, or comments.\n",
    "### put()--------------------->Updates an existing resource. For example, if the date on a Wikipedia page is wrong, you can use the put() method to update that date.\n",
    "### delete()--------------------->Deletes data from a web source.\n",
    "### options()--------------------->Discovers what HTTP methods a web source allows.\n",
    "### patch()--------------------->Partially modifies a web source."
   ]
  },
  {
   "cell_type": "markdown",
   "metadata": {},
   "source": [
    "\n",
    "### \n",
    "### \n",
    "### Build a get request"
   ]
  },
  {
   "cell_type": "code",
   "execution_count": 43,
   "metadata": {},
   "outputs": [
    {
     "data": {
      "text/plain": [
       "<Response [200]>"
      ]
     },
     "execution_count": 43,
     "metadata": {},
     "output_type": "execute_result"
    }
   ],
   "source": [
    "city_weather = requests.get(city_url)\n",
    "city_weather"
   ]
  },
  {
   "cell_type": "code",
   "execution_count": 44,
   "metadata": {},
   "outputs": [
    {
     "data": {
      "text/plain": [
       "<Response [404]>"
      ]
     },
     "execution_count": 44,
     "metadata": {},
     "output_type": "execute_result"
    }
   ],
   "source": [
    "#boston spelled wrong so it could not find that name in the query\n",
    "city_url = url + \"&q=\" + \"Bston\"\n",
    "city_weather = requests.get(city_url)\n",
    "city_weather"
   ]
  },
  {
   "cell_type": "code",
   "execution_count": 45,
   "metadata": {},
   "outputs": [
    {
     "data": {
      "text/plain": [
       "'http://api.openweathermap.org/data/2.5/weather?units=Imperial&APPID=72c6ac49835b8273bfc5a12e4f65f701&q=Bston'"
      ]
     },
     "execution_count": 45,
     "metadata": {},
     "output_type": "execute_result"
    }
   ],
   "source": [
    "city_url"
   ]
  },
  {
   "cell_type": "code",
   "execution_count": 46,
   "metadata": {},
   "outputs": [
    {
     "data": {
      "text/plain": [
       "<Response [200]>"
      ]
     },
     "execution_count": 46,
     "metadata": {},
     "output_type": "execute_result"
    }
   ],
   "source": [
    "city_url = url + \"&q=\" + \"Boston\"\n",
    "city_weather = requests.get(city_url)\n",
    "city_weather"
   ]
  },
  {
   "cell_type": "markdown",
   "metadata": {},
   "source": [
    "### Get the data/text from the 'Get' request.\n",
    "#### Output is a dictionary"
   ]
  },
  {
   "cell_type": "code",
   "execution_count": 47,
   "metadata": {},
   "outputs": [
    {
     "data": {
      "text/plain": [
       "'{\"coord\":{\"lon\":-71.0598,\"lat\":42.3584},\"weather\":[{\"id\":804,\"main\":\"Clouds\",\"description\":\"overcast clouds\",\"icon\":\"04d\"}],\"base\":\"stations\",\"main\":{\"temp\":58.95,\"feels_like\":58.3,\"temp_min\":56.66,\"temp_max\":61.18,\"pressure\":1019,\"humidity\":80},\"visibility\":10000,\"wind\":{\"speed\":5.01,\"deg\":329,\"gust\":14},\"clouds\":{\"all\":100},\"dt\":1622500222,\"sys\":{\"type\":2,\"id\":2013408,\"country\":\"US\",\"sunrise\":1622452234,\"sunset\":1622506423},\"timezone\":-14400,\"id\":4930956,\"name\":\"Boston\",\"cod\":200}'"
      ]
     },
     "execution_count": 47,
     "metadata": {},
     "output_type": "execute_result"
    }
   ],
   "source": [
    "# Get the text of the 'Get' request. Output is a dictionary\n",
    "city_weather.text"
   ]
  },
  {
   "cell_type": "markdown",
   "metadata": {},
   "source": [
    "### Use json to access the data returned from get request\n",
    "### Makes it a lot easier to read"
   ]
  },
  {
   "cell_type": "code",
   "execution_count": 48,
   "metadata": {},
   "outputs": [
    {
     "data": {
      "text/plain": [
       "{'coord': {'lon': -71.0598, 'lat': 42.3584},\n",
       " 'weather': [{'id': 804,\n",
       "   'main': 'Clouds',\n",
       "   'description': 'overcast clouds',\n",
       "   'icon': '04d'}],\n",
       " 'base': 'stations',\n",
       " 'main': {'temp': 58.95,\n",
       "  'feels_like': 58.3,\n",
       "  'temp_min': 56.66,\n",
       "  'temp_max': 61.18,\n",
       "  'pressure': 1019,\n",
       "  'humidity': 80},\n",
       " 'visibility': 10000,\n",
       " 'wind': {'speed': 5.01, 'deg': 329, 'gust': 14},\n",
       " 'clouds': {'all': 100},\n",
       " 'dt': 1622500222,\n",
       " 'sys': {'type': 2,\n",
       "  'id': 2013408,\n",
       "  'country': 'US',\n",
       "  'sunrise': 1622452234,\n",
       "  'sunset': 1622506423},\n",
       " 'timezone': -14400,\n",
       " 'id': 4930956,\n",
       " 'name': 'Boston',\n",
       " 'cod': 200}"
      ]
     },
     "execution_count": 48,
     "metadata": {},
     "output_type": "execute_result"
    }
   ],
   "source": [
    "# Get the JSON text of the 'Get' request.\n",
    "city_weather.json()"
   ]
  },
  {
   "cell_type": "markdown",
   "metadata": {},
   "source": [
    "### Error handling for request respnse code (200, 404 etc)\n",
    "### Use .status_code on the variable containing the response"
   ]
  },
  {
   "cell_type": "code",
   "execution_count": 51,
   "metadata": {},
   "outputs": [
    {
     "name": "stdout",
     "output_type": "stream",
     "text": [
      "City weather not found.\n"
     ]
    }
   ],
   "source": [
    "# Create an endpoint URL for a city.\n",
    "city_url = url + \"&q=\" + \"Bton\"\n",
    "city_weather = requests.get(city_url)\n",
    "if city_weather.status_code == 200:\n",
    "    print(f\"City Weather found.\")\n",
    "else:\n",
    "    print(f\"City weather not found.\")"
   ]
  },
  {
   "cell_type": "code",
   "execution_count": 52,
   "metadata": {},
   "outputs": [
    {
     "name": "stdout",
     "output_type": "stream",
     "text": [
      "City Weather found.\n"
     ]
    }
   ],
   "source": [
    "# Create an endpoint URL for a city.\n",
    "city_url = url + \"&q=\" + \"Boston\"\n",
    "city_weather = requests.get(city_url)\n",
    "if city_weather.status_code == 200:\n",
    "    print(f\"City Weather found.\")\n",
    "else:\n",
    "    print(f\"City weather not found.\")"
   ]
  },
  {
   "cell_type": "markdown",
   "metadata": {},
   "source": [
    "# PARSE RESPONSE from Get request"
   ]
  },
  {
   "cell_type": "markdown",
   "metadata": {},
   "source": [
    "### Get the json data"
   ]
  },
  {
   "cell_type": "code",
   "execution_count": null,
   "metadata": {},
   "outputs": [],
   "source": [
    "# Get the JSON data.\n",
    "boston_data = city_weather.json()"
   ]
  },
  {
   "cell_type": "markdown",
   "metadata": {},
   "source": [
    "### Review data"
   ]
  },
  {
   "cell_type": "code",
   "execution_count": 55,
   "metadata": {},
   "outputs": [
    {
     "data": {
      "text/plain": [
       "{'coord': {'lon': -71.0598, 'lat': 42.3584},\n",
       " 'weather': [{'id': 804,\n",
       "   'main': 'Clouds',\n",
       "   'description': 'overcast clouds',\n",
       "   'icon': '04d'}],\n",
       " 'base': 'stations',\n",
       " 'main': {'temp': 58.98,\n",
       "  'feels_like': 58.3,\n",
       "  'temp_min': 56.66,\n",
       "  'temp_max': 61.18,\n",
       "  'pressure': 1019,\n",
       "  'humidity': 79},\n",
       " 'visibility': 10000,\n",
       " 'wind': {'speed': 5.01, 'deg': 306, 'gust': 13},\n",
       " 'clouds': {'all': 100},\n",
       " 'dt': 1622501306,\n",
       " 'sys': {'type': 2,\n",
       "  'id': 2013408,\n",
       "  'country': 'US',\n",
       "  'sunrise': 1622452234,\n",
       "  'sunset': 1622506423},\n",
       " 'timezone': -14400,\n",
       " 'id': 4930956,\n",
       " 'name': 'Boston',\n",
       " 'cod': 200}"
      ]
     },
     "execution_count": 55,
     "metadata": {},
     "output_type": "execute_result"
    }
   ],
   "source": [
    "# Review data in table\n",
    "boston_data"
   ]
  },
  {
   "cell_type": "markdown",
   "metadata": {},
   "source": [
    "### Pull data from dictionary"
   ]
  },
  {
   "cell_type": "code",
   "execution_count": 54,
   "metadata": {},
   "outputs": [
    {
     "data": {
      "text/plain": [
       "{'type': 2,\n",
       " 'id': 2013408,\n",
       " 'country': 'US',\n",
       " 'sunrise': 1622452234,\n",
       " 'sunset': 1622506423}"
      ]
     },
     "execution_count": 54,
     "metadata": {},
     "output_type": "execute_result"
    }
   ],
   "source": [
    "boston_data[\"sys\"]"
   ]
  },
  {
   "cell_type": "markdown",
   "metadata": {},
   "source": [
    "### Pull data from dictionary 2 levels deep"
   ]
  },
  {
   "cell_type": "code",
   "execution_count": 56,
   "metadata": {},
   "outputs": [
    {
     "data": {
      "text/plain": [
       "'US'"
      ]
     },
     "execution_count": 56,
     "metadata": {},
     "output_type": "execute_result"
    }
   ],
   "source": [
    "boston_data[\"sys\"][\"country\"]"
   ]
  },
  {
   "cell_type": "code",
   "execution_count": 57,
   "metadata": {},
   "outputs": [
    {
     "data": {
      "text/plain": [
       "1622501306"
      ]
     },
     "execution_count": 57,
     "metadata": {},
     "output_type": "execute_result"
    }
   ],
   "source": [
    "# date time \n",
    "boston_data['dt']"
   ]
  },
  {
   "cell_type": "code",
   "execution_count": 58,
   "metadata": {},
   "outputs": [
    {
     "data": {
      "text/plain": [
       "42.3584"
      ]
     },
     "execution_count": 58,
     "metadata": {},
     "output_type": "execute_result"
    }
   ],
   "source": [
    "# latitude\n",
    "boston_data[\"coord\"][\"lat\"]"
   ]
  },
  {
   "cell_type": "markdown",
   "metadata": {},
   "source": [
    "### Place all relevent data into variables"
   ]
  },
  {
   "cell_type": "code",
   "execution_count": 59,
   "metadata": {},
   "outputs": [
    {
     "name": "stdout",
     "output_type": "stream",
     "text": [
      "42.3584 -71.0598 61.18 79 100 5.01\n"
     ]
    }
   ],
   "source": [
    "lat = boston_data[\"coord\"][\"lat\"]\n",
    "lng = boston_data[\"coord\"][\"lon\"]\n",
    "max_temp = boston_data[\"main\"][\"temp_max\"]\n",
    "humidity = boston_data[\"main\"][\"humidity\"]\n",
    "clouds = boston_data[\"clouds\"][\"all\"]\n",
    "wind = boston_data[\"wind\"][\"speed\"]\n",
    "print(lat, lng, max_temp, humidity, clouds, wind)"
   ]
  },
  {
   "cell_type": "markdown",
   "metadata": {},
   "source": [
    "## Convert Date Time Stamp from unix time\n",
    "### from datetime import datetime\n",
    "#### https://docs.python.org/3.6/library/datetime.html#strftime-and-strptime-behavior\n",
    "#### https://docs.python.org/3.6/library/datetime.html\n",
    "#### Date time listed in a comma delimited fashion"
   ]
  },
  {
   "cell_type": "code",
   "execution_count": 61,
   "metadata": {},
   "outputs": [
    {
     "data": {
      "text/plain": [
       "datetime.datetime(2021, 5, 31, 22, 48, 26)"
      ]
     },
     "execution_count": 61,
     "metadata": {},
     "output_type": "execute_result"
    }
   ],
   "source": [
    "# Get the date from the JSON file.\n",
    "date = boston_data[\"dt\"]\n",
    "# Convert the UTC date to a date format with year, month, day, hours, minutes, and seconds.\n",
    "datetime.utcfromtimestamp(date)"
   ]
  },
  {
   "cell_type": "code",
   "execution_count": 64,
   "metadata": {},
   "outputs": [
    {
     "data": {
      "text/plain": [
       "'2021-05-31 22:48:26'"
      ]
     },
     "execution_count": 64,
     "metadata": {},
     "output_type": "execute_result"
    }
   ],
   "source": [
    "# Get the date from the JSON file.\n",
    "date = boston_data[\"dt\"]\n",
    "# Convert the UTC date to a date string formatted\n",
    "datetime.utcfromtimestamp(date).strftime('%Y-%m-%d %H:%M:%S')"
   ]
  },
  {
   "cell_type": "markdown",
   "metadata": {},
   "source": [
    "### Import Dependencies, and Initialize an Empty List and Counters"
   ]
  },
  {
   "cell_type": "code",
   "execution_count": 65,
   "metadata": {},
   "outputs": [
    {
     "name": "stdout",
     "output_type": "stream",
     "text": [
      "Beginning Data Retrieval     \n",
      "-----------------------------\n"
     ]
    }
   ],
   "source": [
    "# Create an empty list to hold the weather data.\n",
    "city_data = []\n",
    "# Print the beginning of the logging.\n",
    "print(\"Beginning Data Retrieval     \")\n",
    "print(\"-----------------------------\")\n",
    "\n",
    "# Create counters.\n",
    "record_count = 1\n",
    "set_count = 1"
   ]
  },
  {
   "cell_type": "markdown",
   "metadata": {},
   "source": [
    "### Basic Loop Through the List of Cities and Build the City URL"
   ]
  },
  {
   "cell_type": "code",
   "execution_count": 66,
   "metadata": {},
   "outputs": [],
   "source": [
    "# Loop through all the cities in our list.\n",
    "#for i in range(len(cities)):\n",
    "#\n",
    "#\n",
    "#    # Group cities in sets of 50 for logging purposes.\n",
    "#   if (i % 50 == 0 and i >= 50):\n",
    "#        set_count += 1\n",
    "#        record_count = 1\n",
    "#    # Create endpoint URL with each city.\n",
    "#    city_url = url + \"&q=\" + cities[i]"
   ]
  },
  {
   "cell_type": "markdown",
   "metadata": {},
   "source": [
    "## enumerate() \n",
    "### Loop Through the List of Cities and Build the City URL\n",
    "### it works just not complex enough for what we need\n"
   ]
  },
  {
   "cell_type": "code",
   "execution_count": 71,
   "metadata": {},
   "outputs": [
    {
     "name": "stdout",
     "output_type": "stream",
     "text": [
      "Processing Record 4 of Set 49 | biscarrosse\n",
      "Processing Record 5 of Set 49 | jamestown\n",
      "Processing Record 6 of Set 49 | nikolskoye\n",
      "Processing Record 7 of Set 49 | kahului\n",
      "Processing Record 8 of Set 49 | chokurdakh\n",
      "Processing Record 9 of Set 49 | devgarh\n",
      "Processing Record 10 of Set 49 | hobyo\n",
      "Processing Record 11 of Set 49 | hilo\n",
      "Processing Record 12 of Set 49 | kapaa\n",
      "Processing Record 13 of Set 49 | dikson\n",
      "Processing Record 14 of Set 49 | severo-kurilsk\n",
      "Processing Record 15 of Set 49 | yellowknife\n",
      "Processing Record 16 of Set 49 | barentsburg\n",
      "Processing Record 17 of Set 49 | fortuna\n",
      "Processing Record 18 of Set 49 | lagoa\n",
      "Processing Record 19 of Set 49 | victoria\n",
      "Processing Record 20 of Set 49 | kaitangata\n",
      "Processing Record 21 of Set 49 | taolanaro\n",
      "Processing Record 22 of Set 49 | abu kamal\n",
      "Processing Record 23 of Set 49 | tuktoyaktuk\n",
      "Processing Record 24 of Set 49 | axim\n",
      "Processing Record 25 of Set 49 | santa rosa\n",
      "Processing Record 26 of Set 49 | katsiveli\n",
      "Processing Record 27 of Set 49 | hobart\n",
      "Processing Record 28 of Set 49 | torbay\n",
      "Processing Record 29 of Set 49 | thompson\n",
      "Processing Record 30 of Set 49 | longyan\n",
      "Processing Record 31 of Set 49 | moranbah\n",
      "Processing Record 32 of Set 49 | ahipara\n",
      "Processing Record 33 of Set 49 | bredasdorp\n",
      "Processing Record 34 of Set 49 | tual\n",
      "Processing Record 35 of Set 49 | cape town\n",
      "Processing Record 36 of Set 49 | saint-francois\n",
      "Processing Record 37 of Set 49 | deputatskiy\n",
      "Processing Record 38 of Set 49 | solnechnyy\n",
      "Processing Record 39 of Set 49 | mataura\n",
      "Processing Record 40 of Set 49 | kinango\n",
      "Processing Record 41 of Set 49 | moron\n",
      "Processing Record 42 of Set 49 | hare bay\n",
      "Processing Record 43 of Set 49 | nizhniy ingash\n",
      "Processing Record 44 of Set 49 | ostrovnoy\n",
      "Processing Record 45 of Set 49 | faanui\n",
      "Processing Record 46 of Set 49 | luanda\n",
      "Processing Record 47 of Set 49 | marcona\n",
      "Processing Record 48 of Set 49 | valencia\n",
      "Processing Record 49 of Set 49 | barrow\n",
      "Processing Record 50 of Set 49 | yagoua\n",
      "Processing Record 51 of Set 49 | tabas\n",
      "Processing Record 52 of Set 49 | kutum\n",
      "Processing Record 53 of Set 49 | kuopio\n",
      "Processing Record 1 of Set 50 | qaanaaq\n",
      "Processing Record 2 of Set 50 | buala\n",
      "Processing Record 3 of Set 50 | honiara\n",
      "Processing Record 4 of Set 50 | la union\n",
      "Processing Record 5 of Set 50 | la ronge\n",
      "Processing Record 6 of Set 50 | kodinsk\n",
      "Processing Record 7 of Set 50 | georgetown\n",
      "Processing Record 8 of Set 50 | fernie\n",
      "Processing Record 9 of Set 50 | punta arenas\n",
      "Processing Record 10 of Set 50 | saint-philippe\n",
      "Processing Record 11 of Set 50 | busselton\n",
      "Processing Record 12 of Set 50 | inirida\n",
      "Processing Record 13 of Set 50 | ardesen\n",
      "Processing Record 14 of Set 50 | kodiak\n",
      "Processing Record 15 of Set 50 | khromtau\n",
      "Processing Record 16 of Set 50 | monroe\n",
      "Processing Record 17 of Set 50 | albany\n",
      "Processing Record 18 of Set 50 | canico\n",
      "Processing Record 19 of Set 50 | mys shmidta\n",
      "Processing Record 20 of Set 50 | guane\n",
      "Processing Record 21 of Set 50 | atuona\n",
      "Processing Record 22 of Set 50 | rikitea\n",
      "Processing Record 23 of Set 50 | port alfred\n",
      "Processing Record 24 of Set 50 | vaini\n",
      "Processing Record 25 of Set 50 | clyde river\n",
      "Processing Record 26 of Set 50 | zumpango\n",
      "Processing Record 27 of Set 50 | bluff\n",
      "Processing Record 28 of Set 50 | hasaki\n",
      "Processing Record 29 of Set 50 | bethel\n",
      "Processing Record 30 of Set 50 | tevaitoa\n",
      "Processing Record 31 of Set 50 | necochea\n",
      "Processing Record 32 of Set 50 | benjamin hill\n",
      "Processing Record 33 of Set 50 | ancud\n",
      "Processing Record 34 of Set 50 | coquimbo\n",
      "Processing Record 35 of Set 50 | saint-pierre\n",
      "Processing Record 36 of Set 50 | khatanga\n",
      "Processing Record 37 of Set 50 | codrington\n",
      "Processing Record 38 of Set 50 | airai\n",
      "Processing Record 39 of Set 50 | karamay\n",
      "Processing Record 40 of Set 50 | bambous virieux\n",
      "Processing Record 41 of Set 50 | canon city\n",
      "Processing Record 42 of Set 50 | khandyga\n",
      "Processing Record 43 of Set 50 | hermanus\n",
      "Processing Record 44 of Set 50 | mayo\n",
      "Processing Record 45 of Set 50 | bataipora\n",
      "Processing Record 46 of Set 50 | east london\n",
      "Processing Record 47 of Set 50 | katsuura\n",
      "Processing Record 48 of Set 50 | harper\n",
      "Processing Record 49 of Set 50 | saskylakh\n",
      "Processing Record 50 of Set 50 | hithadhoo\n",
      "Processing Record 1 of Set 51 | warqla\n",
      "Processing Record 2 of Set 51 | kavaratti\n",
      "Processing Record 3 of Set 51 | ushuaia\n",
      "Processing Record 4 of Set 51 | plettenberg bay\n",
      "Processing Record 5 of Set 51 | aljezur\n",
      "Processing Record 6 of Set 51 | chapais\n",
      "Processing Record 7 of Set 51 | pamantingan\n",
      "Processing Record 8 of Set 51 | nemuro\n",
      "Processing Record 9 of Set 51 | nome\n",
      "Processing Record 10 of Set 51 | tsihombe\n",
      "Processing Record 11 of Set 51 | portland\n",
      "Processing Record 12 of Set 51 | arraial do cabo\n",
      "Processing Record 13 of Set 51 | mar del plata\n",
      "Processing Record 14 of Set 51 | chernyshevskiy\n",
      "Processing Record 15 of Set 51 | chuy\n",
      "Processing Record 16 of Set 51 | havoysund\n",
      "Processing Record 17 of Set 51 | mahebourg\n",
      "Processing Record 18 of Set 51 | singaraja\n",
      "Processing Record 19 of Set 51 | poum\n",
      "Processing Record 20 of Set 51 | san patricio\n",
      "Processing Record 21 of Set 51 | limoges\n",
      "Processing Record 22 of Set 51 | orlik\n",
      "Processing Record 23 of Set 51 | pisco\n",
      "Processing Record 24 of Set 51 | sao filipe\n",
      "Processing Record 25 of Set 51 | nanlong\n",
      "Processing Record 26 of Set 51 | lavrentiya\n",
      "Processing Record 27 of Set 51 | kamenskoye\n",
      "Processing Record 28 of Set 51 | merauke\n",
      "Processing Record 29 of Set 51 | new norfolk\n",
      "Processing Record 30 of Set 51 | cam ranh\n",
      "Processing Record 31 of Set 51 | aksu\n",
      "Processing Record 32 of Set 51 | whitehorse\n",
      "Processing Record 33 of Set 51 | qaqortoq\n",
      "Processing Record 34 of Set 51 | gamba\n",
      "Processing Record 35 of Set 51 | narsaq\n",
      "Processing Record 36 of Set 51 | timbo\n",
      "Processing Record 37 of Set 51 | sept-iles\n",
      "Processing Record 38 of Set 51 | longyearbyen\n",
      "Processing Record 39 of Set 51 | krasnoselkup\n",
      "Processing Record 40 of Set 51 | pacific grove\n",
      "Processing Record 41 of Set 51 | dekar\n",
      "Processing Record 42 of Set 51 | provideniya\n",
      "Processing Record 43 of Set 51 | ucluelet\n",
      "Processing Record 44 of Set 51 | majene\n",
      "Processing Record 45 of Set 51 | vidim\n",
      "Processing Record 46 of Set 51 | aranda de duero\n",
      "Processing Record 47 of Set 51 | andenes\n",
      "Processing Record 48 of Set 51 | padang\n",
      "Processing Record 49 of Set 51 | maniitsoq\n",
      "Processing Record 50 of Set 51 | port elizabeth\n",
      "Processing Record 1 of Set 52 | road town\n",
      "Processing Record 2 of Set 52 | nizhneyansk\n",
      "Processing Record 3 of Set 52 | harnosand\n",
      "Processing Record 4 of Set 52 | dicabisagan\n",
      "Processing Record 5 of Set 52 | celestun\n",
      "Processing Record 6 of Set 52 | attawapiskat\n",
      "Processing Record 7 of Set 52 | folldal\n",
      "Processing Record 8 of Set 52 | vila velha\n",
      "Processing Record 9 of Set 52 | sayyan\n",
      "Processing Record 10 of Set 52 | pevek\n",
      "Processing Record 11 of Set 52 | nanortalik\n",
      "Processing Record 12 of Set 52 | alyangula\n",
      "Processing Record 13 of Set 52 | kuznechnoye\n",
      "Processing Record 14 of Set 52 | timizart\n",
      "Processing Record 15 of Set 52 | botwood\n",
      "Processing Record 16 of Set 52 | atambua\n",
      "Processing Record 17 of Set 52 | karratha\n",
      "Processing Record 18 of Set 52 | nabire\n",
      "Processing Record 19 of Set 52 | yokadouma\n",
      "Processing Record 20 of Set 52 | tiksi\n",
      "Processing Record 21 of Set 52 | karlskoga\n",
      "Processing Record 22 of Set 52 | saint-augustin\n",
      "Processing Record 23 of Set 52 | klaksvik\n",
      "Processing Record 24 of Set 52 | boa vista\n",
      "Processing Record 25 of Set 52 | maldonado\n",
      "Processing Record 26 of Set 52 | hamilton\n",
      "Processing Record 27 of Set 52 | osa\n",
      "Processing Record 28 of Set 52 | tromso\n",
      "Processing Record 29 of Set 52 | souillac\n",
      "Processing Record 30 of Set 52 | pilar\n",
      "Processing Record 31 of Set 52 | ploufragan\n",
      "Processing Record 32 of Set 52 | sitka\n",
      "Processing Record 33 of Set 52 | broken hill\n",
      "Processing Record 34 of Set 52 | toktogul\n",
      "Processing Record 35 of Set 52 | mange\n",
      "Processing Record 36 of Set 52 | ilulissat\n",
      "Processing Record 37 of Set 52 | sarangani\n",
      "Processing Record 38 of Set 52 | carnarvon\n",
      "Processing Record 39 of Set 52 | najran\n",
      "Processing Record 40 of Set 52 | grand river south east\n",
      "Processing Record 41 of Set 52 | banda aceh\n",
      "Processing Record 42 of Set 52 | kibuye\n",
      "Processing Record 43 of Set 52 | santa eulalia del rio\n",
      "Processing Record 44 of Set 52 | esperance\n",
      "Processing Record 45 of Set 52 | shimoda\n",
      "Processing Record 46 of Set 52 | north bend\n",
      "Processing Record 47 of Set 52 | upernavik\n",
      "Processing Record 48 of Set 52 | yarmouth\n",
      "Processing Record 49 of Set 52 | calvia\n",
      "Processing Record 50 of Set 52 | anderson\n",
      "Processing Record 1 of Set 53 | avarua\n",
      "Processing Record 2 of Set 53 | marsa matruh\n",
      "Processing Record 3 of Set 53 | meulaboh\n",
      "Processing Record 4 of Set 53 | tomatlan\n",
      "Processing Record 5 of Set 53 | pangkalanbuun\n",
      "Processing Record 6 of Set 53 | jaru\n",
      "Processing Record 7 of Set 53 | puerto escondido\n",
      "Processing Record 8 of Set 53 | muros\n",
      "Processing Record 9 of Set 53 | hami\n",
      "Processing Record 10 of Set 53 | panama city\n",
      "Processing Record 11 of Set 53 | corn island\n",
      "Processing Record 12 of Set 53 | uruguaiana\n",
      "Processing Record 13 of Set 53 | houston\n",
      "Processing Record 14 of Set 53 | cabo san lucas\n",
      "Processing Record 15 of Set 53 | tasiilaq\n",
      "Processing Record 16 of Set 53 | puerto ayora\n",
      "Processing Record 17 of Set 53 | butaritari\n",
      "Processing Record 18 of Set 53 | hofn\n",
      "Processing Record 19 of Set 53 | geraldton\n",
      "Processing Record 20 of Set 53 | burns lake\n",
      "Processing Record 21 of Set 53 | olafsvik\n",
      "Processing Record 22 of Set 53 | mahibadhoo\n",
      "Processing Record 23 of Set 53 | alta floresta\n",
      "Processing Record 24 of Set 53 | amderma\n",
      "Processing Record 25 of Set 53 | leningradskiy\n",
      "Processing Record 26 of Set 53 | avera\n",
      "Processing Record 27 of Set 53 | upata\n",
      "Processing Record 28 of Set 53 | ponta do sol\n",
      "Processing Record 29 of Set 53 | sembabule\n",
      "Processing Record 30 of Set 53 | kenai\n",
      "Processing Record 31 of Set 53 | kavieng\n",
      "Processing Record 32 of Set 53 | nisia floresta\n",
      "Processing Record 33 of Set 53 | novosokolniki\n",
      "Processing Record 34 of Set 53 | karaton\n",
      "Processing Record 35 of Set 53 | castro\n",
      "Processing Record 36 of Set 53 | pazaric\n",
      "Processing Record 37 of Set 53 | aklavik\n",
      "Processing Record 38 of Set 53 | cherskiy\n",
      "Processing Record 39 of Set 53 | mayskiy\n",
      "Processing Record 40 of Set 53 | vardo\n",
      "Processing Record 41 of Set 53 | pangai\n",
      "Processing Record 42 of Set 53 | haines junction\n",
      "Processing Record 43 of Set 53 | kadykchan\n",
      "Processing Record 44 of Set 53 | bilma\n",
      "Processing Record 45 of Set 53 | half moon bay\n",
      "Processing Record 46 of Set 53 | phuket\n",
      "Processing Record 47 of Set 53 | peniche\n",
      "Processing Record 48 of Set 53 | urumqi\n",
      "Processing Record 49 of Set 53 | pailon\n",
      "Processing Record 50 of Set 53 | viedma\n",
      "Processing Record 1 of Set 54 | lazarev\n",
      "Processing Record 2 of Set 54 | onguday\n",
      "Processing Record 3 of Set 54 | lata\n",
      "Processing Record 4 of Set 54 | aktau\n",
      "Processing Record 5 of Set 54 | fonte boa\n",
      "Processing Record 6 of Set 54 | illoqqortoormiut\n",
      "Processing Record 7 of Set 54 | fare\n",
      "Processing Record 8 of Set 54 | tura\n",
      "Processing Record 9 of Set 54 | birjand\n",
      "Processing Record 10 of Set 54 | heidelberg\n",
      "Processing Record 11 of Set 54 | teya\n",
      "Processing Record 12 of Set 54 | korla\n",
      "Processing Record 13 of Set 54 | carutapera\n",
      "Processing Record 14 of Set 54 | ambon\n",
      "Processing Record 15 of Set 54 | nuuk\n",
      "Processing Record 16 of Set 54 | theologos\n",
      "Processing Record 17 of Set 54 | manokwari\n",
      "Processing Record 18 of Set 54 | tuatapere\n",
      "Processing Record 19 of Set 54 | cayenne\n",
      "Processing Record 20 of Set 54 | uglovskoye\n",
      "Processing Record 21 of Set 54 | cotia\n",
      "Processing Record 22 of Set 54 | petropavlovsk-kamchatskiy\n",
      "Processing Record 23 of Set 54 | birao\n",
      "Processing Record 24 of Set 54 | umm durman\n",
      "Processing Record 25 of Set 54 | kaduqli\n",
      "Processing Record 26 of Set 54 | marawi\n",
      "Processing Record 27 of Set 54 | vaitupu\n",
      "Processing Record 28 of Set 54 | norman wells\n",
      "Processing Record 29 of Set 54 | venado tuerto\n",
      "Processing Record 30 of Set 54 | hegang\n",
      "Processing Record 31 of Set 54 | otradnoye\n",
      "Processing Record 32 of Set 54 | nikolayevsk-na-amure\n",
      "Processing Record 33 of Set 54 | ribeira grande\n",
      "Processing Record 34 of Set 54 | ambilobe\n",
      "Processing Record 35 of Set 54 | iquitos\n",
      "Processing Record 36 of Set 54 | bubaque\n",
      "Processing Record 37 of Set 54 | yanam\n",
      "Processing Record 38 of Set 54 | washington\n",
      "Processing Record 39 of Set 54 | juneau\n",
      "Processing Record 40 of Set 54 | cap-aux-meules\n",
      "Processing Record 41 of Set 54 | sentyabrskiy\n",
      "Processing Record 42 of Set 54 | santiago del estero\n",
      "Processing Record 43 of Set 54 | jalu\n",
      "Processing Record 44 of Set 54 | alugan\n",
      "Processing Record 45 of Set 54 | fukuma\n",
      "Processing Record 46 of Set 54 | monte patria\n",
      "Processing Record 47 of Set 54 | ferrol\n",
      "Processing Record 48 of Set 54 | west bay\n",
      "Processing Record 49 of Set 54 | pangnirtung\n",
      "Processing Record 50 of Set 54 | bowral\n",
      "Processing Record 1 of Set 55 | arroyo\n",
      "Processing Record 2 of Set 55 | la palma\n",
      "Processing Record 3 of Set 55 | hokitika\n",
      "Processing Record 4 of Set 55 | flinders\n",
      "Processing Record 5 of Set 55 | lethem\n",
      "Processing Record 6 of Set 55 | kupang\n",
      "Processing Record 7 of Set 55 | constitucion\n",
      "Processing Record 8 of Set 55 | inhambane\n",
      "Processing Record 9 of Set 55 | lompoc\n",
      "Processing Record 10 of Set 55 | cockburn town\n",
      "Processing Record 11 of Set 55 | yialos\n",
      "Processing Record 12 of Set 55 | ingham\n",
      "Processing Record 13 of Set 55 | yumen\n",
      "Processing Record 14 of Set 55 | bolungarvik\n",
      "Processing Record 15 of Set 55 | ola\n",
      "Processing Record 16 of Set 55 | gornyy\n",
      "Processing Record 17 of Set 55 | okhotsk\n",
      "Processing Record 18 of Set 55 | salalah\n",
      "Processing Record 19 of Set 55 | odweyne\n",
      "Processing Record 20 of Set 55 | phan thiet\n",
      "Processing Record 21 of Set 55 | lashio\n",
      "Processing Record 22 of Set 55 | torgau\n",
      "Processing Record 23 of Set 55 | kalmunai\n",
      "Processing Record 24 of Set 55 | bengkulu\n",
      "Processing Record 25 of Set 55 | kyra\n",
      "Processing Record 26 of Set 55 | meadow lake\n",
      "Processing Record 27 of Set 55 | abaza\n",
      "Processing Record 28 of Set 55 | vorsma\n",
      "Processing Record 29 of Set 55 | nowy dwor gdanski\n",
      "Processing Record 30 of Set 55 | crateus\n",
      "Processing Record 31 of Set 55 | olhao\n",
      "Processing Record 32 of Set 55 | rawson\n",
      "Processing Record 33 of Set 55 | nanyuki\n",
      "Processing Record 34 of Set 55 | santa cruz\n",
      "Processing Record 35 of Set 55 | saint combs\n",
      "Processing Record 36 of Set 55 | nishihara\n",
      "Processing Record 37 of Set 55 | nouadhibou\n",
      "Processing Record 38 of Set 55 | vargashi\n",
      "Processing Record 39 of Set 55 | milingimbi\n",
      "Processing Record 40 of Set 55 | sao miguel do araguaia\n",
      "Processing Record 41 of Set 55 | wichian buri\n",
      "Processing Record 42 of Set 55 | bardiyah\n",
      "Processing Record 43 of Set 55 | penzance\n",
      "Processing Record 44 of Set 55 | mangrol\n",
      "Processing Record 45 of Set 55 | terney\n",
      "Processing Record 46 of Set 55 | aix-les-bains\n",
      "Processing Record 47 of Set 55 | itoman\n",
      "Processing Record 48 of Set 55 | ulaangom\n",
      "Processing Record 49 of Set 55 | khani\n",
      "Processing Record 50 of Set 55 | yeniseysk\n",
      "Processing Record 1 of Set 56 | uige\n",
      "Processing Record 2 of Set 56 | uvalde\n",
      "Processing Record 3 of Set 56 | kusk\n",
      "Processing Record 4 of Set 56 | vytegra\n",
      "Processing Record 5 of Set 56 | bakchar\n",
      "Processing Record 6 of Set 56 | port hedland\n",
      "Processing Record 7 of Set 56 | lebu\n",
      "Processing Record 8 of Set 56 | sabang\n",
      "Processing Record 9 of Set 56 | dosso\n",
      "Processing Record 10 of Set 56 | samusu\n",
      "Processing Record 11 of Set 56 | guerrero negro\n",
      "Processing Record 12 of Set 56 | choma\n",
      "Processing Record 13 of Set 56 | taguatinga\n",
      "Processing Record 14 of Set 56 | iqaluit\n",
      "Processing Record 15 of Set 56 | manitouwadge\n",
      "Processing Record 16 of Set 56 | kamenka\n",
      "Processing Record 17 of Set 56 | pamyat parizhskoy kommuny\n",
      "Processing Record 18 of Set 56 | richards bay\n",
      "Processing Record 19 of Set 56 | cidreira\n",
      "Processing Record 20 of Set 56 | krasnyy chikoy\n",
      "Processing Record 21 of Set 56 | palmas\n",
      "Processing Record 22 of Set 56 | arrecife\n",
      "Processing Record 23 of Set 56 | bathsheba\n",
      "Processing Record 24 of Set 56 | kieta\n",
      "Processing Record 25 of Set 56 | kalininskaya\n",
      "Processing Record 26 of Set 56 | ilhabela\n",
      "Processing Record 27 of Set 56 | halifax\n",
      "Processing Record 28 of Set 56 | port hardy\n",
      "Processing Record 29 of Set 56 | san cristobal\n",
      "Processing Record 30 of Set 56 | marienburg\n",
      "Processing Record 31 of Set 56 | anloga\n",
      "Processing Record 32 of Set 56 | waingapu\n",
      "Processing Record 33 of Set 56 | prabumulih\n",
      "Processing Record 34 of Set 56 | baykit\n",
      "Processing Record 35 of Set 56 | posse\n",
      "Processing Record 36 of Set 56 | zdvinsk\n",
      "Processing Record 37 of Set 56 | kisujszallas\n",
      "Processing Record 38 of Set 56 | saldanha\n",
      "Processing Record 39 of Set 56 | el buen pastor\n",
      "Processing Record 40 of Set 56 | mackay\n",
      "Processing Record 41 of Set 56 | bakel\n",
      "Processing Record 42 of Set 56 | trat\n",
      "Processing Record 43 of Set 56 | skagen\n",
      "Processing Record 44 of Set 56 | broome\n",
      "Processing Record 45 of Set 56 | prieska\n",
      "Processing Record 46 of Set 56 | bagdarin\n",
      "Processing Record 47 of Set 56 | iberia\n",
      "Processing Record 48 of Set 56 | tiarei\n",
      "Processing Record 49 of Set 56 | ambunti\n",
      "Processing Record 50 of Set 56 | salinas\n",
      "Processing Record 1 of Set 57 | vestmannaeyjar\n",
      "Processing Record 2 of Set 57 | buy\n",
      "Processing Record 3 of Set 57 | san rafael\n",
      "Processing Record 4 of Set 57 | shingu\n",
      "Processing Record 5 of Set 57 | luwuk\n",
      "Processing Record 6 of Set 57 | bilari\n",
      "Processing Record 7 of Set 57 | camabatela\n",
      "Processing Record 8 of Set 57 | navapur\n",
      "Processing Record 9 of Set 57 | kolpashevo\n",
      "Processing Record 10 of Set 57 | lolua\n",
      "Processing Record 11 of Set 57 | liverpool\n",
      "Processing Record 12 of Set 57 | omboue\n",
      "Processing Record 13 of Set 57 | eastchester\n",
      "Processing Record 14 of Set 57 | warrnambool\n",
      "Processing Record 15 of Set 57 | manaure\n",
      "Processing Record 16 of Set 57 | hay river\n",
      "Processing Record 17 of Set 57 | zyryanka\n",
      "Processing Record 18 of Set 57 | eyl\n",
      "Processing Record 19 of Set 57 | high level\n",
      "Processing Record 20 of Set 57 | luderitz\n",
      "Processing Record 21 of Set 57 | kandrian\n",
      "Processing Record 22 of Set 57 | omsukchan\n",
      "Processing Record 23 of Set 57 | aasiaat\n",
      "Processing Record 24 of Set 57 | isangel\n",
      "Processing Record 25 of Set 57 | rusape\n",
      "Processing Record 26 of Set 57 | marsh harbour\n",
      "Processing Record 27 of Set 57 | hovd\n",
      "Processing Record 28 of Set 57 | zaraza\n",
      "Processing Record 29 of Set 57 | redmond\n",
      "Processing Record 30 of Set 57 | hudson bay\n",
      "Processing Record 31 of Set 57 | manado\n",
      "Processing Record 32 of Set 57 | zaragoza\n",
      "Processing Record 33 of Set 57 | normandin\n",
      "Processing Record 34 of Set 57 | saint george\n",
      "Processing Record 35 of Set 57 | acapulco\n",
      "Processing Record 36 of Set 57 | riviere-au-renard\n",
      "Processing Record 37 of Set 57 | margate\n",
      "Processing Record 38 of Set 57 | wittingen\n",
      "Processing Record 39 of Set 57 | mastic beach\n",
      "Processing Record 40 of Set 57 | cap malheureux\n",
      "Processing Record 41 of Set 57 | naze\n",
      "Processing Record 42 of Set 57 | kandi\n",
      "Processing Record 43 of Set 57 | ternate\n",
      "Processing Record 44 of Set 57 | mount gambier\n",
      "Processing Record 45 of Set 57 | schleiden\n",
      "Processing Record 46 of Set 57 | alice springs\n",
      "Processing Record 47 of Set 57 | loandjili\n",
      "Processing Record 48 of Set 57 | namatanai\n",
      "Processing Record 49 of Set 57 | pasighat\n",
      "Processing Record 50 of Set 57 | valle hermoso\n",
      "Processing Record 1 of Set 58 | shieli\n",
      "Processing Record 2 of Set 58 | winnemucca\n",
      "Processing Record 3 of Set 58 | bitung\n",
      "Processing Record 4 of Set 58 | san isidro\n",
      "Processing Record 5 of Set 58 | camacha\n",
      "Processing Record 6 of Set 58 | santiago\n",
      "Processing Record 7 of Set 58 | saleaula\n",
      "Processing Record 8 of Set 58 | stolin\n",
      "Processing Record 9 of Set 58 | udarnyy\n",
      "Processing Record 10 of Set 58 | bandarbeyla\n",
      "Processing Record 11 of Set 58 | ornskoldsvik\n",
      "Processing Record 12 of Set 58 | zambezi\n",
      "Processing Record 13 of Set 58 | forestville\n",
      "Processing Record 14 of Set 58 | itapirapua\n",
      "Processing Record 15 of Set 58 | finschhafen\n",
      "Processing Record 16 of Set 58 | bereznik\n",
      "Processing Record 17 of Set 58 | puerto lopez\n",
      "Processing Record 18 of Set 58 | pathein\n",
      "Processing Record 19 of Set 58 | fukue\n",
      "Processing Record 20 of Set 58 | tarata\n",
      "Processing Record 21 of Set 58 | sao felix do xingu\n",
      "Processing Record 22 of Set 58 | ascension\n",
      "Processing Record 23 of Set 58 | togur\n",
      "Processing Record 24 of Set 58 | dingle\n",
      "Processing Record 25 of Set 58 | leshukonskoye\n",
      "Processing Record 26 of Set 58 | matagami\n",
      "Processing Record 27 of Set 58 | oktyabrskiy\n",
      "Processing Record 28 of Set 58 | shirokiy\n",
      "Processing Record 29 of Set 58 | olenegorsk\n",
      "Processing Record 30 of Set 58 | islahiye\n",
      "Processing Record 31 of Set 58 | leua\n",
      "Processing Record 32 of Set 58 | puerto plata\n",
      "Processing Record 33 of Set 58 | asau\n",
      "Processing Record 34 of Set 58 | lere\n",
      "Processing Record 35 of Set 58 | port lincoln\n",
      "Processing Record 36 of Set 58 | zagora\n",
      "Processing Record 37 of Set 58 | grindavik\n",
      "Processing Record 38 of Set 58 | yirol\n",
      "Processing Record 39 of Set 58 | zhigansk\n",
      "Processing Record 40 of Set 58 | adrar\n",
      "Processing Record 41 of Set 58 | sorland\n",
      "Processing Record 42 of Set 58 | praia da vitoria\n",
      "Processing Record 43 of Set 58 | aketi\n",
      "Processing Record 44 of Set 58 | maningrida\n",
      "Processing Record 45 of Set 58 | elizabeth city\n",
      "Processing Record 46 of Set 58 | belorechensk\n",
      "Processing Record 47 of Set 58 | pelym\n",
      "Processing Record 48 of Set 58 | kauhajoki\n",
      "Processing Record 49 of Set 58 | eskasem\n",
      "Processing Record 50 of Set 58 | polunochnoye\n",
      "Processing Record 1 of Set 59 | menongue\n",
      "Processing Record 2 of Set 59 | tecoanapa\n",
      "Processing Record 3 of Set 59 | tandalti\n",
      "Processing Record 4 of Set 59 | slyudyanka\n",
      "Processing Record 5 of Set 59 | hyeres\n",
      "Processing Record 6 of Set 59 | vila\n",
      "Processing Record 7 of Set 59 | quatre cocos\n",
      "Processing Record 8 of Set 59 | baruun-urt\n",
      "Processing Record 9 of Set 59 | pedernales\n",
      "Processing Record 10 of Set 59 | lamar\n",
      "Processing Record 11 of Set 59 | kurchum\n",
      "Processing Record 12 of Set 59 | berlevag\n",
      "Processing Record 13 of Set 59 | maragogi\n",
      "Processing Record 14 of Set 59 | port augusta\n",
      "Processing Record 15 of Set 59 | yulara\n",
      "Processing Record 16 of Set 59 | mecca\n",
      "Processing Record 17 of Set 59 | terrace bay\n",
      "Processing Record 18 of Set 59 | luganville\n",
      "Processing Record 19 of Set 59 | spirit river\n",
      "Processing Record 20 of Set 59 | dunedin\n",
      "Processing Record 21 of Set 59 | sankt johann im pongau\n",
      "Processing Record 22 of Set 59 | beroroha\n",
      "Processing Record 23 of Set 59 | satitoa\n",
      "Processing Record 24 of Set 59 | changping\n",
      "Processing Record 25 of Set 59 | larsnes\n",
      "Processing Record 26 of Set 59 | devils lake\n",
      "Processing Record 27 of Set 59 | lorengau\n",
      "Processing Record 28 of Set 59 | golden\n",
      "Processing Record 29 of Set 59 | kamina\n",
      "Processing Record 30 of Set 59 | jumla\n",
      "Processing Record 31 of Set 59 | talsi\n",
      "Processing Record 32 of Set 59 | aizawl\n",
      "Processing Record 33 of Set 59 | douentza\n",
      "Processing Record 34 of Set 59 | mahajanga\n",
      "Processing Record 35 of Set 59 | flin flon\n",
      "Processing Record 36 of Set 59 | olenino\n",
      "Processing Record 37 of Set 59 | jieshi\n",
      "Processing Record 38 of Set 59 | palabuhanratu\n",
      "Processing Record 39 of Set 59 | coroata\n",
      "Processing Record 40 of Set 59 | kasongo\n",
      "Processing Record 41 of Set 59 | smirnykh\n",
      "Processing Record 42 of Set 59 | north branch\n",
      "Processing Record 43 of Set 59 | katra\n",
      "Processing Record 44 of Set 59 | buraydah\n",
      "Processing Record 45 of Set 59 | presidente medici\n",
      "Processing Record 46 of Set 59 | jiutai\n",
      "Processing Record 47 of Set 59 | barkhan\n",
      "Processing Record 48 of Set 59 | auki\n",
      "Processing Record 49 of Set 59 | sun city west\n",
      "Processing Record 50 of Set 59 | keetmanshoop\n",
      "Processing Record 1 of Set 60 | alofi\n",
      "Processing Record 2 of Set 60 | mandiana\n",
      "Processing Record 3 of Set 60 | perisani\n",
      "Processing Record 4 of Set 60 | te anau\n",
      "Processing Record 5 of Set 60 | marzuq\n",
      "Processing Record 6 of Set 60 | mitsamiouli\n",
      "Processing Record 7 of Set 60 | pundaguitan\n",
      "Processing Record 8 of Set 60 | santa rosa del sur\n",
      "Processing Record 9 of Set 60 | tawzar\n",
      "Processing Record 10 of Set 60 | savannakhet\n",
      "Processing Record 11 of Set 60 | haibowan\n",
      "Processing Record 12 of Set 60 | egvekinot\n",
      "Processing Record 13 of Set 60 | westport\n",
      "Processing Record 14 of Set 60 | dharchula\n",
      "Processing Record 15 of Set 60 | altus\n",
      "Processing Record 16 of Set 60 | trofors\n",
      "Processing Record 17 of Set 60 | florenville\n",
      "Processing Record 18 of Set 60 | taian\n",
      "Processing Record 19 of Set 60 | kysyl-syr\n",
      "Processing Record 20 of Set 60 | mpika\n",
      "Processing Record 21 of Set 60 | luebo\n",
      "Processing Record 22 of Set 60 | orlovskiy\n",
      "Processing Record 23 of Set 60 | clifton\n",
      "Processing Record 24 of Set 60 | ijaki\n",
      "Processing Record 25 of Set 60 | srem\n",
      "Processing Record 26 of Set 60 | namanga\n",
      "Processing Record 27 of Set 60 | usinsk\n",
      "Processing Record 28 of Set 60 | taoudenni\n",
      "Processing Record 29 of Set 60 | vallenar\n",
      "Processing Record 30 of Set 60 | dwarka\n",
      "Processing Record 31 of Set 60 | aktash\n",
      "Processing Record 32 of Set 60 | roccastrada\n",
      "Processing Record 33 of Set 60 | warman\n",
      "Processing Record 34 of Set 60 | guaira\n",
      "Processing Record 35 of Set 60 | viru\n",
      "Processing Record 36 of Set 60 | lengshuitan\n",
      "Processing Record 37 of Set 60 | san quintin\n",
      "Processing Record 38 of Set 60 | shelburne\n",
      "Processing Record 39 of Set 60 | sampit\n",
      "Processing Record 40 of Set 60 | takhtamygda\n",
      "Processing Record 41 of Set 60 | corum\n",
      "Processing Record 42 of Set 60 | sisimiut\n",
      "Processing Record 43 of Set 60 | the pas\n",
      "Processing Record 44 of Set 60 | iracoubo\n",
      "Processing Record 45 of Set 60 | srednekolymsk\n",
      "Processing Record 46 of Set 60 | beringovskiy\n",
      "Processing Record 47 of Set 60 | talnakh\n",
      "Processing Record 48 of Set 60 | boyolangu\n",
      "Processing Record 49 of Set 60 | belushya guba\n",
      "Processing Record 50 of Set 60 | wiang sa\n",
      "Processing Record 1 of Set 61 | yar-sale\n",
      "Processing Record 2 of Set 61 | papara\n",
      "Processing Record 3 of Set 61 | deoranian\n"
     ]
    }
   ],
   "source": [
    "# Loop through all the cities in the list.\n",
    "for i, city in enumerate(cities):\n",
    "\n",
    "    # Group cities in sets of 50 for logging purposes.\n",
    "    if (i % 50 == 0 and i >= 50): #is remainder of 50 >= 0... basically checks if there is a remainder. if so contiue counting until there isn't\n",
    "        set_count += 1\n",
    "        record_count = 1\n",
    "    # Create endpoint URL with each city.\n",
    "    city_url = url + \"&q=\" + city.replace(\" \",\"+\") # replace all spaces in city with \"+\"\n",
    "\n",
    "    # Log the URL, record, and set numbers and the city.\n",
    "    print(f\"Processing Record {record_count} of Set {set_count} | {city}\")\n",
    "    # Add 1 to the record count.\n",
    "    record_count += 1\n",
    "    "
   ]
  },
  {
   "cell_type": "markdown",
   "metadata": {},
   "source": [
    "# Handle API Request Errors with try-except Blocks\n",
    "### Exception handling"
   ]
  },
  {
   "cell_type": "code",
   "execution_count": 72,
   "metadata": {},
   "outputs": [
    {
     "name": "stdout",
     "output_type": "stream",
     "text": [
      "Processing Record 4 of Set 61 | biscarrosse\n",
      "Processing Record 5 of Set 61 | jamestown\n",
      "Processing Record 6 of Set 61 | nikolskoye\n",
      "Processing Record 7 of Set 61 | kahului\n",
      "Processing Record 8 of Set 61 | chokurdakh\n",
      "Processing Record 9 of Set 61 | devgarh\n",
      "Processing Record 10 of Set 61 | hobyo\n",
      "Processing Record 11 of Set 61 | hilo\n",
      "Processing Record 12 of Set 61 | kapaa\n",
      "Processing Record 13 of Set 61 | dikson\n",
      "Processing Record 14 of Set 61 | severo-kurilsk\n",
      "Processing Record 15 of Set 61 | yellowknife\n",
      "Processing Record 16 of Set 61 | barentsburg\n",
      "City not found. Skipping...\n",
      "Processing Record 17 of Set 61 | fortuna\n",
      "Processing Record 18 of Set 61 | lagoa\n",
      "Processing Record 19 of Set 61 | victoria\n",
      "Processing Record 20 of Set 61 | kaitangata\n",
      "Processing Record 21 of Set 61 | taolanaro\n",
      "City not found. Skipping...\n",
      "Processing Record 22 of Set 61 | abu kamal\n",
      "Processing Record 23 of Set 61 | tuktoyaktuk\n",
      "Processing Record 24 of Set 61 | axim\n",
      "Processing Record 25 of Set 61 | santa rosa\n",
      "Processing Record 26 of Set 61 | katsiveli\n",
      "City not found. Skipping...\n",
      "Processing Record 27 of Set 61 | hobart\n",
      "Processing Record 28 of Set 61 | torbay\n",
      "Processing Record 29 of Set 61 | thompson\n",
      "Processing Record 30 of Set 61 | longyan\n",
      "Processing Record 31 of Set 61 | moranbah\n",
      "Processing Record 32 of Set 61 | ahipara\n",
      "Processing Record 33 of Set 61 | bredasdorp\n",
      "Processing Record 34 of Set 61 | tual\n",
      "Processing Record 35 of Set 61 | cape town\n",
      "Processing Record 36 of Set 61 | saint-francois\n",
      "Processing Record 37 of Set 61 | deputatskiy\n",
      "Processing Record 38 of Set 61 | solnechnyy\n",
      "Processing Record 39 of Set 61 | mataura\n",
      "Processing Record 40 of Set 61 | kinango\n",
      "Processing Record 41 of Set 61 | moron\n",
      "Processing Record 42 of Set 61 | hare bay\n",
      "Processing Record 43 of Set 61 | nizhniy ingash\n",
      "Processing Record 44 of Set 61 | ostrovnoy\n",
      "Processing Record 45 of Set 61 | faanui\n",
      "Processing Record 46 of Set 61 | luanda\n",
      "Processing Record 47 of Set 61 | marcona\n",
      "City not found. Skipping...\n",
      "Processing Record 48 of Set 61 | valencia\n",
      "Processing Record 49 of Set 61 | barrow\n",
      "Processing Record 50 of Set 61 | yagoua\n",
      "Processing Record 51 of Set 61 | tabas\n",
      "Processing Record 52 of Set 61 | kutum\n",
      "Processing Record 53 of Set 61 | kuopio\n",
      "Processing Record 1 of Set 62 | qaanaaq\n",
      "Processing Record 2 of Set 62 | buala\n",
      "Processing Record 3 of Set 62 | honiara\n",
      "Processing Record 4 of Set 62 | la union\n",
      "Processing Record 5 of Set 62 | la ronge\n",
      "Processing Record 6 of Set 62 | kodinsk\n",
      "Processing Record 7 of Set 62 | georgetown\n",
      "Processing Record 8 of Set 62 | fernie\n",
      "Processing Record 9 of Set 62 | punta arenas\n",
      "Processing Record 10 of Set 62 | saint-philippe\n",
      "Processing Record 11 of Set 62 | busselton\n",
      "Processing Record 12 of Set 62 | inirida\n",
      "Processing Record 13 of Set 62 | ardesen\n",
      "Processing Record 14 of Set 62 | kodiak\n",
      "Processing Record 15 of Set 62 | khromtau\n",
      "Processing Record 16 of Set 62 | monroe\n",
      "Processing Record 17 of Set 62 | albany\n",
      "Processing Record 18 of Set 62 | canico\n",
      "Processing Record 19 of Set 62 | mys shmidta\n",
      "City not found. Skipping...\n",
      "Processing Record 20 of Set 62 | guane\n",
      "Processing Record 21 of Set 62 | atuona\n",
      "Processing Record 22 of Set 62 | rikitea\n",
      "Processing Record 23 of Set 62 | port alfred\n",
      "Processing Record 24 of Set 62 | vaini\n",
      "Processing Record 25 of Set 62 | clyde river\n",
      "Processing Record 26 of Set 62 | zumpango\n",
      "Processing Record 27 of Set 62 | bluff\n",
      "Processing Record 28 of Set 62 | hasaki\n",
      "Processing Record 29 of Set 62 | bethel\n",
      "Processing Record 30 of Set 62 | tevaitoa\n",
      "Processing Record 31 of Set 62 | necochea\n",
      "Processing Record 32 of Set 62 | benjamin hill\n",
      "Processing Record 33 of Set 62 | ancud\n",
      "Processing Record 34 of Set 62 | coquimbo\n",
      "Processing Record 35 of Set 62 | saint-pierre\n",
      "Processing Record 36 of Set 62 | khatanga\n",
      "Processing Record 37 of Set 62 | codrington\n",
      "Processing Record 38 of Set 62 | airai\n",
      "Processing Record 39 of Set 62 | karamay\n",
      "City not found. Skipping...\n",
      "Processing Record 40 of Set 62 | bambous virieux\n",
      "Processing Record 41 of Set 62 | canon city\n",
      "Processing Record 42 of Set 62 | khandyga\n",
      "Processing Record 43 of Set 62 | hermanus\n",
      "Processing Record 44 of Set 62 | mayo\n",
      "Processing Record 45 of Set 62 | bataipora\n",
      "Processing Record 46 of Set 62 | east london\n",
      "Processing Record 47 of Set 62 | katsuura\n",
      "Processing Record 48 of Set 62 | harper\n",
      "Processing Record 49 of Set 62 | saskylakh\n",
      "Processing Record 50 of Set 62 | hithadhoo\n",
      "Processing Record 1 of Set 63 | warqla\n",
      "City not found. Skipping...\n",
      "Processing Record 2 of Set 63 | kavaratti\n",
      "Processing Record 3 of Set 63 | ushuaia\n",
      "Processing Record 4 of Set 63 | plettenberg bay\n",
      "Processing Record 5 of Set 63 | aljezur\n",
      "Processing Record 6 of Set 63 | chapais\n",
      "Processing Record 7 of Set 63 | pamantingan\n",
      "Processing Record 8 of Set 63 | nemuro\n",
      "Processing Record 9 of Set 63 | nome\n",
      "Processing Record 10 of Set 63 | tsihombe\n",
      "City not found. Skipping...\n",
      "Processing Record 11 of Set 63 | portland\n",
      "Processing Record 12 of Set 63 | arraial do cabo\n",
      "Processing Record 13 of Set 63 | mar del plata\n",
      "Processing Record 14 of Set 63 | chernyshevskiy\n",
      "Processing Record 15 of Set 63 | chuy\n",
      "Processing Record 16 of Set 63 | havoysund\n",
      "Processing Record 17 of Set 63 | mahebourg\n",
      "Processing Record 18 of Set 63 | singaraja\n",
      "Processing Record 19 of Set 63 | poum\n",
      "Processing Record 20 of Set 63 | san patricio\n",
      "Processing Record 21 of Set 63 | limoges\n",
      "Processing Record 22 of Set 63 | orlik\n",
      "Processing Record 23 of Set 63 | pisco\n",
      "Processing Record 24 of Set 63 | sao filipe\n",
      "Processing Record 25 of Set 63 | nanlong\n",
      "Processing Record 26 of Set 63 | lavrentiya\n",
      "Processing Record 27 of Set 63 | kamenskoye\n",
      "City not found. Skipping...\n",
      "Processing Record 28 of Set 63 | merauke\n",
      "Processing Record 29 of Set 63 | new norfolk\n",
      "Processing Record 30 of Set 63 | cam ranh\n",
      "Processing Record 31 of Set 63 | aksu\n",
      "Processing Record 32 of Set 63 | whitehorse\n",
      "Processing Record 33 of Set 63 | qaqortoq\n",
      "Processing Record 34 of Set 63 | gamba\n",
      "Processing Record 35 of Set 63 | narsaq\n",
      "Processing Record 36 of Set 63 | timbo\n",
      "Processing Record 37 of Set 63 | sept-iles\n",
      "Processing Record 38 of Set 63 | longyearbyen\n",
      "Processing Record 39 of Set 63 | krasnoselkup\n",
      "Processing Record 40 of Set 63 | pacific grove\n",
      "Processing Record 41 of Set 63 | dekar\n",
      "Processing Record 42 of Set 63 | provideniya\n",
      "Processing Record 43 of Set 63 | ucluelet\n",
      "Processing Record 44 of Set 63 | majene\n",
      "Processing Record 45 of Set 63 | vidim\n",
      "Processing Record 46 of Set 63 | aranda de duero\n",
      "Processing Record 47 of Set 63 | andenes\n",
      "Processing Record 48 of Set 63 | padang\n",
      "Processing Record 49 of Set 63 | maniitsoq\n",
      "Processing Record 50 of Set 63 | port elizabeth\n",
      "Processing Record 1 of Set 64 | road town\n",
      "Processing Record 2 of Set 64 | nizhneyansk\n",
      "City not found. Skipping...\n",
      "Processing Record 3 of Set 64 | harnosand\n",
      "Processing Record 4 of Set 64 | dicabisagan\n",
      "Processing Record 5 of Set 64 | celestun\n",
      "Processing Record 6 of Set 64 | attawapiskat\n",
      "City not found. Skipping...\n",
      "Processing Record 7 of Set 64 | folldal\n",
      "Processing Record 8 of Set 64 | vila velha\n",
      "Processing Record 9 of Set 64 | sayyan\n",
      "Processing Record 10 of Set 64 | pevek\n",
      "Processing Record 11 of Set 64 | nanortalik\n",
      "Processing Record 12 of Set 64 | alyangula\n",
      "Processing Record 13 of Set 64 | kuznechnoye\n",
      "Processing Record 14 of Set 64 | timizart\n",
      "Processing Record 15 of Set 64 | botwood\n",
      "Processing Record 16 of Set 64 | atambua\n",
      "Processing Record 17 of Set 64 | karratha\n",
      "Processing Record 18 of Set 64 | nabire\n",
      "Processing Record 19 of Set 64 | yokadouma\n",
      "Processing Record 20 of Set 64 | tiksi\n",
      "Processing Record 21 of Set 64 | karlskoga\n",
      "Processing Record 22 of Set 64 | saint-augustin\n",
      "Processing Record 23 of Set 64 | klaksvik\n",
      "Processing Record 24 of Set 64 | boa vista\n",
      "Processing Record 25 of Set 64 | maldonado\n",
      "Processing Record 26 of Set 64 | hamilton\n",
      "Processing Record 27 of Set 64 | osa\n",
      "Processing Record 28 of Set 64 | tromso\n",
      "Processing Record 29 of Set 64 | souillac\n",
      "Processing Record 30 of Set 64 | pilar\n",
      "Processing Record 31 of Set 64 | ploufragan\n",
      "Processing Record 32 of Set 64 | sitka\n",
      "Processing Record 33 of Set 64 | broken hill\n",
      "Processing Record 34 of Set 64 | toktogul\n",
      "Processing Record 35 of Set 64 | mange\n",
      "Processing Record 36 of Set 64 | ilulissat\n",
      "Processing Record 37 of Set 64 | sarangani\n",
      "Processing Record 38 of Set 64 | carnarvon\n",
      "Processing Record 39 of Set 64 | najran\n"
     ]
    },
    {
     "name": "stdout",
     "output_type": "stream",
     "text": [
      "Processing Record 40 of Set 64 | grand river south east\n",
      "City not found. Skipping...\n",
      "Processing Record 41 of Set 64 | banda aceh\n",
      "Processing Record 42 of Set 64 | kibuye\n",
      "Processing Record 43 of Set 64 | santa eulalia del rio\n",
      "City not found. Skipping...\n",
      "Processing Record 44 of Set 64 | esperance\n",
      "Processing Record 45 of Set 64 | shimoda\n",
      "Processing Record 46 of Set 64 | north bend\n",
      "Processing Record 47 of Set 64 | upernavik\n",
      "Processing Record 48 of Set 64 | yarmouth\n",
      "Processing Record 49 of Set 64 | calvia\n",
      "Processing Record 50 of Set 64 | anderson\n",
      "Processing Record 1 of Set 65 | avarua\n",
      "Processing Record 2 of Set 65 | marsa matruh\n",
      "Processing Record 3 of Set 65 | meulaboh\n",
      "Processing Record 4 of Set 65 | tomatlan\n",
      "Processing Record 5 of Set 65 | pangkalanbuun\n",
      "Processing Record 6 of Set 65 | jaru\n",
      "Processing Record 7 of Set 65 | puerto escondido\n",
      "Processing Record 8 of Set 65 | muros\n",
      "Processing Record 9 of Set 65 | hami\n",
      "Processing Record 10 of Set 65 | panama city\n",
      "Processing Record 11 of Set 65 | corn island\n",
      "Processing Record 12 of Set 65 | uruguaiana\n",
      "Processing Record 13 of Set 65 | houston\n",
      "Processing Record 14 of Set 65 | cabo san lucas\n",
      "Processing Record 15 of Set 65 | tasiilaq\n",
      "Processing Record 16 of Set 65 | puerto ayora\n",
      "Processing Record 17 of Set 65 | butaritari\n",
      "Processing Record 18 of Set 65 | hofn\n",
      "Processing Record 19 of Set 65 | geraldton\n",
      "Processing Record 20 of Set 65 | burns lake\n",
      "Processing Record 21 of Set 65 | olafsvik\n",
      "Processing Record 22 of Set 65 | mahibadhoo\n",
      "Processing Record 23 of Set 65 | alta floresta\n",
      "Processing Record 24 of Set 65 | amderma\n",
      "City not found. Skipping...\n",
      "Processing Record 25 of Set 65 | leningradskiy\n",
      "Processing Record 26 of Set 65 | avera\n",
      "Processing Record 27 of Set 65 | upata\n",
      "Processing Record 28 of Set 65 | ponta do sol\n",
      "Processing Record 29 of Set 65 | sembabule\n",
      "Processing Record 30 of Set 65 | kenai\n",
      "Processing Record 31 of Set 65 | kavieng\n",
      "Processing Record 32 of Set 65 | nisia floresta\n",
      "Processing Record 33 of Set 65 | novosokolniki\n",
      "Processing Record 34 of Set 65 | karaton\n",
      "Processing Record 35 of Set 65 | castro\n",
      "Processing Record 36 of Set 65 | pazaric\n",
      "Processing Record 37 of Set 65 | aklavik\n",
      "Processing Record 38 of Set 65 | cherskiy\n",
      "Processing Record 39 of Set 65 | mayskiy\n",
      "Processing Record 40 of Set 65 | vardo\n",
      "Processing Record 41 of Set 65 | pangai\n",
      "Processing Record 42 of Set 65 | haines junction\n",
      "Processing Record 43 of Set 65 | kadykchan\n",
      "City not found. Skipping...\n",
      "Processing Record 44 of Set 65 | bilma\n",
      "Processing Record 45 of Set 65 | half moon bay\n",
      "Processing Record 46 of Set 65 | phuket\n",
      "Processing Record 47 of Set 65 | peniche\n",
      "Processing Record 48 of Set 65 | urumqi\n",
      "Processing Record 49 of Set 65 | pailon\n",
      "Processing Record 50 of Set 65 | viedma\n",
      "Processing Record 1 of Set 66 | lazarev\n",
      "Processing Record 2 of Set 66 | onguday\n",
      "Processing Record 3 of Set 66 | lata\n",
      "Processing Record 4 of Set 66 | aktau\n",
      "Processing Record 5 of Set 66 | fonte boa\n",
      "Processing Record 6 of Set 66 | illoqqortoormiut\n",
      "City not found. Skipping...\n",
      "Processing Record 7 of Set 66 | fare\n",
      "Processing Record 8 of Set 66 | tura\n",
      "Processing Record 9 of Set 66 | birjand\n",
      "Processing Record 10 of Set 66 | heidelberg\n",
      "Processing Record 11 of Set 66 | teya\n",
      "Processing Record 12 of Set 66 | korla\n",
      "Processing Record 13 of Set 66 | carutapera\n",
      "Processing Record 14 of Set 66 | ambon\n",
      "Processing Record 15 of Set 66 | nuuk\n",
      "Processing Record 16 of Set 66 | theologos\n",
      "City not found. Skipping...\n",
      "Processing Record 17 of Set 66 | manokwari\n",
      "Processing Record 18 of Set 66 | tuatapere\n",
      "Processing Record 19 of Set 66 | cayenne\n",
      "Processing Record 20 of Set 66 | uglovskoye\n",
      "Processing Record 21 of Set 66 | cotia\n",
      "Processing Record 22 of Set 66 | petropavlovsk-kamchatskiy\n",
      "Processing Record 23 of Set 66 | birao\n",
      "Processing Record 24 of Set 66 | umm durman\n",
      "City not found. Skipping...\n",
      "Processing Record 25 of Set 66 | kaduqli\n",
      "Processing Record 26 of Set 66 | marawi\n",
      "Processing Record 27 of Set 66 | vaitupu\n",
      "City not found. Skipping...\n",
      "Processing Record 28 of Set 66 | norman wells\n",
      "Processing Record 29 of Set 66 | venado tuerto\n",
      "Processing Record 30 of Set 66 | hegang\n",
      "Processing Record 31 of Set 66 | otradnoye\n",
      "Processing Record 32 of Set 66 | nikolayevsk-na-amure\n",
      "Processing Record 33 of Set 66 | ribeira grande\n",
      "Processing Record 34 of Set 66 | ambilobe\n",
      "Processing Record 35 of Set 66 | iquitos\n",
      "Processing Record 36 of Set 66 | bubaque\n",
      "Processing Record 37 of Set 66 | yanam\n",
      "Processing Record 38 of Set 66 | washington\n",
      "Processing Record 39 of Set 66 | juneau\n",
      "Processing Record 40 of Set 66 | cap-aux-meules\n",
      "Processing Record 41 of Set 66 | sentyabrskiy\n",
      "City not found. Skipping...\n",
      "Processing Record 42 of Set 66 | santiago del estero\n",
      "Processing Record 43 of Set 66 | jalu\n",
      "Processing Record 44 of Set 66 | alugan\n",
      "Processing Record 45 of Set 66 | fukuma\n",
      "Processing Record 46 of Set 66 | monte patria\n",
      "Processing Record 47 of Set 66 | ferrol\n",
      "Processing Record 48 of Set 66 | west bay\n",
      "Processing Record 49 of Set 66 | pangnirtung\n",
      "Processing Record 50 of Set 66 | bowral\n",
      "Processing Record 1 of Set 67 | arroyo\n",
      "Processing Record 2 of Set 67 | la palma\n",
      "Processing Record 3 of Set 67 | hokitika\n",
      "Processing Record 4 of Set 67 | flinders\n",
      "Processing Record 5 of Set 67 | lethem\n",
      "Processing Record 6 of Set 67 | kupang\n",
      "Processing Record 7 of Set 67 | constitucion\n",
      "Processing Record 8 of Set 67 | inhambane\n",
      "Processing Record 9 of Set 67 | lompoc\n",
      "Processing Record 10 of Set 67 | cockburn town\n",
      "Processing Record 11 of Set 67 | yialos\n",
      "City not found. Skipping...\n",
      "Processing Record 12 of Set 67 | ingham\n",
      "Processing Record 13 of Set 67 | yumen\n",
      "Processing Record 14 of Set 67 | bolungarvik\n",
      "City not found. Skipping...\n",
      "Processing Record 15 of Set 67 | ola\n",
      "Processing Record 16 of Set 67 | gornyy\n",
      "Processing Record 17 of Set 67 | okhotsk\n",
      "Processing Record 18 of Set 67 | salalah\n",
      "Processing Record 19 of Set 67 | odweyne\n",
      "Processing Record 20 of Set 67 | phan thiet\n",
      "Processing Record 21 of Set 67 | lashio\n",
      "Processing Record 22 of Set 67 | torgau\n",
      "Processing Record 23 of Set 67 | kalmunai\n",
      "Processing Record 24 of Set 67 | bengkulu\n",
      "Processing Record 25 of Set 67 | kyra\n",
      "Processing Record 26 of Set 67 | meadow lake\n",
      "Processing Record 27 of Set 67 | abaza\n",
      "Processing Record 28 of Set 67 | vorsma\n",
      "Processing Record 29 of Set 67 | nowy dwor gdanski\n",
      "Processing Record 30 of Set 67 | crateus\n",
      "Processing Record 31 of Set 67 | olhao\n",
      "Processing Record 32 of Set 67 | rawson\n",
      "Processing Record 33 of Set 67 | nanyuki\n",
      "Processing Record 34 of Set 67 | santa cruz\n",
      "Processing Record 35 of Set 67 | saint combs\n",
      "City not found. Skipping...\n",
      "Processing Record 36 of Set 67 | nishihara\n",
      "Processing Record 37 of Set 67 | nouadhibou\n",
      "Processing Record 38 of Set 67 | vargashi\n",
      "Processing Record 39 of Set 67 | milingimbi\n",
      "City not found. Skipping...\n",
      "Processing Record 40 of Set 67 | sao miguel do araguaia\n",
      "Processing Record 41 of Set 67 | wichian buri\n",
      "Processing Record 42 of Set 67 | bardiyah\n",
      "Processing Record 43 of Set 67 | penzance\n",
      "Processing Record 44 of Set 67 | mangrol\n",
      "Processing Record 45 of Set 67 | terney\n",
      "Processing Record 46 of Set 67 | aix-les-bains\n",
      "Processing Record 47 of Set 67 | itoman\n",
      "Processing Record 48 of Set 67 | ulaangom\n",
      "Processing Record 49 of Set 67 | khani\n",
      "Processing Record 50 of Set 67 | yeniseysk\n",
      "Processing Record 1 of Set 68 | uige\n",
      "Processing Record 2 of Set 68 | uvalde\n",
      "Processing Record 3 of Set 68 | kusk\n",
      "City not found. Skipping...\n",
      "Processing Record 4 of Set 68 | vytegra\n",
      "Processing Record 5 of Set 68 | bakchar\n",
      "Processing Record 6 of Set 68 | port hedland\n",
      "Processing Record 7 of Set 68 | lebu\n",
      "Processing Record 8 of Set 68 | sabang\n",
      "Processing Record 9 of Set 68 | dosso\n",
      "Processing Record 10 of Set 68 | samusu\n",
      "City not found. Skipping...\n",
      "Processing Record 11 of Set 68 | guerrero negro\n",
      "Processing Record 12 of Set 68 | choma\n",
      "Processing Record 13 of Set 68 | taguatinga\n",
      "Processing Record 14 of Set 68 | iqaluit\n",
      "Processing Record 15 of Set 68 | manitouwadge\n",
      "Processing Record 16 of Set 68 | kamenka\n",
      "Processing Record 17 of Set 68 | pamyat parizhskoy kommuny\n",
      "Processing Record 18 of Set 68 | richards bay\n",
      "Processing Record 19 of Set 68 | cidreira\n",
      "Processing Record 20 of Set 68 | krasnyy chikoy\n",
      "Processing Record 21 of Set 68 | palmas\n",
      "Processing Record 22 of Set 68 | arrecife\n",
      "Processing Record 23 of Set 68 | bathsheba\n",
      "Processing Record 24 of Set 68 | kieta\n",
      "Processing Record 25 of Set 68 | kalininskaya\n"
     ]
    },
    {
     "name": "stdout",
     "output_type": "stream",
     "text": [
      "Processing Record 26 of Set 68 | ilhabela\n",
      "Processing Record 27 of Set 68 | halifax\n",
      "Processing Record 28 of Set 68 | port hardy\n",
      "Processing Record 29 of Set 68 | san cristobal\n",
      "Processing Record 30 of Set 68 | marienburg\n",
      "Processing Record 31 of Set 68 | anloga\n",
      "Processing Record 32 of Set 68 | waingapu\n",
      "Processing Record 33 of Set 68 | prabumulih\n",
      "Processing Record 34 of Set 68 | baykit\n",
      "Processing Record 35 of Set 68 | posse\n",
      "Processing Record 36 of Set 68 | zdvinsk\n",
      "Processing Record 37 of Set 68 | kisujszallas\n",
      "Processing Record 38 of Set 68 | saldanha\n",
      "Processing Record 39 of Set 68 | el buen pastor\n",
      "City not found. Skipping...\n",
      "Processing Record 40 of Set 68 | mackay\n",
      "Processing Record 41 of Set 68 | bakel\n",
      "Processing Record 42 of Set 68 | trat\n",
      "Processing Record 43 of Set 68 | skagen\n",
      "Processing Record 44 of Set 68 | broome\n",
      "Processing Record 45 of Set 68 | prieska\n",
      "Processing Record 46 of Set 68 | bagdarin\n",
      "Processing Record 47 of Set 68 | iberia\n",
      "Processing Record 48 of Set 68 | tiarei\n",
      "Processing Record 49 of Set 68 | ambunti\n",
      "Processing Record 50 of Set 68 | salinas\n",
      "Processing Record 1 of Set 69 | vestmannaeyjar\n",
      "Processing Record 2 of Set 69 | buy\n",
      "Processing Record 3 of Set 69 | san rafael\n",
      "Processing Record 4 of Set 69 | shingu\n",
      "Processing Record 5 of Set 69 | luwuk\n",
      "Processing Record 6 of Set 69 | bilari\n",
      "Processing Record 7 of Set 69 | camabatela\n",
      "Processing Record 8 of Set 69 | navapur\n",
      "City not found. Skipping...\n",
      "Processing Record 9 of Set 69 | kolpashevo\n",
      "Processing Record 10 of Set 69 | lolua\n",
      "City not found. Skipping...\n",
      "Processing Record 11 of Set 69 | liverpool\n",
      "Processing Record 12 of Set 69 | omboue\n",
      "Processing Record 13 of Set 69 | eastchester\n",
      "Processing Record 14 of Set 69 | warrnambool\n",
      "Processing Record 15 of Set 69 | manaure\n",
      "Processing Record 16 of Set 69 | hay river\n",
      "Processing Record 17 of Set 69 | zyryanka\n",
      "Processing Record 18 of Set 69 | eyl\n",
      "Processing Record 19 of Set 69 | high level\n",
      "Processing Record 20 of Set 69 | luderitz\n",
      "Processing Record 21 of Set 69 | kandrian\n",
      "Processing Record 22 of Set 69 | omsukchan\n",
      "Processing Record 23 of Set 69 | aasiaat\n",
      "Processing Record 24 of Set 69 | isangel\n",
      "Processing Record 25 of Set 69 | rusape\n",
      "Processing Record 26 of Set 69 | marsh harbour\n",
      "Processing Record 27 of Set 69 | hovd\n",
      "Processing Record 28 of Set 69 | zaraza\n",
      "Processing Record 29 of Set 69 | redmond\n",
      "Processing Record 30 of Set 69 | hudson bay\n",
      "Processing Record 31 of Set 69 | manado\n",
      "Processing Record 32 of Set 69 | zaragoza\n",
      "Processing Record 33 of Set 69 | normandin\n",
      "Processing Record 34 of Set 69 | saint george\n",
      "Processing Record 35 of Set 69 | acapulco\n",
      "Processing Record 36 of Set 69 | riviere-au-renard\n",
      "Processing Record 37 of Set 69 | margate\n",
      "Processing Record 38 of Set 69 | wittingen\n",
      "Processing Record 39 of Set 69 | mastic beach\n",
      "Processing Record 40 of Set 69 | cap malheureux\n",
      "Processing Record 41 of Set 69 | naze\n",
      "Processing Record 42 of Set 69 | kandi\n",
      "Processing Record 43 of Set 69 | ternate\n",
      "Processing Record 44 of Set 69 | mount gambier\n",
      "Processing Record 45 of Set 69 | schleiden\n",
      "Processing Record 46 of Set 69 | alice springs\n",
      "Processing Record 47 of Set 69 | loandjili\n",
      "Processing Record 48 of Set 69 | namatanai\n",
      "Processing Record 49 of Set 69 | pasighat\n",
      "Processing Record 50 of Set 69 | valle hermoso\n",
      "Processing Record 1 of Set 70 | shieli\n",
      "Processing Record 2 of Set 70 | winnemucca\n",
      "Processing Record 3 of Set 70 | bitung\n",
      "Processing Record 4 of Set 70 | san isidro\n",
      "Processing Record 5 of Set 70 | camacha\n",
      "Processing Record 6 of Set 70 | santiago\n",
      "Processing Record 7 of Set 70 | saleaula\n",
      "City not found. Skipping...\n",
      "Processing Record 8 of Set 70 | stolin\n",
      "Processing Record 9 of Set 70 | udarnyy\n",
      "Processing Record 10 of Set 70 | bandarbeyla\n",
      "Processing Record 11 of Set 70 | ornskoldsvik\n",
      "Processing Record 12 of Set 70 | zambezi\n",
      "Processing Record 13 of Set 70 | forestville\n",
      "Processing Record 14 of Set 70 | itapirapua\n",
      "Processing Record 15 of Set 70 | finschhafen\n",
      "Processing Record 16 of Set 70 | bereznik\n",
      "Processing Record 17 of Set 70 | puerto lopez\n",
      "Processing Record 18 of Set 70 | pathein\n",
      "Processing Record 19 of Set 70 | fukue\n",
      "Processing Record 20 of Set 70 | tarata\n",
      "Processing Record 21 of Set 70 | sao felix do xingu\n",
      "Processing Record 22 of Set 70 | ascension\n",
      "Processing Record 23 of Set 70 | togur\n",
      "Processing Record 24 of Set 70 | dingle\n",
      "Processing Record 25 of Set 70 | leshukonskoye\n",
      "Processing Record 26 of Set 70 | matagami\n",
      "Processing Record 27 of Set 70 | oktyabrskiy\n",
      "Processing Record 28 of Set 70 | shirokiy\n",
      "Processing Record 29 of Set 70 | olenegorsk\n",
      "Processing Record 30 of Set 70 | islahiye\n",
      "Processing Record 31 of Set 70 | leua\n",
      "Processing Record 32 of Set 70 | puerto plata\n",
      "Processing Record 33 of Set 70 | asau\n",
      "Processing Record 34 of Set 70 | lere\n",
      "Processing Record 35 of Set 70 | port lincoln\n",
      "Processing Record 36 of Set 70 | zagora\n",
      "Processing Record 37 of Set 70 | grindavik\n",
      "Processing Record 38 of Set 70 | yirol\n",
      "City not found. Skipping...\n",
      "Processing Record 39 of Set 70 | zhigansk\n",
      "Processing Record 40 of Set 70 | adrar\n",
      "Processing Record 41 of Set 70 | sorland\n",
      "Processing Record 42 of Set 70 | praia da vitoria\n",
      "Processing Record 43 of Set 70 | aketi\n",
      "Processing Record 44 of Set 70 | maningrida\n",
      "Processing Record 45 of Set 70 | elizabeth city\n",
      "Processing Record 46 of Set 70 | belorechensk\n",
      "Processing Record 47 of Set 70 | pelym\n",
      "Processing Record 48 of Set 70 | kauhajoki\n",
      "Processing Record 49 of Set 70 | eskasem\n",
      "City not found. Skipping...\n",
      "Processing Record 50 of Set 70 | polunochnoye\n",
      "Processing Record 1 of Set 71 | menongue\n",
      "Processing Record 2 of Set 71 | tecoanapa\n",
      "Processing Record 3 of Set 71 | tandalti\n",
      "Processing Record 4 of Set 71 | slyudyanka\n",
      "Processing Record 5 of Set 71 | hyeres\n",
      "Processing Record 6 of Set 71 | vila\n",
      "Processing Record 7 of Set 71 | quatre cocos\n",
      "Processing Record 8 of Set 71 | baruun-urt\n",
      "Processing Record 9 of Set 71 | pedernales\n",
      "Processing Record 10 of Set 71 | lamar\n",
      "Processing Record 11 of Set 71 | kurchum\n",
      "Processing Record 12 of Set 71 | berlevag\n",
      "Processing Record 13 of Set 71 | maragogi\n",
      "Processing Record 14 of Set 71 | port augusta\n",
      "Processing Record 15 of Set 71 | yulara\n",
      "Processing Record 16 of Set 71 | mecca\n",
      "Processing Record 17 of Set 71 | terrace bay\n",
      "Processing Record 18 of Set 71 | luganville\n",
      "Processing Record 19 of Set 71 | spirit river\n",
      "Processing Record 20 of Set 71 | dunedin\n",
      "Processing Record 21 of Set 71 | sankt johann im pongau\n",
      "Processing Record 22 of Set 71 | beroroha\n",
      "Processing Record 23 of Set 71 | satitoa\n",
      "City not found. Skipping...\n",
      "Processing Record 24 of Set 71 | changping\n",
      "Processing Record 25 of Set 71 | larsnes\n",
      "Processing Record 26 of Set 71 | devils lake\n",
      "Processing Record 27 of Set 71 | lorengau\n",
      "Processing Record 28 of Set 71 | golden\n",
      "Processing Record 29 of Set 71 | kamina\n",
      "Processing Record 30 of Set 71 | jumla\n",
      "Processing Record 31 of Set 71 | talsi\n",
      "Processing Record 32 of Set 71 | aizawl\n",
      "Processing Record 33 of Set 71 | douentza\n",
      "Processing Record 34 of Set 71 | mahajanga\n",
      "Processing Record 35 of Set 71 | flin flon\n",
      "Processing Record 36 of Set 71 | olenino\n",
      "Processing Record 37 of Set 71 | jieshi\n",
      "Processing Record 38 of Set 71 | palabuhanratu\n",
      "City not found. Skipping...\n",
      "Processing Record 39 of Set 71 | coroata\n",
      "Processing Record 40 of Set 71 | kasongo\n",
      "Processing Record 41 of Set 71 | smirnykh\n",
      "Processing Record 42 of Set 71 | north branch\n",
      "Processing Record 43 of Set 71 | katra\n",
      "Processing Record 44 of Set 71 | buraydah\n",
      "Processing Record 45 of Set 71 | presidente medici\n",
      "Processing Record 46 of Set 71 | jiutai\n",
      "Processing Record 47 of Set 71 | barkhan\n",
      "Processing Record 48 of Set 71 | auki\n",
      "Processing Record 49 of Set 71 | sun city west\n",
      "Processing Record 50 of Set 71 | keetmanshoop\n",
      "Processing Record 1 of Set 72 | alofi\n",
      "Processing Record 2 of Set 72 | mandiana\n",
      "Processing Record 3 of Set 72 | perisani\n",
      "Processing Record 4 of Set 72 | te anau\n",
      "Processing Record 5 of Set 72 | marzuq\n",
      "Processing Record 6 of Set 72 | mitsamiouli\n",
      "Processing Record 7 of Set 72 | pundaguitan\n",
      "Processing Record 8 of Set 72 | santa rosa del sur\n",
      "Processing Record 9 of Set 72 | tawzar\n",
      "City not found. Skipping...\n",
      "Processing Record 10 of Set 72 | savannakhet\n",
      "Processing Record 11 of Set 72 | haibowan\n",
      "City not found. Skipping...\n",
      "Processing Record 12 of Set 72 | egvekinot\n",
      "Processing Record 13 of Set 72 | westport\n",
      "Processing Record 14 of Set 72 | dharchula\n",
      "Processing Record 15 of Set 72 | altus\n"
     ]
    },
    {
     "name": "stdout",
     "output_type": "stream",
     "text": [
      "Processing Record 16 of Set 72 | trofors\n",
      "Processing Record 17 of Set 72 | florenville\n",
      "Processing Record 18 of Set 72 | taian\n",
      "Processing Record 19 of Set 72 | kysyl-syr\n",
      "Processing Record 20 of Set 72 | mpika\n",
      "Processing Record 21 of Set 72 | luebo\n",
      "Processing Record 22 of Set 72 | orlovskiy\n",
      "Processing Record 23 of Set 72 | clifton\n",
      "Processing Record 24 of Set 72 | ijaki\n",
      "City not found. Skipping...\n",
      "Processing Record 25 of Set 72 | srem\n",
      "Processing Record 26 of Set 72 | namanga\n",
      "Processing Record 27 of Set 72 | usinsk\n",
      "Processing Record 28 of Set 72 | taoudenni\n",
      "Processing Record 29 of Set 72 | vallenar\n",
      "Processing Record 30 of Set 72 | dwarka\n",
      "Processing Record 31 of Set 72 | aktash\n",
      "Processing Record 32 of Set 72 | roccastrada\n",
      "Processing Record 33 of Set 72 | warman\n",
      "Processing Record 34 of Set 72 | guaira\n",
      "Processing Record 35 of Set 72 | viru\n",
      "Processing Record 36 of Set 72 | lengshuitan\n",
      "Processing Record 37 of Set 72 | san quintin\n",
      "Processing Record 38 of Set 72 | shelburne\n",
      "Processing Record 39 of Set 72 | sampit\n",
      "Processing Record 40 of Set 72 | takhtamygda\n",
      "Processing Record 41 of Set 72 | corum\n",
      "Processing Record 42 of Set 72 | sisimiut\n",
      "Processing Record 43 of Set 72 | the pas\n",
      "Processing Record 44 of Set 72 | iracoubo\n",
      "Processing Record 45 of Set 72 | srednekolymsk\n",
      "Processing Record 46 of Set 72 | beringovskiy\n",
      "Processing Record 47 of Set 72 | talnakh\n",
      "Processing Record 48 of Set 72 | boyolangu\n",
      "Processing Record 49 of Set 72 | belushya guba\n",
      "City not found. Skipping...\n",
      "Processing Record 50 of Set 72 | wiang sa\n",
      "Processing Record 1 of Set 73 | yar-sale\n",
      "Processing Record 2 of Set 73 | papara\n",
      "Processing Record 3 of Set 73 | deoranian\n",
      "-----------------------------\n",
      "Data Retrieval Complete      \n",
      "-----------------------------\n"
     ]
    }
   ],
   "source": [
    "# Loop through all the cities in the list.\n",
    "for i, city in enumerate(cities):\n",
    "\n",
    "    # Group cities in sets of 50 for logging purposes.\n",
    "    if (i % 50 == 0 and i >= 50): #is remainder of 50 >= 0... basically checks if there is a remainder. if so contiue counting until there isn't\n",
    "        set_count += 1\n",
    "        record_count = 1\n",
    "    # Create endpoint URL with each city.\n",
    "    city_url = url + \"&q=\" + city.replace(\" \",\"+\") # replace all spaces in city with \"+\"\n",
    "\n",
    "    # Log the URL, record, and set numbers and the city.\n",
    "    print(f\"Processing Record {record_count} of Set {set_count} | {city}\")\n",
    "    # Add 1 to the record count.\n",
    "    record_count += 1\n",
    "    ###################################################################\n",
    "    #   Start your exception here...when it adds to the iterator      #\n",
    "    #   to go to the next record                                      #\n",
    "    ###################################################################\n",
    "# Run an API request for each of the cities.\n",
    "    try:\n",
    "        # Parse the JSON and retrieve data.\n",
    "        city_weather = requests.get(city_url).json()\n",
    "        # Parse out the needed data.\n",
    "        city_lat = city_weather[\"coord\"][\"lat\"]\n",
    "        city_lng = city_weather[\"coord\"][\"lon\"]\n",
    "        city_max_temp = city_weather[\"main\"][\"temp_max\"]\n",
    "        city_humidity = city_weather[\"main\"][\"humidity\"]\n",
    "        city_clouds = city_weather[\"clouds\"][\"all\"]\n",
    "        city_wind = city_weather[\"wind\"][\"speed\"]\n",
    "        city_country = city_weather[\"sys\"][\"country\"]\n",
    "        # Convert the date to ISO standard.\n",
    "        city_date = datetime.utcfromtimestamp(city_weather[\"dt\"]).strftime('%Y-%m-%d %H:%M:%S')\n",
    "        # Append the city information into city_data list.\n",
    "        city_data.append({\"City\": city.title(),\n",
    "                          \"Lat\": city_lat,\n",
    "                          \"Lng\": city_lng,\n",
    "                          \"Max Temp\": city_max_temp,\n",
    "                          \"Humidity\": city_humidity,\n",
    "                          \"Cloudiness\": city_clouds,\n",
    "                          \"Wind Speed\": city_wind,\n",
    "                          \"Country\": city_country,\n",
    "                          \"Date\": city_date})\n",
    "\n",
    "# If an error is experienced, skip the city.\n",
    "    except:\n",
    "        print(\"City not found. Skipping...\")\n",
    "        pass\n",
    "\n",
    "# Indicate that Data Loading is complete.\n",
    "print(\"-----------------------------\")\n",
    "print(\"Data Retrieval Complete      \")\n",
    "print(\"-----------------------------\")"
   ]
  },
  {
   "cell_type": "code",
   "execution_count": null,
   "metadata": {},
   "outputs": [],
   "source": []
  }
 ],
 "metadata": {
  "kernelspec": {
   "display_name": "Python 3",
   "language": "python",
   "name": "python3"
  },
  "language_info": {
   "codemirror_mode": {
    "name": "ipython",
    "version": 3
   },
   "file_extension": ".py",
   "mimetype": "text/x-python",
   "name": "python",
   "nbconvert_exporter": "python",
   "pygments_lexer": "ipython3",
   "version": "3.8.5"
  }
 },
 "nbformat": 4,
 "nbformat_minor": 4
}
