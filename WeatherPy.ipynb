{
 "cells": [
  {
   "cell_type": "code",
   "execution_count": 45,
   "metadata": {},
   "outputs": [],
   "source": [
    "import random\n",
    "import numpy as np\n",
    "import pandas as pd\n",
    "import matplotlib.pyplot as plt\n",
    "import timeit #time to process\n",
    "import requests\n",
    "import time\n",
    "from scipy.stats import linregress\n",
    "from datetime import datetime\n",
    "\n",
    "from config import weather_api_key\n",
    "from citipy import citipy # Use the citipy module to determine city based on latitude and longitude."
   ]
  },
  {
   "cell_type": "code",
   "execution_count": null,
   "metadata": {},
   "outputs": [],
   "source": []
  },
  {
   "cell_type": "code",
   "execution_count": 46,
   "metadata": {},
   "outputs": [
    {
     "data": {
      "text/plain": [
       "'2.24.0'"
      ]
     },
     "execution_count": 46,
     "metadata": {},
     "output_type": "execute_result"
    }
   ],
   "source": [
    "requests.__version__\n",
    "#https://requests.kennethreitz.org/en/master/\n"
   ]
  },
  {
   "cell_type": "code",
   "execution_count": 47,
   "metadata": {},
   "outputs": [
    {
     "data": {
      "text/plain": [
       "[-26.46519552347563,\n",
       " -52.12323107214977,\n",
       " 65.3266919650409,\n",
       " -85.40667358072527,\n",
       " 80.60366198325542,\n",
       " -38.43513471922765,\n",
       " -28.321531252970274,\n",
       " 4.250225361669543,\n",
       " -89.18804906048597,\n",
       " 0.541899158717585]"
      ]
     },
     "execution_count": 47,
     "metadata": {},
     "output_type": "execute_result"
    }
   ],
   "source": [
    "x = 1\n",
    "latitudes = []\n",
    "while x < 11:\n",
    "    random_lat = random.randint(-90, 89) + random.random()\n",
    "    latitudes.append(random_lat)\n",
    "    x += 1\n",
    "latitudes"
   ]
  },
  {
   "cell_type": "code",
   "execution_count": 48,
   "metadata": {},
   "outputs": [
    {
     "data": {
      "text/plain": [
       "74.5131442748987"
      ]
     },
     "execution_count": 48,
     "metadata": {},
     "output_type": "execute_result"
    }
   ],
   "source": [
    "#can not generate whole numbers\n",
    "random.uniform(-90, 90)"
   ]
  },
  {
   "cell_type": "code",
   "execution_count": 49,
   "metadata": {},
   "outputs": [
    {
     "data": {
      "text/plain": [
       "-33"
      ]
     },
     "execution_count": 49,
     "metadata": {},
     "output_type": "execute_result"
    }
   ],
   "source": [
    "# only generate whole numbers\n",
    "# step is used to seperate the random numbers by a minimum amount\n",
    "random.randrange(-90, 90, step=3)"
   ]
  },
  {
   "cell_type": "code",
   "execution_count": 50,
   "metadata": {},
   "outputs": [
    {
     "data": {
      "text/plain": [
       "55"
      ]
     },
     "execution_count": 50,
     "metadata": {},
     "output_type": "execute_result"
    }
   ],
   "source": [
    "#random whole numbers from with in a given range\n",
    "random.randrange(-90, 90, step=1)"
   ]
  },
  {
   "cell_type": "code",
   "execution_count": 51,
   "metadata": {},
   "outputs": [
    {
     "data": {
      "text/plain": [
       "7"
      ]
     },
     "execution_count": 51,
     "metadata": {},
     "output_type": "execute_result"
    }
   ],
   "source": [
    "#random whole numbers from with in a given range\n",
    "random.randint(-90,90)"
   ]
  },
  {
   "cell_type": "code",
   "execution_count": 52,
   "metadata": {},
   "outputs": [
    {
     "data": {
      "text/plain": [
       "array([ 15.80100874,  -1.06267132, -50.77200858,  25.76902446,\n",
       "        17.5631163 , -80.41949277, -56.96622568,  68.26856548,\n",
       "       -68.3246313 ,  -3.83325023, -80.73736201,  -7.078402  ,\n",
       "         3.95594468,  54.20117084,  55.84573072,  41.94120372,\n",
       "        34.23430621,  30.13282714,  54.46256589, -23.03951316,\n",
       "        46.4337009 , -20.75308131,  59.30845884, -15.25714534,\n",
       "        59.63403507, -27.28024437, -28.80127933,  38.74662286,\n",
       "       -77.91344425,  73.89765587,   0.20296821, -66.69217586,\n",
       "         0.19205806, -65.48348992, -37.32134081,  86.92170763,\n",
       "        41.40529218, -12.06942776,  58.81994012,   5.97392931,\n",
       "        34.21442327, -19.4831792 ,   6.1769649 , -80.02951203,\n",
       "        74.85692159, -38.94355826,  31.25176309, -22.72654536,\n",
       "       -56.98685248,  -9.02019939])"
      ]
     },
     "execution_count": 52,
     "metadata": {},
     "output_type": "execute_result"
    }
   ],
   "source": [
    "# generate and array of x (size) amount of numbers\n",
    "np.random.uniform(-90.000, 90.000, size=50)"
   ]
  },
  {
   "cell_type": "code",
   "execution_count": 53,
   "metadata": {},
   "outputs": [
    {
     "name": "stdout",
     "output_type": "stream",
     "text": [
      "14.7 µs ± 466 ns per loop (mean ± std. dev. of 7 runs, 100000 loops each)\n"
     ]
    }
   ],
   "source": [
    "# time to process line\n",
    "%timeit np.random.uniform(-90.000, 90.000, size=1500)"
   ]
  },
  {
   "cell_type": "code",
   "execution_count": 54,
   "metadata": {},
   "outputs": [
    {
     "name": "stdout",
     "output_type": "stream",
     "text": [
      "1.57 ms ± 51.7 µs per loop (mean ± std. dev. of 7 runs, 1000 loops each)\n"
     ]
    }
   ],
   "source": [
    "# For loop take 60 times longer than the np.random.uniform()\n",
    "def latitudes(size):\n",
    "    latitudes = []\n",
    "    x = 0\n",
    "    while x < (size):\n",
    "        random_lat = random.randint(-90, 90) + random.random()\n",
    "        latitudes.append(random_lat)\n",
    "        x += 1\n",
    "    return latitudes\n",
    "# Call the function with 1500.\n",
    "%timeit latitudes(1500)"
   ]
  },
  {
   "cell_type": "markdown",
   "metadata": {},
   "source": [
    "# Generate Random Lat Long"
   ]
  },
  {
   "cell_type": "code",
   "execution_count": 55,
   "metadata": {},
   "outputs": [
    {
     "data": {
      "text/plain": [
       "<zip at 0x204936bd2c0>"
      ]
     },
     "execution_count": 55,
     "metadata": {},
     "output_type": "execute_result"
    }
   ],
   "source": [
    "# Create a set of random latitude and longitude combinations.\n",
    "# zip creates pairs in the order listed\n",
    "lats = np.random.uniform(low=-90.000, high=90.000, size=1500)\n",
    "lngs = np.random.uniform(low=-180.000, high=180.000, size=1500)\n",
    "lat_lngs = zip(lats, lngs)\n",
    "lat_lngs"
   ]
  },
  {
   "cell_type": "markdown",
   "metadata": {},
   "source": [
    "#### Example --how to show contents of zip-- DO NOT DO THIS WITH 1500\n",
    "#### You can only unzip a zipped tuple once before it is removed from the\n",
    "#### computer's memory. Make sure you unzip the latitudes and longitudes \n",
    "#### into the coordinates list before moving on."
   ]
  },
  {
   "cell_type": "code",
   "execution_count": 56,
   "metadata": {},
   "outputs": [
    {
     "name": "stdout",
     "output_type": "stream",
     "text": [
      "25.12903645 -67.59741259\n",
      "25.92017388 11.09532135\n",
      "26.62509167 74.84233102\n",
      "-59.98969384 -76.89176677\n",
      "37.30571269 -61.13376282\n"
     ]
    }
   ],
   "source": [
    "# Create a practice set of random latitude and longitude combinations.\n",
    "x = [25.12903645, 25.92017388, 26.62509167, -59.98969384, 37.30571269]\n",
    "y = [-67.59741259, 11.09532135, 74.84233102, -76.89176677, -61.13376282]\n",
    "coordinates = zip(x, y)\n",
    "\n",
    "# Use the tuple() function to display the latitude and longitude combinations.\n",
    "for coordinate in coordinates:\n",
    "    print(coordinate[0], coordinate[1])"
   ]
  },
  {
   "cell_type": "code",
   "execution_count": 57,
   "metadata": {},
   "outputs": [],
   "source": [
    "# Add the latitudes and longitudes to a list.\n",
    "coordinates = list(lat_lngs)"
   ]
  },
  {
   "cell_type": "code",
   "execution_count": 58,
   "metadata": {},
   "outputs": [
    {
     "data": {
      "text/plain": [
       "(55.3000014082248, 27.291772866886674)"
      ]
     },
     "execution_count": 58,
     "metadata": {},
     "output_type": "execute_result"
    }
   ],
   "source": [
    "coordinates[25]"
   ]
  },
  {
   "cell_type": "markdown",
   "metadata": {},
   "source": [
    "# Generate Random World Cities\n",
    "##### Example for iterating through lat long  and finding city"
   ]
  },
  {
   "cell_type": "code",
   "execution_count": 59,
   "metadata": {},
   "outputs": [],
   "source": [
    "# Use the tuple() function to display the latitude and longitude combinations.\n",
    "# It works...commenting out to save memory\n",
    "#for coordinate in coordinates:\n",
    "#    print(citipy.nearest_city(coordinate[0], coordinate[1]).city_name,\n",
    "#          citipy.nearest_city(coordinate[0], coordinate[1]).country_code)"
   ]
  },
  {
   "cell_type": "code",
   "execution_count": 60,
   "metadata": {},
   "outputs": [
    {
     "data": {
      "text/plain": [
       "592"
      ]
     },
     "execution_count": 60,
     "metadata": {},
     "output_type": "execute_result"
    }
   ],
   "source": [
    "# Create a list for holding the cities.\n",
    "cities = []\n",
    "# Identify the nearest city for each latitude and longitude combination.\n",
    "for coordinate in coordinates:\n",
    "    city = citipy.nearest_city(coordinate[0], coordinate[1]).city_name\n",
    "\n",
    "    # If the city is unique, then we will add it to the cities list.\n",
    "    if city not in cities:\n",
    "        cities.append(city)\n",
    "# Print the city count to confirm sufficient count.\n",
    "len(cities)"
   ]
  },
  {
   "cell_type": "markdown",
   "metadata": {},
   "source": [
    "# Using API\n",
    "### Open Weather map API\n",
    "### import requests \n",
    "##### https://requests.kennethreitz.org/en/master/"
   ]
  },
  {
   "cell_type": "markdown",
   "metadata": {},
   "source": [
    "### Building API URL"
   ]
  },
  {
   "cell_type": "code",
   "execution_count": 61,
   "metadata": {},
   "outputs": [],
   "source": [
    "# api.openweathermap.org/data/2.5/weather?q={city name}&appid={API key}\n",
    "# api.openweathermap.org/data/2.5/weather?q={city name},{state code},{country code}&appid={API key}\n",
    "# api.openweathermap.org/data/2.5/weather?q={city name},{state code}&appid={API key}\n"
   ]
  },
  {
   "cell_type": "code",
   "execution_count": 62,
   "metadata": {},
   "outputs": [
    {
     "name": "stdout",
     "output_type": "stream",
     "text": [
      "http://api.openweathermap.org/data/2.5/weather?units=Imperial&APPID=72c6ac49835b8273bfc5a12e4f65f701\n"
     ]
    }
   ],
   "source": [
    "# Starting URL for Weather Map API Call.\n",
    "url = \"http://api.openweathermap.org/data/2.5/weather?units=Imperial&APPID=\" + weather_api_key\n",
    "print(url)"
   ]
  },
  {
   "cell_type": "markdown",
   "metadata": {},
   "source": [
    "### Add query to url"
   ]
  },
  {
   "cell_type": "code",
   "execution_count": 63,
   "metadata": {},
   "outputs": [
    {
     "name": "stdout",
     "output_type": "stream",
     "text": [
      "http://api.openweathermap.org/data/2.5/weather?units=Imperial&APPID=72c6ac49835b8273bfc5a12e4f65f701&q=Boston\n"
     ]
    }
   ],
   "source": [
    "# Create an endpoint URL for a city.\n",
    "city_url = url + \"&q=\" + \"Boston\"\n",
    "print(city_url)"
   ]
  },
  {
   "cell_type": "markdown",
   "metadata": {},
   "source": [
    "## Request()\n",
    "### Request Method\t    Action\n",
    "### get()--------------------->Retrieves data from a web source.\n",
    "### head()--------------------->Retrieves the headers from a web source.\n",
    "### post()--------------------->Adds or annotates data on a web source. Used on mailing groups, message boards, or comments.\n",
    "### put()--------------------->Updates an existing resource. For example, if the date on a Wikipedia page is wrong, you can use the put() method to update that date.\n",
    "### delete()--------------------->Deletes data from a web source.\n",
    "### options()--------------------->Discovers what HTTP methods a web source allows.\n",
    "### patch()--------------------->Partially modifies a web source."
   ]
  },
  {
   "cell_type": "markdown",
   "metadata": {},
   "source": [
    "\n",
    "### \n",
    "### \n",
    "### Build a get request"
   ]
  },
  {
   "cell_type": "code",
   "execution_count": 64,
   "metadata": {},
   "outputs": [
    {
     "data": {
      "text/plain": [
       "<Response [200]>"
      ]
     },
     "execution_count": 64,
     "metadata": {},
     "output_type": "execute_result"
    }
   ],
   "source": [
    "city_weather = requests.get(city_url)\n",
    "city_weather"
   ]
  },
  {
   "cell_type": "code",
   "execution_count": 65,
   "metadata": {},
   "outputs": [
    {
     "data": {
      "text/plain": [
       "<Response [404]>"
      ]
     },
     "execution_count": 65,
     "metadata": {},
     "output_type": "execute_result"
    }
   ],
   "source": [
    "#boston spelled wrong so it could not find that name in the query\n",
    "city_url = url + \"&q=\" + \"Bston\"\n",
    "city_weather = requests.get(city_url)\n",
    "city_weather"
   ]
  },
  {
   "cell_type": "code",
   "execution_count": 66,
   "metadata": {},
   "outputs": [
    {
     "data": {
      "text/plain": [
       "'http://api.openweathermap.org/data/2.5/weather?units=Imperial&APPID=72c6ac49835b8273bfc5a12e4f65f701&q=Bston'"
      ]
     },
     "execution_count": 66,
     "metadata": {},
     "output_type": "execute_result"
    }
   ],
   "source": [
    "city_url"
   ]
  },
  {
   "cell_type": "code",
   "execution_count": 67,
   "metadata": {},
   "outputs": [
    {
     "data": {
      "text/plain": [
       "<Response [200]>"
      ]
     },
     "execution_count": 67,
     "metadata": {},
     "output_type": "execute_result"
    }
   ],
   "source": [
    "city_url = url + \"&q=\" + \"Boston\"\n",
    "city_weather = requests.get(city_url)\n",
    "city_weather"
   ]
  },
  {
   "cell_type": "markdown",
   "metadata": {},
   "source": [
    "### Get the data/text from the 'Get' request.\n",
    "#### Output is a dictionary"
   ]
  },
  {
   "cell_type": "code",
   "execution_count": 68,
   "metadata": {},
   "outputs": [
    {
     "data": {
      "text/plain": [
       "'{\"coord\":{\"lon\":-71.0598,\"lat\":42.3584},\"weather\":[{\"id\":802,\"main\":\"Clouds\",\"description\":\"scattered clouds\",\"icon\":\"03n\"}],\"base\":\"stations\",\"main\":{\"temp\":64.04,\"feels_like\":64.42,\"temp_min\":60.15,\"temp_max\":67.84,\"pressure\":1011,\"humidity\":91},\"visibility\":10000,\"wind\":{\"speed\":3,\"deg\":301,\"gust\":8.01},\"clouds\":{\"all\":40},\"dt\":1622864398,\"sys\":{\"type\":2,\"id\":2013408,\"country\":\"US\",\"sunrise\":1622797730,\"sunset\":1622852203},\"timezone\":-14400,\"id\":4930956,\"name\":\"Boston\",\"cod\":200}'"
      ]
     },
     "execution_count": 68,
     "metadata": {},
     "output_type": "execute_result"
    }
   ],
   "source": [
    "# Get the text of the 'Get' request. Output is a dictionary\n",
    "city_weather.text"
   ]
  },
  {
   "cell_type": "markdown",
   "metadata": {},
   "source": [
    "### Use json to access the data returned from get request\n",
    "### Makes it a lot easier to read"
   ]
  },
  {
   "cell_type": "code",
   "execution_count": 69,
   "metadata": {},
   "outputs": [
    {
     "data": {
      "text/plain": [
       "{'coord': {'lon': -71.0598, 'lat': 42.3584},\n",
       " 'weather': [{'id': 802,\n",
       "   'main': 'Clouds',\n",
       "   'description': 'scattered clouds',\n",
       "   'icon': '03n'}],\n",
       " 'base': 'stations',\n",
       " 'main': {'temp': 64.04,\n",
       "  'feels_like': 64.42,\n",
       "  'temp_min': 60.15,\n",
       "  'temp_max': 67.84,\n",
       "  'pressure': 1011,\n",
       "  'humidity': 91},\n",
       " 'visibility': 10000,\n",
       " 'wind': {'speed': 3, 'deg': 301, 'gust': 8.01},\n",
       " 'clouds': {'all': 40},\n",
       " 'dt': 1622864398,\n",
       " 'sys': {'type': 2,\n",
       "  'id': 2013408,\n",
       "  'country': 'US',\n",
       "  'sunrise': 1622797730,\n",
       "  'sunset': 1622852203},\n",
       " 'timezone': -14400,\n",
       " 'id': 4930956,\n",
       " 'name': 'Boston',\n",
       " 'cod': 200}"
      ]
     },
     "execution_count": 69,
     "metadata": {},
     "output_type": "execute_result"
    }
   ],
   "source": [
    "# Get the JSON text of the 'Get' request.\n",
    "city_weather.json()"
   ]
  },
  {
   "cell_type": "markdown",
   "metadata": {},
   "source": [
    "### Error handling for request respnse code (200, 404 etc)\n",
    "### Use .status_code on the variable containing the response"
   ]
  },
  {
   "cell_type": "code",
   "execution_count": 70,
   "metadata": {},
   "outputs": [
    {
     "name": "stdout",
     "output_type": "stream",
     "text": [
      "City weather not found.\n"
     ]
    }
   ],
   "source": [
    "# Create an endpoint URL for a city.\n",
    "city_url = url + \"&q=\" + \"Bton\"\n",
    "city_weather = requests.get(city_url)\n",
    "if city_weather.status_code == 200:\n",
    "    print(f\"City Weather found.\")\n",
    "else:\n",
    "    print(f\"City weather not found.\")"
   ]
  },
  {
   "cell_type": "code",
   "execution_count": 71,
   "metadata": {},
   "outputs": [
    {
     "name": "stdout",
     "output_type": "stream",
     "text": [
      "City Weather found.\n"
     ]
    }
   ],
   "source": [
    "# Create an endpoint URL for a city.\n",
    "city_url = url + \"&q=\" + \"Boston\"\n",
    "city_weather = requests.get(city_url)\n",
    "if city_weather.status_code == 200:\n",
    "    print(f\"City Weather found.\")\n",
    "else:\n",
    "    print(f\"City weather not found.\")"
   ]
  },
  {
   "cell_type": "markdown",
   "metadata": {},
   "source": [
    "# PARSE RESPONSE from Get request"
   ]
  },
  {
   "cell_type": "markdown",
   "metadata": {},
   "source": [
    "### Get the json data"
   ]
  },
  {
   "cell_type": "code",
   "execution_count": 72,
   "metadata": {},
   "outputs": [],
   "source": [
    "# Get the JSON data.\n",
    "boston_data = city_weather.json()"
   ]
  },
  {
   "cell_type": "markdown",
   "metadata": {},
   "source": [
    "### Review data"
   ]
  },
  {
   "cell_type": "code",
   "execution_count": 73,
   "metadata": {},
   "outputs": [
    {
     "data": {
      "text/plain": [
       "{'coord': {'lon': -71.0598, 'lat': 42.3584},\n",
       " 'weather': [{'id': 802,\n",
       "   'main': 'Clouds',\n",
       "   'description': 'scattered clouds',\n",
       "   'icon': '03n'}],\n",
       " 'base': 'stations',\n",
       " 'main': {'temp': 64.04,\n",
       "  'feels_like': 64.42,\n",
       "  'temp_min': 60.15,\n",
       "  'temp_max': 67.84,\n",
       "  'pressure': 1011,\n",
       "  'humidity': 91},\n",
       " 'visibility': 10000,\n",
       " 'wind': {'speed': 3, 'deg': 301, 'gust': 8.01},\n",
       " 'clouds': {'all': 40},\n",
       " 'dt': 1622864398,\n",
       " 'sys': {'type': 2,\n",
       "  'id': 2013408,\n",
       "  'country': 'US',\n",
       "  'sunrise': 1622797730,\n",
       "  'sunset': 1622852203},\n",
       " 'timezone': -14400,\n",
       " 'id': 4930956,\n",
       " 'name': 'Boston',\n",
       " 'cod': 200}"
      ]
     },
     "execution_count": 73,
     "metadata": {},
     "output_type": "execute_result"
    }
   ],
   "source": [
    "# Review data in table\n",
    "boston_data"
   ]
  },
  {
   "cell_type": "markdown",
   "metadata": {},
   "source": [
    "### Pull data from dictionary"
   ]
  },
  {
   "cell_type": "code",
   "execution_count": 74,
   "metadata": {},
   "outputs": [
    {
     "data": {
      "text/plain": [
       "{'type': 2,\n",
       " 'id': 2013408,\n",
       " 'country': 'US',\n",
       " 'sunrise': 1622797730,\n",
       " 'sunset': 1622852203}"
      ]
     },
     "execution_count": 74,
     "metadata": {},
     "output_type": "execute_result"
    }
   ],
   "source": [
    "boston_data[\"sys\"]"
   ]
  },
  {
   "cell_type": "markdown",
   "metadata": {},
   "source": [
    "### Pull data from dictionary 2 levels deep"
   ]
  },
  {
   "cell_type": "code",
   "execution_count": 75,
   "metadata": {},
   "outputs": [
    {
     "data": {
      "text/plain": [
       "'US'"
      ]
     },
     "execution_count": 75,
     "metadata": {},
     "output_type": "execute_result"
    }
   ],
   "source": [
    "boston_data[\"sys\"][\"country\"]"
   ]
  },
  {
   "cell_type": "code",
   "execution_count": 76,
   "metadata": {},
   "outputs": [
    {
     "data": {
      "text/plain": [
       "1622864398"
      ]
     },
     "execution_count": 76,
     "metadata": {},
     "output_type": "execute_result"
    }
   ],
   "source": [
    "# date time \n",
    "boston_data['dt']"
   ]
  },
  {
   "cell_type": "code",
   "execution_count": 77,
   "metadata": {},
   "outputs": [
    {
     "data": {
      "text/plain": [
       "42.3584"
      ]
     },
     "execution_count": 77,
     "metadata": {},
     "output_type": "execute_result"
    }
   ],
   "source": [
    "# latitude\n",
    "boston_data[\"coord\"][\"lat\"]"
   ]
  },
  {
   "cell_type": "markdown",
   "metadata": {},
   "source": [
    "### Place all relevent data into variables"
   ]
  },
  {
   "cell_type": "code",
   "execution_count": 78,
   "metadata": {},
   "outputs": [
    {
     "name": "stdout",
     "output_type": "stream",
     "text": [
      "42.3584 -71.0598 67.84 91 40 3\n"
     ]
    }
   ],
   "source": [
    "lat = boston_data[\"coord\"][\"lat\"]\n",
    "lng = boston_data[\"coord\"][\"lon\"]\n",
    "max_temp = boston_data[\"main\"][\"temp_max\"]\n",
    "humidity = boston_data[\"main\"][\"humidity\"]\n",
    "clouds = boston_data[\"clouds\"][\"all\"]\n",
    "wind = boston_data[\"wind\"][\"speed\"]\n",
    "print(lat, lng, max_temp, humidity, clouds, wind)"
   ]
  },
  {
   "cell_type": "markdown",
   "metadata": {},
   "source": [
    "## Convert Date Time Stamp from unix time\n",
    "### from datetime import datetime\n",
    "#### https://docs.python.org/3.6/library/datetime.html#strftime-and-strptime-behavior\n",
    "#### https://docs.python.org/3.6/library/datetime.html\n",
    "#### Date time listed in a comma delimited fashion"
   ]
  },
  {
   "cell_type": "code",
   "execution_count": 79,
   "metadata": {},
   "outputs": [
    {
     "data": {
      "text/plain": [
       "datetime.datetime(2021, 6, 5, 3, 39, 58)"
      ]
     },
     "execution_count": 79,
     "metadata": {},
     "output_type": "execute_result"
    }
   ],
   "source": [
    "# Get the date from the JSON file.\n",
    "date = boston_data[\"dt\"]\n",
    "# Convert the UTC date to a date format with year, month, day, hours, minutes, and seconds.\n",
    "datetime.utcfromtimestamp(date)"
   ]
  },
  {
   "cell_type": "code",
   "execution_count": 80,
   "metadata": {},
   "outputs": [
    {
     "data": {
      "text/plain": [
       "'2021-06-05 03:39:58'"
      ]
     },
     "execution_count": 80,
     "metadata": {},
     "output_type": "execute_result"
    }
   ],
   "source": [
    "# Get the date from the JSON file.\n",
    "date = boston_data[\"dt\"]\n",
    "# Convert the UTC date to a date string formatted\n",
    "datetime.utcfromtimestamp(date).strftime('%Y-%m-%d %H:%M:%S')"
   ]
  },
  {
   "cell_type": "markdown",
   "metadata": {},
   "source": [
    "### Import Dependencies, and Initialize an Empty List and Counters"
   ]
  },
  {
   "cell_type": "code",
   "execution_count": 81,
   "metadata": {},
   "outputs": [
    {
     "name": "stdout",
     "output_type": "stream",
     "text": [
      "Beginning Data Retrieval     \n",
      "-----------------------------\n"
     ]
    }
   ],
   "source": [
    "# Create an empty list to hold the weather data.\n",
    "city_data = []\n",
    "# Print the beginning of the logging.\n",
    "print(\"Beginning Data Retrieval     \")\n",
    "print(\"-----------------------------\")\n",
    "\n",
    "# Create counters.\n",
    "record_count = 1\n",
    "set_count = 1"
   ]
  },
  {
   "cell_type": "markdown",
   "metadata": {},
   "source": [
    "### Basic Loop Through the List of Cities and Build the City URL"
   ]
  },
  {
   "cell_type": "code",
   "execution_count": 82,
   "metadata": {},
   "outputs": [],
   "source": [
    "# Loop through all the cities in our list.\n",
    "#for i in range(len(cities)):\n",
    "#\n",
    "#\n",
    "#    # Group cities in sets of 50 for logging purposes.\n",
    "#   if (i % 50 == 0 and i >= 50):\n",
    "#        set_count += 1\n",
    "#        record_count = 1\n",
    "#    # Create endpoint URL with each city.\n",
    "#    city_url = url + \"&q=\" + cities[i]"
   ]
  },
  {
   "cell_type": "markdown",
   "metadata": {},
   "source": [
    "## enumerate() \n",
    "### Loop Through the List of Cities and Build the City URL\n",
    "### it works just not complex enough for what we need\n"
   ]
  },
  {
   "cell_type": "code",
   "execution_count": 83,
   "metadata": {},
   "outputs": [
    {
     "name": "stdout",
     "output_type": "stream",
     "text": [
      "Processing Record 1 of Set 1 | cape town\n",
      "Processing Record 2 of Set 1 | atuona\n",
      "Processing Record 3 of Set 1 | westport\n",
      "Processing Record 4 of Set 1 | castro\n",
      "Processing Record 5 of Set 1 | punta arenas\n",
      "Processing Record 6 of Set 1 | bambous virieux\n",
      "Processing Record 7 of Set 1 | brae\n",
      "Processing Record 8 of Set 1 | saskylakh\n",
      "Processing Record 9 of Set 1 | bengkulu\n",
      "Processing Record 10 of Set 1 | hilo\n",
      "Processing Record 11 of Set 1 | ban nahin\n",
      "Processing Record 12 of Set 1 | busselton\n",
      "Processing Record 13 of Set 1 | hermanus\n",
      "Processing Record 14 of Set 1 | provideniya\n",
      "Processing Record 15 of Set 1 | grenada\n",
      "Processing Record 16 of Set 1 | bolungarvik\n",
      "Processing Record 17 of Set 1 | butaritari\n",
      "Processing Record 18 of Set 1 | upernavik\n",
      "Processing Record 19 of Set 1 | bredasdorp\n",
      "Processing Record 20 of Set 1 | north platte\n",
      "Processing Record 21 of Set 1 | mahebourg\n",
      "Processing Record 22 of Set 1 | rudbar\n",
      "Processing Record 23 of Set 1 | mar del plata\n",
      "Processing Record 24 of Set 1 | braslav\n",
      "Processing Record 25 of Set 1 | albany\n",
      "Processing Record 26 of Set 1 | beidao\n",
      "Processing Record 27 of Set 1 | ushuaia\n",
      "Processing Record 28 of Set 1 | georgetown\n",
      "Processing Record 29 of Set 1 | tura\n",
      "Processing Record 30 of Set 1 | camana\n",
      "Processing Record 31 of Set 1 | astana\n",
      "Processing Record 32 of Set 1 | hambantota\n",
      "Processing Record 33 of Set 1 | marsaxlokk\n",
      "Processing Record 34 of Set 1 | puerto ayora\n",
      "Processing Record 35 of Set 1 | kruisfontein\n",
      "Processing Record 36 of Set 1 | zlatoustovsk\n",
      "Processing Record 37 of Set 1 | bethel\n",
      "Processing Record 38 of Set 1 | laguna\n",
      "Processing Record 39 of Set 1 | rungata\n",
      "Processing Record 40 of Set 1 | bac lieu\n",
      "Processing Record 41 of Set 1 | umzimvubu\n",
      "Processing Record 42 of Set 1 | carnarvon\n",
      "Processing Record 43 of Set 1 | tuatapere\n",
      "Processing Record 44 of Set 1 | mataura\n",
      "Processing Record 45 of Set 1 | hobart\n",
      "Processing Record 46 of Set 1 | korla\n",
      "Processing Record 47 of Set 1 | novita\n",
      "Processing Record 48 of Set 1 | qaanaaq\n",
      "Processing Record 49 of Set 1 | jamestown\n",
      "Processing Record 50 of Set 1 | taolanaro\n",
      "Processing Record 1 of Set 2 | sola\n",
      "Processing Record 2 of Set 2 | atambua\n",
      "Processing Record 3 of Set 2 | ilulissat\n",
      "Processing Record 4 of Set 2 | doctor pedro p. pena\n",
      "Processing Record 5 of Set 2 | ponta do sol\n",
      "Processing Record 6 of Set 2 | tuktoyaktuk\n",
      "Processing Record 7 of Set 2 | maumee\n",
      "Processing Record 8 of Set 2 | dikson\n",
      "Processing Record 9 of Set 2 | lolua\n",
      "Processing Record 10 of Set 2 | attawapiskat\n",
      "Processing Record 11 of Set 2 | massena\n",
      "Processing Record 12 of Set 2 | barrow\n",
      "Processing Record 13 of Set 2 | tianpeng\n",
      "Processing Record 14 of Set 2 | ust-nera\n",
      "Processing Record 15 of Set 2 | wufeng\n",
      "Processing Record 16 of Set 2 | yinchuan\n",
      "Processing Record 17 of Set 2 | ust-maya\n",
      "Processing Record 18 of Set 2 | illoqqortoormiut\n",
      "Processing Record 19 of Set 2 | petropavlovsk-kamchatskiy\n",
      "Processing Record 20 of Set 2 | toamasina\n",
      "Processing Record 21 of Set 2 | saint-philippe\n",
      "Processing Record 22 of Set 2 | cagayan de tawi-tawi\n",
      "Processing Record 23 of Set 2 | port alfred\n",
      "Processing Record 24 of Set 2 | arraial do cabo\n",
      "Processing Record 25 of Set 2 | evensk\n",
      "Processing Record 26 of Set 2 | mogzon\n",
      "Processing Record 27 of Set 2 | avarua\n",
      "Processing Record 28 of Set 2 | luderitz\n",
      "Processing Record 29 of Set 2 | grindavik\n",
      "Processing Record 30 of Set 2 | mys shmidta\n",
      "Processing Record 31 of Set 2 | muqui\n",
      "Processing Record 32 of Set 2 | mastic beach\n",
      "Processing Record 33 of Set 2 | amderma\n",
      "Processing Record 34 of Set 2 | barentsburg\n",
      "Processing Record 35 of Set 2 | saleaula\n",
      "Processing Record 36 of Set 2 | fortuna\n",
      "Processing Record 37 of Set 2 | portobelo\n",
      "Processing Record 38 of Set 2 | karaidel\n",
      "Processing Record 39 of Set 2 | flinders\n",
      "Processing Record 40 of Set 2 | nizip\n",
      "Processing Record 41 of Set 2 | airai\n",
      "Processing Record 42 of Set 2 | huanren\n",
      "Processing Record 43 of Set 2 | unguia\n",
      "Processing Record 44 of Set 2 | coihaique\n",
      "Processing Record 45 of Set 2 | rikitea\n",
      "Processing Record 46 of Set 2 | mocajuba\n",
      "Processing Record 47 of Set 2 | vrangel\n",
      "Processing Record 48 of Set 2 | sars\n",
      "Processing Record 49 of Set 2 | kaitangata\n",
      "Processing Record 50 of Set 2 | east london\n",
      "Processing Record 1 of Set 3 | clyde river\n",
      "Processing Record 2 of Set 3 | yellowknife\n",
      "Processing Record 3 of Set 3 | kapaa\n",
      "Processing Record 4 of Set 3 | port elizabeth\n",
      "Processing Record 5 of Set 3 | chuy\n",
      "Processing Record 6 of Set 3 | caxito\n",
      "Processing Record 7 of Set 3 | damghan\n",
      "Processing Record 8 of Set 3 | amberley\n",
      "Processing Record 9 of Set 3 | bluff\n",
      "Processing Record 10 of Set 3 | palmas\n",
      "Processing Record 11 of Set 3 | cabudare\n",
      "Processing Record 12 of Set 3 | balezino\n",
      "Processing Record 13 of Set 3 | seddon\n",
      "Processing Record 14 of Set 3 | chapais\n",
      "Processing Record 15 of Set 3 | kodiak\n",
      "Processing Record 16 of Set 3 | kuche\n",
      "Processing Record 17 of Set 3 | alofi\n",
      "Processing Record 18 of Set 3 | mitsamiouli\n",
      "Processing Record 19 of Set 3 | sibolga\n",
      "Processing Record 20 of Set 3 | kayiry\n",
      "Processing Record 21 of Set 3 | jiangyou\n",
      "Processing Record 22 of Set 3 | syracuse\n",
      "Processing Record 23 of Set 3 | isangel\n",
      "Processing Record 24 of Set 3 | hasaki\n",
      "Processing Record 25 of Set 3 | taltal\n",
      "Processing Record 26 of Set 3 | haftoni\n",
      "Processing Record 27 of Set 3 | konjic\n",
      "Processing Record 28 of Set 3 | zhetybay\n",
      "Processing Record 29 of Set 3 | ancud\n",
      "Processing Record 30 of Set 3 | ferme-neuve\n",
      "Processing Record 31 of Set 3 | mutsamudu\n",
      "Processing Record 32 of Set 3 | tokur\n",
      "Processing Record 33 of Set 3 | neuchatel\n",
      "Processing Record 34 of Set 3 | lavrentiya\n",
      "Processing Record 35 of Set 3 | canton\n",
      "Processing Record 36 of Set 3 | liverpool\n",
      "Processing Record 37 of Set 3 | shepetivka\n",
      "Processing Record 38 of Set 3 | tsihombe\n",
      "Processing Record 39 of Set 3 | doaba\n",
      "Processing Record 40 of Set 3 | tiznit\n",
      "Processing Record 41 of Set 3 | puro\n",
      "Processing Record 42 of Set 3 | cabittaogan\n",
      "Processing Record 43 of Set 3 | mahibadhoo\n",
      "Processing Record 44 of Set 3 | maues\n",
      "Processing Record 45 of Set 3 | verkhnevilyuysk\n",
      "Processing Record 46 of Set 3 | changli\n",
      "Processing Record 47 of Set 3 | victoria\n",
      "Processing Record 48 of Set 3 | lincoln\n",
      "Processing Record 49 of Set 3 | terebovlya\n",
      "Processing Record 50 of Set 3 | kidal\n",
      "Processing Record 1 of Set 4 | anda\n",
      "Processing Record 2 of Set 4 | la llanada\n",
      "Processing Record 3 of Set 4 | bonavista\n",
      "Processing Record 4 of Set 4 | waingapu\n",
      "Processing Record 5 of Set 4 | kavaratti\n",
      "Processing Record 6 of Set 4 | redcliffe\n",
      "Processing Record 7 of Set 4 | dingle\n",
      "Processing Record 8 of Set 4 | omboue\n",
      "Processing Record 9 of Set 4 | saldanha\n",
      "Processing Record 10 of Set 4 | tasiilaq\n",
      "Processing Record 11 of Set 4 | talnakh\n",
      "Processing Record 12 of Set 4 | lorengau\n",
      "Processing Record 13 of Set 4 | arman\n",
      "Processing Record 14 of Set 4 | sao joao da barra\n",
      "Processing Record 15 of Set 4 | norman wells\n",
      "Processing Record 16 of Set 4 | new norfolk\n",
      "Processing Record 17 of Set 4 | whitehorse\n",
      "Processing Record 18 of Set 4 | walvis bay\n",
      "Processing Record 19 of Set 4 | utashinai\n",
      "Processing Record 20 of Set 4 | vaini\n",
      "Processing Record 21 of Set 4 | carnot\n",
      "Processing Record 22 of Set 4 | vila franca do campo\n",
      "Processing Record 23 of Set 4 | punta de bombon\n",
      "Processing Record 24 of Set 4 | itoman\n",
      "Processing Record 25 of Set 4 | kahului\n",
      "Processing Record 26 of Set 4 | doha\n",
      "Processing Record 27 of Set 4 | outlook\n",
      "Processing Record 28 of Set 4 | saint-paul\n",
      "Processing Record 29 of Set 4 | khatanga\n",
      "Processing Record 30 of Set 4 | kongolo\n",
      "Processing Record 31 of Set 4 | jabinyanah\n",
      "Processing Record 32 of Set 4 | galveston\n",
      "Processing Record 33 of Set 4 | lagoa\n",
      "Processing Record 34 of Set 4 | boende\n",
      "Processing Record 35 of Set 4 | neuquen\n",
      "Processing Record 36 of Set 4 | skjervoy\n",
      "Processing Record 37 of Set 4 | bilibino\n",
      "Processing Record 38 of Set 4 | souillac\n",
      "Processing Record 39 of Set 4 | ribeira grande\n",
      "Processing Record 40 of Set 4 | saint-augustin\n",
      "Processing Record 41 of Set 4 | uttaradit\n",
      "Processing Record 42 of Set 4 | plettenberg bay\n",
      "Processing Record 43 of Set 4 | bathsheba\n",
      "Processing Record 44 of Set 4 | san cristobal\n",
      "Processing Record 45 of Set 4 | esperance\n",
      "Processing Record 46 of Set 4 | puri\n",
      "Processing Record 47 of Set 4 | roebourne\n",
      "Processing Record 48 of Set 4 | thompson\n",
      "Processing Record 49 of Set 4 | ahipara\n",
      "Processing Record 50 of Set 4 | anadyr\n",
      "Processing Record 1 of Set 5 | pacific grove\n",
      "Processing Record 2 of Set 5 | nikolskoye\n",
      "Processing Record 3 of Set 5 | karkaralinsk\n",
      "Processing Record 4 of Set 5 | cherskiy\n",
      "Processing Record 5 of Set 5 | oranjemund\n",
      "Processing Record 6 of Set 5 | el pinon\n",
      "Processing Record 7 of Set 5 | champerico\n",
      "Processing Record 8 of Set 5 | pevek\n",
      "Processing Record 9 of Set 5 | shanghai\n",
      "Processing Record 10 of Set 5 | chagda\n",
      "Processing Record 11 of Set 5 | chokurdakh\n",
      "Processing Record 12 of Set 5 | buchanan\n",
      "Processing Record 13 of Set 5 | sunrise manor\n",
      "Processing Record 14 of Set 5 | dolbeau\n",
      "Processing Record 15 of Set 5 | aflu\n",
      "Processing Record 16 of Set 5 | vardo\n",
      "Processing Record 17 of Set 5 | torbay\n",
      "Processing Record 18 of Set 5 | muromtsevo\n",
      "Processing Record 19 of Set 5 | san patricio\n",
      "Processing Record 20 of Set 5 | valleyview\n",
      "Processing Record 21 of Set 5 | mahajanga\n",
      "Processing Record 22 of Set 5 | iqaluit\n",
      "Processing Record 23 of Set 5 | zeya\n",
      "Processing Record 24 of Set 5 | havelock\n",
      "Processing Record 25 of Set 5 | vestmannaeyjar\n",
      "Processing Record 26 of Set 5 | hithadhoo\n",
      "Processing Record 27 of Set 5 | el prat de llobregat\n",
      "Processing Record 28 of Set 5 | maldonado\n",
      "Processing Record 29 of Set 5 | totness\n",
      "Processing Record 30 of Set 5 | balakovo\n",
      "Processing Record 31 of Set 5 | margate\n",
      "Processing Record 32 of Set 5 | alappuzha\n",
      "Processing Record 33 of Set 5 | mehamn\n",
      "Processing Record 34 of Set 5 | longyearbyen\n",
      "Processing Record 35 of Set 5 | escanaba\n",
      "Processing Record 36 of Set 5 | terrace bay\n",
      "Processing Record 37 of Set 5 | wyndham\n",
      "Processing Record 38 of Set 5 | codrington\n",
      "Processing Record 39 of Set 5 | jalu\n",
      "Processing Record 40 of Set 5 | caravelas\n",
      "Processing Record 41 of Set 5 | lompoc\n",
      "Processing Record 42 of Set 5 | kautokeino\n",
      "Processing Record 43 of Set 5 | victoria point\n",
      "Processing Record 44 of Set 5 | nanortalik\n",
      "Processing Record 45 of Set 5 | yankton\n",
      "Processing Record 46 of Set 5 | sikonge\n",
      "Processing Record 47 of Set 5 | tevaitoa\n",
      "Processing Record 48 of Set 5 | sorland\n",
      "Processing Record 49 of Set 5 | obo\n",
      "Processing Record 50 of Set 5 | grand river south east\n",
      "Processing Record 1 of Set 6 | mount gambier\n",
      "Processing Record 2 of Set 6 | qasigiannguit\n",
      "Processing Record 3 of Set 6 | te anau\n",
      "Processing Record 4 of Set 6 | cidreira\n",
      "Processing Record 5 of Set 6 | maryborough\n",
      "Processing Record 6 of Set 6 | dzhebariki-khaya\n",
      "Processing Record 7 of Set 6 | bilma\n",
      "Processing Record 8 of Set 6 | nizhneangarsk\n",
      "Processing Record 9 of Set 6 | seara\n",
      "Processing Record 10 of Set 6 | tabou\n",
      "Processing Record 11 of Set 6 | rio grande\n",
      "Processing Record 12 of Set 6 | sao filipe\n",
      "Processing Record 13 of Set 6 | gat\n",
      "Processing Record 14 of Set 6 | sivaki\n",
      "Processing Record 15 of Set 6 | bairiki\n",
      "Processing Record 16 of Set 6 | manzanillo\n",
      "Processing Record 17 of Set 6 | lasa\n",
      "Processing Record 18 of Set 6 | belushya guba\n",
      "Processing Record 19 of Set 6 | gorontalo\n",
      "Processing Record 20 of Set 6 | vrchlabi\n",
      "Processing Record 21 of Set 6 | wuda\n",
      "Processing Record 22 of Set 6 | hervey bay\n",
      "Processing Record 23 of Set 6 | barra dos coqueiros\n",
      "Processing Record 24 of Set 6 | sioux lookout\n",
      "Processing Record 25 of Set 6 | vila velha\n",
      "Processing Record 26 of Set 6 | sorong\n",
      "Processing Record 27 of Set 6 | yulara\n",
      "Processing Record 28 of Set 6 | mahanje\n",
      "Processing Record 29 of Set 6 | cururupu\n",
      "Processing Record 30 of Set 6 | caconda\n",
      "Processing Record 31 of Set 6 | moron\n",
      "Processing Record 32 of Set 6 | rorvik\n",
      "Processing Record 33 of Set 6 | saint george\n",
      "Processing Record 34 of Set 6 | boda\n",
      "Processing Record 35 of Set 6 | cabo san lucas\n",
      "Processing Record 36 of Set 6 | serenje\n",
      "Processing Record 37 of Set 6 | chivay\n",
      "Processing Record 38 of Set 6 | ayagoz\n",
      "Processing Record 39 of Set 6 | eydhafushi\n",
      "Processing Record 40 of Set 6 | coquimbo\n",
      "Processing Record 41 of Set 6 | raga\n",
      "Processing Record 42 of Set 6 | atar\n",
      "Processing Record 43 of Set 6 | yeletskiy\n",
      "Processing Record 44 of Set 6 | fuerte\n",
      "Processing Record 45 of Set 6 | sao felix do xingu\n",
      "Processing Record 46 of Set 6 | katsuura\n",
      "Processing Record 47 of Set 6 | simpang\n",
      "Processing Record 48 of Set 6 | klaksvik\n",
      "Processing Record 49 of Set 6 | geraldton\n",
      "Processing Record 50 of Set 6 | saint-leu\n",
      "Processing Record 1 of Set 7 | faya\n",
      "Processing Record 2 of Set 7 | paamiut\n",
      "Processing Record 3 of Set 7 | kwidzyn\n",
      "Processing Record 4 of Set 7 | cedar city\n",
      "Processing Record 5 of Set 7 | harper\n",
      "Processing Record 6 of Set 7 | acapulco\n",
      "Processing Record 7 of Set 7 | sharan\n",
      "Processing Record 8 of Set 7 | araguacu\n",
      "Processing Record 9 of Set 7 | dzhusaly\n",
      "Processing Record 10 of Set 7 | miri\n",
      "Processing Record 11 of Set 7 | rabo de peixe\n",
      "Processing Record 12 of Set 7 | praia\n",
      "Processing Record 13 of Set 7 | xingyi\n",
      "Processing Record 14 of Set 7 | viedma\n",
      "Processing Record 15 of Set 7 | wasco\n",
      "Processing Record 16 of Set 7 | teeli\n",
      "Processing Record 17 of Set 7 | saint-pierre\n",
      "Processing Record 18 of Set 7 | puerto colombia\n",
      "Processing Record 19 of Set 7 | paoua\n",
      "Processing Record 20 of Set 7 | blagoyevo\n",
      "Processing Record 21 of Set 7 | addi ugri\n",
      "Processing Record 22 of Set 7 | henties bay\n",
      "Processing Record 23 of Set 7 | faanui\n",
      "Processing Record 24 of Set 7 | koslan\n",
      "Processing Record 25 of Set 7 | samarai\n",
      "Processing Record 26 of Set 7 | severo-kurilsk\n",
      "Processing Record 27 of Set 7 | konevo\n",
      "Processing Record 28 of Set 7 | flin flon\n",
      "Processing Record 29 of Set 7 | narsaq\n",
      "Processing Record 30 of Set 7 | praia da vitoria\n",
      "Processing Record 31 of Set 7 | ardistan\n",
      "Processing Record 32 of Set 7 | bannu\n",
      "Processing Record 33 of Set 7 | kegayli\n",
      "Processing Record 34 of Set 7 | kavieng\n",
      "Processing Record 35 of Set 7 | mogadishu\n",
      "Processing Record 36 of Set 7 | toliary\n",
      "Processing Record 37 of Set 7 | kandrian\n",
      "Processing Record 38 of Set 7 | chilca\n",
      "Processing Record 39 of Set 7 | galle\n",
      "Processing Record 40 of Set 7 | francia\n",
      "Processing Record 41 of Set 7 | rio cuarto\n",
      "Processing Record 42 of Set 7 | adre\n",
      "Processing Record 43 of Set 7 | kalaleh\n",
      "Processing Record 44 of Set 7 | sumbawa\n",
      "Processing Record 45 of Set 7 | phonhong\n",
      "Processing Record 46 of Set 7 | sentyabrskiy\n",
      "Processing Record 47 of Set 7 | ojinaga\n",
      "Processing Record 48 of Set 7 | kuala lipis\n",
      "Processing Record 49 of Set 7 | englewood\n",
      "Processing Record 50 of Set 7 | isabela\n",
      "Processing Record 1 of Set 8 | conceicao da barra\n",
      "Processing Record 2 of Set 8 | kazanskoye\n",
      "Processing Record 3 of Set 8 | prince rupert\n",
      "Processing Record 4 of Set 8 | dimona\n",
      "Processing Record 5 of Set 8 | qaqortoq\n",
      "Processing Record 6 of Set 8 | cabedelo\n",
      "Processing Record 7 of Set 8 | kargil\n",
      "Processing Record 8 of Set 8 | khonsa\n",
      "Processing Record 9 of Set 8 | grojec\n",
      "Processing Record 10 of Set 8 | san ramon\n",
      "Processing Record 11 of Set 8 | biryusinsk\n",
      "Processing Record 12 of Set 8 | green river\n",
      "Processing Record 13 of Set 8 | carutapera\n",
      "Processing Record 14 of Set 8 | pathein\n",
      "Processing Record 15 of Set 8 | seoni\n",
      "Processing Record 16 of Set 8 | dudinka\n",
      "Processing Record 17 of Set 8 | nanning\n",
      "Processing Record 18 of Set 8 | veraval\n",
      "Processing Record 19 of Set 8 | hainichen\n",
      "Processing Record 20 of Set 8 | otofuke\n",
      "Processing Record 21 of Set 8 | cam ranh\n",
      "Processing Record 22 of Set 8 | mtambile\n",
      "Processing Record 23 of Set 8 | ngukurr\n",
      "Processing Record 24 of Set 8 | rio gallegos\n",
      "Processing Record 25 of Set 8 | hualmay\n",
      "Processing Record 26 of Set 8 | carballo\n",
      "Processing Record 27 of Set 8 | feldkirchen\n",
      "Processing Record 28 of Set 8 | charagua\n",
      "Processing Record 29 of Set 8 | tessalit\n",
      "Processing Record 30 of Set 8 | hunza\n",
      "Processing Record 31 of Set 8 | sitka\n",
      "Processing Record 32 of Set 8 | tiksi\n",
      "Processing Record 33 of Set 8 | rawson\n",
      "Processing Record 34 of Set 8 | gewane\n",
      "Processing Record 35 of Set 8 | sao jose da coroa grande\n",
      "Processing Record 36 of Set 8 | lundazi\n",
      "Processing Record 37 of Set 8 | el alto\n",
      "Processing Record 38 of Set 8 | columbia\n",
      "Processing Record 39 of Set 8 | isoka\n",
      "Processing Record 40 of Set 8 | big spring\n",
      "Processing Record 41 of Set 8 | bandarbeyla\n",
      "Processing Record 42 of Set 8 | richards bay\n",
      "Processing Record 43 of Set 8 | bambanglipuro\n",
      "Processing Record 44 of Set 8 | dibulla\n",
      "Processing Record 45 of Set 8 | miyako\n",
      "Processing Record 46 of Set 8 | soyo\n",
      "Processing Record 47 of Set 8 | xining\n",
      "Processing Record 48 of Set 8 | tocopilla\n",
      "Processing Record 49 of Set 8 | lebu\n",
      "Processing Record 50 of Set 8 | belmonte\n",
      "Processing Record 1 of Set 9 | morant bay\n",
      "Processing Record 2 of Set 9 | vostok\n",
      "Processing Record 3 of Set 9 | alice springs\n",
      "Processing Record 4 of Set 9 | baley\n",
      "Processing Record 5 of Set 9 | tautira\n",
      "Processing Record 6 of Set 9 | ponta delgada\n",
      "Processing Record 7 of Set 9 | halifax\n",
      "Processing Record 8 of Set 9 | meridian\n",
      "Processing Record 9 of Set 9 | ayan\n",
      "Processing Record 10 of Set 9 | tabialan\n",
      "Processing Record 11 of Set 9 | antalaha\n",
      "Processing Record 12 of Set 9 | opuwo\n",
      "Processing Record 13 of Set 9 | meyungs\n",
      "Processing Record 14 of Set 9 | rosetta\n",
      "Processing Record 15 of Set 9 | nome\n",
      "Processing Record 16 of Set 9 | cockburn town\n",
      "Processing Record 17 of Set 9 | emborion\n",
      "Processing Record 18 of Set 9 | saint-joseph\n",
      "Processing Record 19 of Set 9 | severnoye\n",
      "Processing Record 20 of Set 9 | minna\n",
      "Processing Record 21 of Set 9 | port hedland\n",
      "Processing Record 22 of Set 9 | brigantine\n",
      "Processing Record 23 of Set 9 | kuytun\n",
      "Processing Record 24 of Set 9 | la libertad\n",
      "Processing Record 25 of Set 9 | heidelberg\n",
      "Processing Record 26 of Set 9 | sawakin\n",
      "Processing Record 27 of Set 9 | emerald\n",
      "Processing Record 28 of Set 9 | port-gentil\n",
      "Processing Record 29 of Set 9 | itaituba\n",
      "Processing Record 30 of Set 9 | kifri\n",
      "Processing Record 31 of Set 9 | lufkin\n",
      "Processing Record 32 of Set 9 | tecpan\n",
      "Processing Record 33 of Set 9 | scarborough\n",
      "Processing Record 34 of Set 9 | japura\n",
      "Processing Record 35 of Set 9 | puerto madero\n",
      "Processing Record 36 of Set 9 | palabuhanratu\n",
      "Processing Record 37 of Set 9 | jichisu de jos\n",
      "Processing Record 38 of Set 9 | martapura\n",
      "Processing Record 39 of Set 9 | padang\n",
      "Processing Record 40 of Set 9 | port blair\n",
      "Processing Record 41 of Set 9 | kargasok\n",
      "Processing Record 42 of Set 9 | nanton\n",
      "Processing Record 43 of Set 9 | douentza\n",
      "Processing Record 44 of Set 9 | tyrma\n",
      "Processing Record 45 of Set 9 | worthing\n",
      "Processing Record 46 of Set 9 | kudahuvadhoo\n",
      "Processing Record 47 of Set 9 | touho\n",
      "Processing Record 48 of Set 9 | sarangani\n",
      "Processing Record 49 of Set 9 | nouadhibou\n",
      "Processing Record 50 of Set 9 | mandalgovi\n",
      "Processing Record 1 of Set 10 | indian head\n",
      "Processing Record 2 of Set 10 | namtsy\n",
      "Processing Record 3 of Set 10 | college\n",
      "Processing Record 4 of Set 10 | samusu\n",
      "Processing Record 5 of Set 10 | imaculada\n",
      "Processing Record 6 of Set 10 | basco\n",
      "Processing Record 7 of Set 10 | smithers\n",
      "Processing Record 8 of Set 10 | hovd\n"
     ]
    },
    {
     "name": "stdout",
     "output_type": "stream",
     "text": [
      "Processing Record 9 of Set 10 | manado\n",
      "Processing Record 10 of Set 10 | altay\n",
      "Processing Record 11 of Set 10 | volchansk\n",
      "Processing Record 12 of Set 10 | karratha\n",
      "Processing Record 13 of Set 10 | marcona\n",
      "Processing Record 14 of Set 10 | taburao\n",
      "Processing Record 15 of Set 10 | cabra\n",
      "Processing Record 16 of Set 10 | vaitupu\n",
      "Processing Record 17 of Set 10 | itarema\n",
      "Processing Record 18 of Set 10 | guerrero negro\n",
      "Processing Record 19 of Set 10 | shishou\n",
      "Processing Record 20 of Set 10 | yabrud\n",
      "Processing Record 21 of Set 10 | olafsvik\n",
      "Processing Record 22 of Set 10 | wahran\n",
      "Processing Record 23 of Set 10 | carupano\n",
      "Processing Record 24 of Set 10 | sokolka\n",
      "Processing Record 25 of Set 10 | tabiauea\n",
      "Processing Record 26 of Set 10 | constitucion\n",
      "Processing Record 27 of Set 10 | banjar\n",
      "Processing Record 28 of Set 10 | shu\n",
      "Processing Record 29 of Set 10 | omsukchan\n",
      "Processing Record 30 of Set 10 | phangnga\n",
      "Processing Record 31 of Set 10 | hamilton\n",
      "Processing Record 32 of Set 10 | la rioja\n",
      "Processing Record 33 of Set 10 | nueva helvecia\n",
      "Processing Record 34 of Set 10 | strezhevoy\n",
      "Processing Record 35 of Set 10 | saint-francois\n",
      "Processing Record 36 of Set 10 | aklavik\n",
      "Processing Record 37 of Set 10 | darab\n",
      "Processing Record 38 of Set 10 | manta\n",
      "Processing Record 39 of Set 10 | abu dhabi\n",
      "Processing Record 40 of Set 10 | dubai\n",
      "Processing Record 41 of Set 10 | karpogory\n",
      "Processing Record 42 of Set 10 | goya\n",
      "Processing Record 43 of Set 10 | iguape\n",
      "Processing Record 44 of Set 10 | axim\n",
      "Processing Record 45 of Set 10 | chimoio\n",
      "Processing Record 46 of Set 10 | buenaventura\n",
      "Processing Record 47 of Set 10 | anloga\n",
      "Processing Record 48 of Set 10 | ulaangom\n",
      "Processing Record 49 of Set 10 | turbat\n",
      "Processing Record 50 of Set 10 | hami\n",
      "Processing Record 1 of Set 11 | port hardy\n",
      "Processing Record 2 of Set 11 | halalo\n",
      "Processing Record 3 of Set 11 | moville\n",
      "Processing Record 4 of Set 11 | nelson bay\n",
      "Processing Record 5 of Set 11 | cubara\n",
      "Processing Record 6 of Set 11 | teahupoo\n",
      "Processing Record 7 of Set 11 | zeerust\n",
      "Processing Record 8 of Set 11 | karonga\n",
      "Processing Record 9 of Set 11 | lephepe\n",
      "Processing Record 10 of Set 11 | riyadh\n",
      "Processing Record 11 of Set 11 | shimoda\n",
      "Processing Record 12 of Set 11 | kalmunai\n",
      "Processing Record 13 of Set 11 | maple creek\n",
      "Processing Record 14 of Set 11 | san ignacio\n",
      "Processing Record 15 of Set 11 | port said\n",
      "Processing Record 16 of Set 11 | krasnozerskoye\n",
      "Processing Record 17 of Set 11 | bozeman\n",
      "Processing Record 18 of Set 11 | biak\n",
      "Processing Record 19 of Set 11 | tall kayf\n",
      "Processing Record 20 of Set 11 | jiddah\n",
      "Processing Record 21 of Set 11 | radhanpur\n",
      "Processing Record 22 of Set 11 | elat\n",
      "Processing Record 23 of Set 11 | portland\n",
      "Processing Record 24 of Set 11 | namibe\n",
      "Processing Record 25 of Set 11 | sao joao do piaui\n",
      "Processing Record 26 of Set 11 | namatanai\n",
      "Processing Record 27 of Set 11 | weyburn\n",
      "Processing Record 28 of Set 11 | takoradi\n",
      "Processing Record 29 of Set 11 | tarko-sale\n",
      "Processing Record 30 of Set 11 | bahia de caraquez\n",
      "Processing Record 31 of Set 11 | plyussa\n",
      "Processing Record 32 of Set 11 | srednekolymsk\n",
      "Processing Record 33 of Set 11 | moose factory\n",
      "Processing Record 34 of Set 11 | moree\n",
      "Processing Record 35 of Set 11 | pedernales\n",
      "Processing Record 36 of Set 11 | port macquarie\n",
      "Processing Record 37 of Set 11 | krasnaya gora\n",
      "Processing Record 38 of Set 11 | udachnyy\n",
      "Processing Record 39 of Set 11 | linqing\n",
      "Processing Record 40 of Set 11 | chapleau\n",
      "Processing Record 41 of Set 11 | mayskiy\n",
      "Processing Record 42 of Set 11 | zaraza\n",
      "Processing Record 43 of Set 11 | leningradskiy\n",
      "Processing Record 44 of Set 11 | montevideo\n",
      "Processing Record 45 of Set 11 | adrar\n",
      "Processing Record 46 of Set 11 | quatre cocos\n",
      "Processing Record 47 of Set 11 | marawi\n",
      "Processing Record 48 of Set 11 | port lincoln\n",
      "Processing Record 49 of Set 11 | manaure\n",
      "Processing Record 50 of Set 11 | shakhovskaya\n",
      "Processing Record 1 of Set 12 | lisakovsk\n",
      "Processing Record 2 of Set 12 | caloundra\n",
      "Processing Record 3 of Set 12 | aykhal\n",
      "Processing Record 4 of Set 12 | libertador general san martin\n",
      "Processing Record 5 of Set 12 | vanersborg\n",
      "Processing Record 6 of Set 12 | filadelfia\n",
      "Processing Record 7 of Set 12 | hobyo\n",
      "Processing Record 8 of Set 12 | nizhneyansk\n",
      "Processing Record 9 of Set 12 | fort nelson\n",
      "Processing Record 10 of Set 12 | stephenville\n",
      "Processing Record 11 of Set 12 | voh\n",
      "Processing Record 12 of Set 12 | jinchengjiang\n",
      "Processing Record 13 of Set 12 | sorkjosen\n",
      "Processing Record 14 of Set 12 | san clemente\n",
      "Processing Record 15 of Set 12 | pemangkat\n",
      "Processing Record 16 of Set 12 | watertown\n",
      "Processing Record 17 of Set 12 | olinda\n",
      "Processing Record 18 of Set 12 | kinshasa\n",
      "Processing Record 19 of Set 12 | piopio\n",
      "Processing Record 20 of Set 12 | pahrump\n",
      "Processing Record 21 of Set 12 | husavik\n",
      "Processing Record 22 of Set 12 | bubaque\n",
      "Processing Record 23 of Set 12 | baherden\n",
      "Processing Record 24 of Set 12 | bayan\n",
      "Processing Record 25 of Set 12 | canico\n",
      "Processing Record 26 of Set 12 | olga\n",
      "Processing Record 27 of Set 12 | gisborne\n",
      "Processing Record 28 of Set 12 | duldurga\n",
      "Processing Record 29 of Set 12 | jarjis\n",
      "Processing Record 30 of Set 12 | virginia beach\n",
      "Processing Record 31 of Set 12 | saint-andre-les-vergers\n",
      "Processing Record 32 of Set 12 | berlevag\n",
      "Processing Record 33 of Set 12 | urusha\n",
      "Processing Record 34 of Set 12 | steubenville\n",
      "Processing Record 35 of Set 12 | barkot\n",
      "Processing Record 36 of Set 12 | haapiti\n",
      "Processing Record 37 of Set 12 | hofn\n",
      "Processing Record 38 of Set 12 | havre-saint-pierre\n",
      "Processing Record 39 of Set 12 | bargal\n",
      "Processing Record 40 of Set 12 | gimli\n",
      "Processing Record 41 of Set 12 | tonj\n",
      "Processing Record 42 of Set 12 | marzuq\n"
     ]
    }
   ],
   "source": [
    "# Loop through all the cities in the list.\n",
    "## Change to code to run\n",
    "\n",
    "for i, city in enumerate(cities):\n",
    "\n",
    "    # Group cities in sets of 50 for logging purposes.\n",
    "    if (i % 50 == 0 and i >= 50): #is remainder of 50 >= 0... basically checks if there is a remainder. if so contiue counting until there isn't\n",
    "        set_count += 1\n",
    "        record_count = 1\n",
    "    # Create endpoint URL with each city.\n",
    "    city_url = url + \"&q=\" + city.replace(\" \",\"+\") # replace all spaces in city with \"+\"\n",
    "\n",
    "    # Log the URL, record, and set numbers and the city.\n",
    "    print(f\"Processing Record {record_count} of Set {set_count} | {city}\")\n",
    "    # Add 1 to the record count.\n",
    "    record_count += 1\n",
    "    "
   ]
  },
  {
   "cell_type": "markdown",
   "metadata": {},
   "source": [
    "# Handle API Request Errors with try-except Blocks\n",
    "### Exception handling"
   ]
  },
  {
   "cell_type": "code",
   "execution_count": 84,
   "metadata": {},
   "outputs": [
    {
     "name": "stdout",
     "output_type": "stream",
     "text": [
      "Processing Record 43 of Set 12 | cape town\n",
      "Processing Record 44 of Set 12 | atuona\n",
      "Processing Record 45 of Set 12 | westport\n",
      "Processing Record 46 of Set 12 | castro\n",
      "Processing Record 47 of Set 12 | punta arenas\n",
      "Processing Record 48 of Set 12 | bambous virieux\n",
      "Processing Record 49 of Set 12 | brae\n",
      "Processing Record 50 of Set 12 | saskylakh\n",
      "Processing Record 51 of Set 12 | bengkulu\n",
      "Processing Record 52 of Set 12 | hilo\n",
      "Processing Record 53 of Set 12 | ban nahin\n",
      "Processing Record 54 of Set 12 | busselton\n",
      "Processing Record 55 of Set 12 | hermanus\n",
      "Processing Record 56 of Set 12 | provideniya\n",
      "Processing Record 57 of Set 12 | grenada\n",
      "Processing Record 58 of Set 12 | bolungarvik\n",
      "City not found. Skipping...\n",
      "Processing Record 59 of Set 12 | butaritari\n",
      "Processing Record 60 of Set 12 | upernavik\n",
      "Processing Record 61 of Set 12 | bredasdorp\n",
      "Processing Record 62 of Set 12 | north platte\n",
      "Processing Record 63 of Set 12 | mahebourg\n",
      "Processing Record 64 of Set 12 | rudbar\n",
      "Processing Record 65 of Set 12 | mar del plata\n",
      "Processing Record 66 of Set 12 | braslav\n",
      "City not found. Skipping...\n",
      "Processing Record 67 of Set 12 | albany\n",
      "Processing Record 68 of Set 12 | beidao\n",
      "Processing Record 69 of Set 12 | ushuaia\n",
      "Processing Record 70 of Set 12 | georgetown\n",
      "Processing Record 71 of Set 12 | tura\n",
      "Processing Record 72 of Set 12 | camana\n",
      "Processing Record 73 of Set 12 | astana\n",
      "Processing Record 74 of Set 12 | hambantota\n",
      "Processing Record 75 of Set 12 | marsaxlokk\n",
      "Processing Record 76 of Set 12 | puerto ayora\n",
      "Processing Record 77 of Set 12 | kruisfontein\n",
      "Processing Record 78 of Set 12 | zlatoustovsk\n",
      "City not found. Skipping...\n",
      "Processing Record 79 of Set 12 | bethel\n",
      "Processing Record 80 of Set 12 | laguna\n",
      "Processing Record 81 of Set 12 | rungata\n",
      "City not found. Skipping...\n",
      "Processing Record 82 of Set 12 | bac lieu\n",
      "Processing Record 83 of Set 12 | umzimvubu\n",
      "City not found. Skipping...\n",
      "Processing Record 84 of Set 12 | carnarvon\n",
      "Processing Record 85 of Set 12 | tuatapere\n",
      "Processing Record 86 of Set 12 | mataura\n",
      "Processing Record 87 of Set 12 | hobart\n",
      "Processing Record 88 of Set 12 | korla\n",
      "Processing Record 89 of Set 12 | novita\n",
      "Processing Record 90 of Set 12 | qaanaaq\n",
      "Processing Record 91 of Set 12 | jamestown\n",
      "Processing Record 92 of Set 12 | taolanaro\n",
      "City not found. Skipping...\n",
      "Processing Record 1 of Set 13 | sola\n",
      "Processing Record 2 of Set 13 | atambua\n",
      "Processing Record 3 of Set 13 | ilulissat\n",
      "Processing Record 4 of Set 13 | doctor pedro p. pena\n",
      "City not found. Skipping...\n",
      "Processing Record 5 of Set 13 | ponta do sol\n",
      "Processing Record 6 of Set 13 | tuktoyaktuk\n",
      "Processing Record 7 of Set 13 | maumee\n",
      "Processing Record 8 of Set 13 | dikson\n",
      "Processing Record 9 of Set 13 | lolua\n",
      "City not found. Skipping...\n",
      "Processing Record 10 of Set 13 | attawapiskat\n",
      "City not found. Skipping...\n",
      "Processing Record 11 of Set 13 | massena\n",
      "Processing Record 12 of Set 13 | barrow\n",
      "Processing Record 13 of Set 13 | tianpeng\n",
      "Processing Record 14 of Set 13 | ust-nera\n",
      "Processing Record 15 of Set 13 | wufeng\n",
      "Processing Record 16 of Set 13 | yinchuan\n",
      "Processing Record 17 of Set 13 | ust-maya\n",
      "Processing Record 18 of Set 13 | illoqqortoormiut\n",
      "City not found. Skipping...\n",
      "Processing Record 19 of Set 13 | petropavlovsk-kamchatskiy\n",
      "Processing Record 20 of Set 13 | toamasina\n",
      "Processing Record 21 of Set 13 | saint-philippe\n",
      "Processing Record 22 of Set 13 | cagayan de tawi-tawi\n",
      "City not found. Skipping...\n",
      "Processing Record 23 of Set 13 | port alfred\n",
      "Processing Record 24 of Set 13 | arraial do cabo\n",
      "Processing Record 25 of Set 13 | evensk\n",
      "Processing Record 26 of Set 13 | mogzon\n",
      "Processing Record 27 of Set 13 | avarua\n",
      "Processing Record 28 of Set 13 | luderitz\n",
      "Processing Record 29 of Set 13 | grindavik\n",
      "Processing Record 30 of Set 13 | mys shmidta\n",
      "City not found. Skipping...\n",
      "Processing Record 31 of Set 13 | muqui\n",
      "Processing Record 32 of Set 13 | mastic beach\n",
      "Processing Record 33 of Set 13 | amderma\n",
      "City not found. Skipping...\n",
      "Processing Record 34 of Set 13 | barentsburg\n",
      "City not found. Skipping...\n",
      "Processing Record 35 of Set 13 | saleaula\n",
      "City not found. Skipping...\n",
      "Processing Record 36 of Set 13 | fortuna\n",
      "Processing Record 37 of Set 13 | portobelo\n",
      "Processing Record 38 of Set 13 | karaidel\n",
      "Processing Record 39 of Set 13 | flinders\n",
      "Processing Record 40 of Set 13 | nizip\n",
      "Processing Record 41 of Set 13 | airai\n",
      "Processing Record 42 of Set 13 | huanren\n",
      "Processing Record 43 of Set 13 | unguia\n",
      "Processing Record 44 of Set 13 | coihaique\n",
      "Processing Record 45 of Set 13 | rikitea\n",
      "Processing Record 46 of Set 13 | mocajuba\n",
      "Processing Record 47 of Set 13 | vrangel\n",
      "Processing Record 48 of Set 13 | sars\n",
      "Processing Record 49 of Set 13 | kaitangata\n",
      "Processing Record 50 of Set 13 | east london\n",
      "Processing Record 1 of Set 14 | clyde river\n",
      "Processing Record 2 of Set 14 | yellowknife\n",
      "Processing Record 3 of Set 14 | kapaa\n",
      "Processing Record 4 of Set 14 | port elizabeth\n",
      "Processing Record 5 of Set 14 | chuy\n",
      "Processing Record 6 of Set 14 | caxito\n",
      "Processing Record 7 of Set 14 | damghan\n",
      "Processing Record 8 of Set 14 | amberley\n",
      "Processing Record 9 of Set 14 | bluff\n",
      "Processing Record 10 of Set 14 | palmas\n",
      "Processing Record 11 of Set 14 | cabudare\n",
      "Processing Record 12 of Set 14 | balezino\n",
      "Processing Record 13 of Set 14 | seddon\n",
      "Processing Record 14 of Set 14 | chapais\n",
      "Processing Record 15 of Set 14 | kodiak\n",
      "Processing Record 16 of Set 14 | kuche\n",
      "City not found. Skipping...\n",
      "Processing Record 17 of Set 14 | alofi\n",
      "Processing Record 18 of Set 14 | mitsamiouli\n",
      "Processing Record 19 of Set 14 | sibolga\n",
      "Processing Record 20 of Set 14 | kayiry\n",
      "Processing Record 21 of Set 14 | jiangyou\n",
      "Processing Record 22 of Set 14 | syracuse\n",
      "Processing Record 23 of Set 14 | isangel\n",
      "Processing Record 24 of Set 14 | hasaki\n",
      "Processing Record 25 of Set 14 | taltal\n",
      "Processing Record 26 of Set 14 | haftoni\n",
      "Processing Record 27 of Set 14 | konjic\n",
      "Processing Record 28 of Set 14 | zhetybay\n",
      "City not found. Skipping...\n",
      "Processing Record 29 of Set 14 | ancud\n",
      "Processing Record 30 of Set 14 | ferme-neuve\n",
      "Processing Record 31 of Set 14 | mutsamudu\n",
      "City not found. Skipping...\n",
      "Processing Record 32 of Set 14 | tokur\n",
      "Processing Record 33 of Set 14 | neuchatel\n",
      "Processing Record 34 of Set 14 | lavrentiya\n",
      "Processing Record 35 of Set 14 | canton\n",
      "Processing Record 36 of Set 14 | liverpool\n",
      "Processing Record 37 of Set 14 | shepetivka\n",
      "Processing Record 38 of Set 14 | tsihombe\n",
      "City not found. Skipping...\n",
      "Processing Record 39 of Set 14 | doaba\n",
      "Processing Record 40 of Set 14 | tiznit\n",
      "Processing Record 41 of Set 14 | puro\n",
      "Processing Record 42 of Set 14 | cabittaogan\n",
      "Processing Record 43 of Set 14 | mahibadhoo\n",
      "Processing Record 44 of Set 14 | maues\n",
      "Processing Record 45 of Set 14 | verkhnevilyuysk\n",
      "Processing Record 46 of Set 14 | changli\n",
      "Processing Record 47 of Set 14 | victoria\n",
      "Processing Record 48 of Set 14 | lincoln\n",
      "Processing Record 49 of Set 14 | terebovlya\n",
      "Processing Record 50 of Set 14 | kidal\n",
      "Processing Record 1 of Set 15 | anda\n",
      "Processing Record 2 of Set 15 | la llanada\n",
      "Processing Record 3 of Set 15 | bonavista\n",
      "Processing Record 4 of Set 15 | waingapu\n",
      "Processing Record 5 of Set 15 | kavaratti\n",
      "Processing Record 6 of Set 15 | redcliffe\n",
      "Processing Record 7 of Set 15 | dingle\n",
      "Processing Record 8 of Set 15 | omboue\n",
      "Processing Record 9 of Set 15 | saldanha\n",
      "Processing Record 10 of Set 15 | tasiilaq\n",
      "Processing Record 11 of Set 15 | talnakh\n",
      "Processing Record 12 of Set 15 | lorengau\n",
      "Processing Record 13 of Set 15 | arman\n",
      "Processing Record 14 of Set 15 | sao joao da barra\n",
      "Processing Record 15 of Set 15 | norman wells\n",
      "Processing Record 16 of Set 15 | new norfolk\n",
      "Processing Record 17 of Set 15 | whitehorse\n",
      "Processing Record 18 of Set 15 | walvis bay\n",
      "Processing Record 19 of Set 15 | utashinai\n",
      "Processing Record 20 of Set 15 | vaini\n",
      "Processing Record 21 of Set 15 | carnot\n",
      "Processing Record 22 of Set 15 | vila franca do campo\n",
      "Processing Record 23 of Set 15 | punta de bombon\n",
      "Processing Record 24 of Set 15 | itoman\n",
      "Processing Record 25 of Set 15 | kahului\n",
      "Processing Record 26 of Set 15 | doha\n",
      "Processing Record 27 of Set 15 | outlook\n",
      "Processing Record 28 of Set 15 | saint-paul\n",
      "Processing Record 29 of Set 15 | khatanga\n",
      "Processing Record 30 of Set 15 | kongolo\n",
      "Processing Record 31 of Set 15 | jabinyanah\n",
      "Processing Record 32 of Set 15 | galveston\n",
      "Processing Record 33 of Set 15 | lagoa\n"
     ]
    },
    {
     "name": "stdout",
     "output_type": "stream",
     "text": [
      "Processing Record 34 of Set 15 | boende\n",
      "Processing Record 35 of Set 15 | neuquen\n",
      "Processing Record 36 of Set 15 | skjervoy\n",
      "Processing Record 37 of Set 15 | bilibino\n",
      "Processing Record 38 of Set 15 | souillac\n",
      "Processing Record 39 of Set 15 | ribeira grande\n",
      "Processing Record 40 of Set 15 | saint-augustin\n",
      "Processing Record 41 of Set 15 | uttaradit\n",
      "Processing Record 42 of Set 15 | plettenberg bay\n",
      "Processing Record 43 of Set 15 | bathsheba\n",
      "Processing Record 44 of Set 15 | san cristobal\n",
      "Processing Record 45 of Set 15 | esperance\n",
      "Processing Record 46 of Set 15 | puri\n",
      "Processing Record 47 of Set 15 | roebourne\n",
      "Processing Record 48 of Set 15 | thompson\n",
      "Processing Record 49 of Set 15 | ahipara\n",
      "Processing Record 50 of Set 15 | anadyr\n",
      "Processing Record 1 of Set 16 | pacific grove\n",
      "Processing Record 2 of Set 16 | nikolskoye\n",
      "Processing Record 3 of Set 16 | karkaralinsk\n",
      "City not found. Skipping...\n",
      "Processing Record 4 of Set 16 | cherskiy\n",
      "Processing Record 5 of Set 16 | oranjemund\n",
      "Processing Record 6 of Set 16 | el pinon\n",
      "Processing Record 7 of Set 16 | champerico\n",
      "Processing Record 8 of Set 16 | pevek\n",
      "Processing Record 9 of Set 16 | shanghai\n",
      "Processing Record 10 of Set 16 | chagda\n",
      "City not found. Skipping...\n",
      "Processing Record 11 of Set 16 | chokurdakh\n",
      "Processing Record 12 of Set 16 | buchanan\n",
      "Processing Record 13 of Set 16 | sunrise manor\n",
      "Processing Record 14 of Set 16 | dolbeau\n",
      "City not found. Skipping...\n",
      "Processing Record 15 of Set 16 | aflu\n",
      "City not found. Skipping...\n",
      "Processing Record 16 of Set 16 | vardo\n",
      "Processing Record 17 of Set 16 | torbay\n",
      "Processing Record 18 of Set 16 | muromtsevo\n",
      "Processing Record 19 of Set 16 | san patricio\n",
      "Processing Record 20 of Set 16 | valleyview\n",
      "Processing Record 21 of Set 16 | mahajanga\n",
      "Processing Record 22 of Set 16 | iqaluit\n",
      "Processing Record 23 of Set 16 | zeya\n",
      "Processing Record 24 of Set 16 | havelock\n",
      "Processing Record 25 of Set 16 | vestmannaeyjar\n",
      "Processing Record 26 of Set 16 | hithadhoo\n",
      "Processing Record 27 of Set 16 | el prat de llobregat\n",
      "Processing Record 28 of Set 16 | maldonado\n",
      "Processing Record 29 of Set 16 | totness\n",
      "Processing Record 30 of Set 16 | balakovo\n",
      "Processing Record 31 of Set 16 | margate\n",
      "Processing Record 32 of Set 16 | alappuzha\n",
      "Processing Record 33 of Set 16 | mehamn\n",
      "Processing Record 34 of Set 16 | longyearbyen\n",
      "Processing Record 35 of Set 16 | escanaba\n",
      "Processing Record 36 of Set 16 | terrace bay\n",
      "Processing Record 37 of Set 16 | wyndham\n",
      "Processing Record 38 of Set 16 | codrington\n",
      "Processing Record 39 of Set 16 | jalu\n",
      "Processing Record 40 of Set 16 | caravelas\n",
      "Processing Record 41 of Set 16 | lompoc\n",
      "Processing Record 42 of Set 16 | kautokeino\n",
      "Processing Record 43 of Set 16 | victoria point\n",
      "Processing Record 44 of Set 16 | nanortalik\n",
      "Processing Record 45 of Set 16 | yankton\n",
      "Processing Record 46 of Set 16 | sikonge\n",
      "Processing Record 47 of Set 16 | tevaitoa\n",
      "Processing Record 48 of Set 16 | sorland\n",
      "Processing Record 49 of Set 16 | obo\n",
      "Processing Record 50 of Set 16 | grand river south east\n",
      "City not found. Skipping...\n",
      "Processing Record 1 of Set 17 | mount gambier\n",
      "Processing Record 2 of Set 17 | qasigiannguit\n",
      "Processing Record 3 of Set 17 | te anau\n",
      "Processing Record 4 of Set 17 | cidreira\n",
      "Processing Record 5 of Set 17 | maryborough\n",
      "Processing Record 6 of Set 17 | dzhebariki-khaya\n",
      "Processing Record 7 of Set 17 | bilma\n",
      "Processing Record 8 of Set 17 | nizhneangarsk\n",
      "Processing Record 9 of Set 17 | seara\n",
      "Processing Record 10 of Set 17 | tabou\n",
      "Processing Record 11 of Set 17 | rio grande\n",
      "Processing Record 12 of Set 17 | sao filipe\n",
      "Processing Record 13 of Set 17 | gat\n",
      "Processing Record 14 of Set 17 | sivaki\n",
      "Processing Record 15 of Set 17 | bairiki\n",
      "Processing Record 16 of Set 17 | manzanillo\n",
      "Processing Record 17 of Set 17 | lasa\n",
      "Processing Record 18 of Set 17 | belushya guba\n",
      "City not found. Skipping...\n",
      "Processing Record 19 of Set 17 | gorontalo\n",
      "Processing Record 20 of Set 17 | vrchlabi\n",
      "Processing Record 21 of Set 17 | wuda\n",
      "Processing Record 22 of Set 17 | hervey bay\n",
      "Processing Record 23 of Set 17 | barra dos coqueiros\n",
      "Processing Record 24 of Set 17 | sioux lookout\n",
      "Processing Record 25 of Set 17 | vila velha\n",
      "Processing Record 26 of Set 17 | sorong\n",
      "Processing Record 27 of Set 17 | yulara\n",
      "Processing Record 28 of Set 17 | mahanje\n",
      "Processing Record 29 of Set 17 | cururupu\n",
      "Processing Record 30 of Set 17 | caconda\n",
      "Processing Record 31 of Set 17 | moron\n",
      "Processing Record 32 of Set 17 | rorvik\n",
      "Processing Record 33 of Set 17 | saint george\n",
      "Processing Record 34 of Set 17 | boda\n",
      "Processing Record 35 of Set 17 | cabo san lucas\n",
      "Processing Record 36 of Set 17 | serenje\n",
      "Processing Record 37 of Set 17 | chivay\n",
      "Processing Record 38 of Set 17 | ayagoz\n",
      "Processing Record 39 of Set 17 | eydhafushi\n",
      "Processing Record 40 of Set 17 | coquimbo\n",
      "Processing Record 41 of Set 17 | raga\n",
      "Processing Record 42 of Set 17 | atar\n",
      "Processing Record 43 of Set 17 | yeletskiy\n",
      "City not found. Skipping...\n",
      "Processing Record 44 of Set 17 | fuerte\n",
      "Processing Record 45 of Set 17 | sao felix do xingu\n",
      "Processing Record 46 of Set 17 | katsuura\n",
      "Processing Record 47 of Set 17 | simpang\n",
      "Processing Record 48 of Set 17 | klaksvik\n",
      "Processing Record 49 of Set 17 | geraldton\n",
      "Processing Record 50 of Set 17 | saint-leu\n",
      "Processing Record 1 of Set 18 | faya\n",
      "Processing Record 2 of Set 18 | paamiut\n",
      "Processing Record 3 of Set 18 | kwidzyn\n",
      "Processing Record 4 of Set 18 | cedar city\n",
      "Processing Record 5 of Set 18 | harper\n",
      "Processing Record 6 of Set 18 | acapulco\n",
      "Processing Record 7 of Set 18 | sharan\n",
      "Processing Record 8 of Set 18 | araguacu\n",
      "Processing Record 9 of Set 18 | dzhusaly\n",
      "City not found. Skipping...\n",
      "Processing Record 10 of Set 18 | miri\n",
      "Processing Record 11 of Set 18 | rabo de peixe\n",
      "Processing Record 12 of Set 18 | praia\n",
      "Processing Record 13 of Set 18 | xingyi\n",
      "Processing Record 14 of Set 18 | viedma\n",
      "Processing Record 15 of Set 18 | wasco\n",
      "Processing Record 16 of Set 18 | teeli\n",
      "Processing Record 17 of Set 18 | saint-pierre\n",
      "Processing Record 18 of Set 18 | puerto colombia\n",
      "Processing Record 19 of Set 18 | paoua\n",
      "Processing Record 20 of Set 18 | blagoyevo\n",
      "Processing Record 21 of Set 18 | addi ugri\n",
      "City not found. Skipping...\n",
      "Processing Record 22 of Set 18 | henties bay\n",
      "Processing Record 23 of Set 18 | faanui\n",
      "Processing Record 24 of Set 18 | koslan\n",
      "Processing Record 25 of Set 18 | samarai\n",
      "Processing Record 26 of Set 18 | severo-kurilsk\n",
      "Processing Record 27 of Set 18 | konevo\n",
      "Processing Record 28 of Set 18 | flin flon\n",
      "Processing Record 29 of Set 18 | narsaq\n",
      "Processing Record 30 of Set 18 | praia da vitoria\n",
      "Processing Record 31 of Set 18 | ardistan\n",
      "City not found. Skipping...\n",
      "Processing Record 32 of Set 18 | bannu\n",
      "Processing Record 33 of Set 18 | kegayli\n",
      "City not found. Skipping...\n",
      "Processing Record 34 of Set 18 | kavieng\n",
      "Processing Record 35 of Set 18 | mogadishu\n",
      "Processing Record 36 of Set 18 | toliary\n",
      "City not found. Skipping...\n",
      "Processing Record 37 of Set 18 | kandrian\n",
      "Processing Record 38 of Set 18 | chilca\n",
      "Processing Record 39 of Set 18 | galle\n",
      "Processing Record 40 of Set 18 | francia\n",
      "Processing Record 41 of Set 18 | rio cuarto\n",
      "Processing Record 42 of Set 18 | adre\n",
      "Processing Record 43 of Set 18 | kalaleh\n",
      "Processing Record 44 of Set 18 | sumbawa\n",
      "City not found. Skipping...\n",
      "Processing Record 45 of Set 18 | phonhong\n",
      "Processing Record 46 of Set 18 | sentyabrskiy\n",
      "City not found. Skipping...\n",
      "Processing Record 47 of Set 18 | ojinaga\n",
      "Processing Record 48 of Set 18 | kuala lipis\n",
      "Processing Record 49 of Set 18 | englewood\n",
      "Processing Record 50 of Set 18 | isabela\n",
      "Processing Record 1 of Set 19 | conceicao da barra\n",
      "Processing Record 2 of Set 19 | kazanskoye\n",
      "Processing Record 3 of Set 19 | prince rupert\n",
      "Processing Record 4 of Set 19 | dimona\n",
      "Processing Record 5 of Set 19 | qaqortoq\n",
      "Processing Record 6 of Set 19 | cabedelo\n",
      "Processing Record 7 of Set 19 | kargil\n",
      "Processing Record 8 of Set 19 | khonsa\n",
      "Processing Record 9 of Set 19 | grojec\n",
      "Processing Record 10 of Set 19 | san ramon\n",
      "Processing Record 11 of Set 19 | biryusinsk\n",
      "Processing Record 12 of Set 19 | green river\n",
      "Processing Record 13 of Set 19 | carutapera\n",
      "Processing Record 14 of Set 19 | pathein\n",
      "Processing Record 15 of Set 19 | seoni\n",
      "Processing Record 16 of Set 19 | dudinka\n",
      "Processing Record 17 of Set 19 | nanning\n",
      "Processing Record 18 of Set 19 | veraval\n"
     ]
    },
    {
     "name": "stdout",
     "output_type": "stream",
     "text": [
      "Processing Record 19 of Set 19 | hainichen\n",
      "Processing Record 20 of Set 19 | otofuke\n",
      "Processing Record 21 of Set 19 | cam ranh\n",
      "Processing Record 22 of Set 19 | mtambile\n",
      "Processing Record 23 of Set 19 | ngukurr\n",
      "City not found. Skipping...\n",
      "Processing Record 24 of Set 19 | rio gallegos\n",
      "Processing Record 25 of Set 19 | hualmay\n",
      "Processing Record 26 of Set 19 | carballo\n",
      "Processing Record 27 of Set 19 | feldkirchen\n",
      "Processing Record 28 of Set 19 | charagua\n",
      "Processing Record 29 of Set 19 | tessalit\n",
      "Processing Record 30 of Set 19 | hunza\n",
      "City not found. Skipping...\n",
      "Processing Record 31 of Set 19 | sitka\n",
      "Processing Record 32 of Set 19 | tiksi\n",
      "Processing Record 33 of Set 19 | rawson\n",
      "Processing Record 34 of Set 19 | gewane\n",
      "Processing Record 35 of Set 19 | sao jose da coroa grande\n",
      "Processing Record 36 of Set 19 | lundazi\n",
      "Processing Record 37 of Set 19 | el alto\n",
      "Processing Record 38 of Set 19 | columbia\n",
      "Processing Record 39 of Set 19 | isoka\n",
      "Processing Record 40 of Set 19 | big spring\n",
      "Processing Record 41 of Set 19 | bandarbeyla\n",
      "Processing Record 42 of Set 19 | richards bay\n",
      "Processing Record 43 of Set 19 | bambanglipuro\n",
      "Processing Record 44 of Set 19 | dibulla\n",
      "Processing Record 45 of Set 19 | miyako\n",
      "Processing Record 46 of Set 19 | soyo\n",
      "Processing Record 47 of Set 19 | xining\n",
      "Processing Record 48 of Set 19 | tocopilla\n",
      "Processing Record 49 of Set 19 | lebu\n",
      "Processing Record 50 of Set 19 | belmonte\n",
      "Processing Record 1 of Set 20 | morant bay\n",
      "Processing Record 2 of Set 20 | vostok\n",
      "Processing Record 3 of Set 20 | alice springs\n",
      "Processing Record 4 of Set 20 | baley\n",
      "Processing Record 5 of Set 20 | tautira\n",
      "Processing Record 6 of Set 20 | ponta delgada\n",
      "Processing Record 7 of Set 20 | halifax\n",
      "Processing Record 8 of Set 20 | meridian\n",
      "Processing Record 9 of Set 20 | ayan\n",
      "Processing Record 10 of Set 20 | tabialan\n",
      "City not found. Skipping...\n",
      "Processing Record 11 of Set 20 | antalaha\n",
      "Processing Record 12 of Set 20 | opuwo\n",
      "Processing Record 13 of Set 20 | meyungs\n",
      "City not found. Skipping...\n",
      "Processing Record 14 of Set 20 | rosetta\n",
      "Processing Record 15 of Set 20 | nome\n",
      "Processing Record 16 of Set 20 | cockburn town\n",
      "Processing Record 17 of Set 20 | emborion\n",
      "Processing Record 18 of Set 20 | saint-joseph\n",
      "Processing Record 19 of Set 20 | severnoye\n",
      "Processing Record 20 of Set 20 | minna\n",
      "Processing Record 21 of Set 20 | port hedland\n",
      "Processing Record 22 of Set 20 | brigantine\n",
      "Processing Record 23 of Set 20 | kuytun\n",
      "Processing Record 24 of Set 20 | la libertad\n",
      "Processing Record 25 of Set 20 | heidelberg\n",
      "Processing Record 26 of Set 20 | sawakin\n",
      "Processing Record 27 of Set 20 | emerald\n",
      "Processing Record 28 of Set 20 | port-gentil\n",
      "Processing Record 29 of Set 20 | itaituba\n",
      "Processing Record 30 of Set 20 | kifri\n",
      "Processing Record 31 of Set 20 | lufkin\n",
      "Processing Record 32 of Set 20 | tecpan\n",
      "Processing Record 33 of Set 20 | scarborough\n",
      "Processing Record 34 of Set 20 | japura\n",
      "Processing Record 35 of Set 20 | puerto madero\n",
      "Processing Record 36 of Set 20 | palabuhanratu\n",
      "City not found. Skipping...\n",
      "Processing Record 37 of Set 20 | jichisu de jos\n",
      "Processing Record 38 of Set 20 | martapura\n",
      "Processing Record 39 of Set 20 | padang\n",
      "Processing Record 40 of Set 20 | port blair\n",
      "Processing Record 41 of Set 20 | kargasok\n",
      "Processing Record 42 of Set 20 | nanton\n",
      "Processing Record 43 of Set 20 | douentza\n",
      "Processing Record 44 of Set 20 | tyrma\n",
      "Processing Record 45 of Set 20 | worthing\n",
      "Processing Record 46 of Set 20 | kudahuvadhoo\n",
      "Processing Record 47 of Set 20 | touho\n",
      "Processing Record 48 of Set 20 | sarangani\n",
      "Processing Record 49 of Set 20 | nouadhibou\n",
      "Processing Record 50 of Set 20 | mandalgovi\n",
      "Processing Record 1 of Set 21 | indian head\n",
      "Processing Record 2 of Set 21 | namtsy\n",
      "Processing Record 3 of Set 21 | college\n",
      "Processing Record 4 of Set 21 | samusu\n",
      "City not found. Skipping...\n",
      "Processing Record 5 of Set 21 | imaculada\n",
      "Processing Record 6 of Set 21 | basco\n",
      "Processing Record 7 of Set 21 | smithers\n",
      "Processing Record 8 of Set 21 | hovd\n",
      "Processing Record 9 of Set 21 | manado\n",
      "Processing Record 10 of Set 21 | altay\n",
      "Processing Record 11 of Set 21 | volchansk\n",
      "Processing Record 12 of Set 21 | karratha\n",
      "Processing Record 13 of Set 21 | marcona\n",
      "City not found. Skipping...\n",
      "Processing Record 14 of Set 21 | taburao\n",
      "City not found. Skipping...\n",
      "Processing Record 15 of Set 21 | cabra\n",
      "Processing Record 16 of Set 21 | vaitupu\n",
      "City not found. Skipping...\n",
      "Processing Record 17 of Set 21 | itarema\n",
      "Processing Record 18 of Set 21 | guerrero negro\n",
      "Processing Record 19 of Set 21 | shishou\n",
      "Processing Record 20 of Set 21 | yabrud\n",
      "Processing Record 21 of Set 21 | olafsvik\n",
      "Processing Record 22 of Set 21 | wahran\n",
      "City not found. Skipping...\n",
      "Processing Record 23 of Set 21 | carupano\n",
      "Processing Record 24 of Set 21 | sokolka\n",
      "Processing Record 25 of Set 21 | tabiauea\n",
      "City not found. Skipping...\n",
      "Processing Record 26 of Set 21 | constitucion\n",
      "Processing Record 27 of Set 21 | banjar\n",
      "Processing Record 28 of Set 21 | shu\n",
      "Processing Record 29 of Set 21 | omsukchan\n",
      "Processing Record 30 of Set 21 | phangnga\n",
      "Processing Record 31 of Set 21 | hamilton\n",
      "Processing Record 32 of Set 21 | la rioja\n",
      "Processing Record 33 of Set 21 | nueva helvecia\n",
      "Processing Record 34 of Set 21 | strezhevoy\n",
      "Processing Record 35 of Set 21 | saint-francois\n",
      "Processing Record 36 of Set 21 | aklavik\n",
      "Processing Record 37 of Set 21 | darab\n",
      "Processing Record 38 of Set 21 | manta\n",
      "Processing Record 39 of Set 21 | abu dhabi\n",
      "Processing Record 40 of Set 21 | dubai\n",
      "Processing Record 41 of Set 21 | karpogory\n",
      "Processing Record 42 of Set 21 | goya\n",
      "Processing Record 43 of Set 21 | iguape\n",
      "Processing Record 44 of Set 21 | axim\n",
      "Processing Record 45 of Set 21 | chimoio\n",
      "Processing Record 46 of Set 21 | buenaventura\n",
      "Processing Record 47 of Set 21 | anloga\n",
      "Processing Record 48 of Set 21 | ulaangom\n",
      "Processing Record 49 of Set 21 | turbat\n",
      "Processing Record 50 of Set 21 | hami\n",
      "Processing Record 1 of Set 22 | port hardy\n",
      "Processing Record 2 of Set 22 | halalo\n",
      "City not found. Skipping...\n",
      "Processing Record 3 of Set 22 | moville\n",
      "Processing Record 4 of Set 22 | nelson bay\n",
      "Processing Record 5 of Set 22 | cubara\n",
      "Processing Record 6 of Set 22 | teahupoo\n",
      "Processing Record 7 of Set 22 | zeerust\n",
      "Processing Record 8 of Set 22 | karonga\n",
      "Processing Record 9 of Set 22 | lephepe\n",
      "City not found. Skipping...\n",
      "Processing Record 10 of Set 22 | riyadh\n",
      "Processing Record 11 of Set 22 | shimoda\n",
      "Processing Record 12 of Set 22 | kalmunai\n",
      "Processing Record 13 of Set 22 | maple creek\n",
      "Processing Record 14 of Set 22 | san ignacio\n",
      "Processing Record 15 of Set 22 | port said\n",
      "Processing Record 16 of Set 22 | krasnozerskoye\n",
      "Processing Record 17 of Set 22 | bozeman\n",
      "Processing Record 18 of Set 22 | biak\n",
      "Processing Record 19 of Set 22 | tall kayf\n",
      "Processing Record 20 of Set 22 | jiddah\n",
      "City not found. Skipping...\n",
      "Processing Record 21 of Set 22 | radhanpur\n",
      "Processing Record 22 of Set 22 | elat\n",
      "Processing Record 23 of Set 22 | portland\n",
      "Processing Record 24 of Set 22 | namibe\n",
      "Processing Record 25 of Set 22 | sao joao do piaui\n",
      "Processing Record 26 of Set 22 | namatanai\n",
      "Processing Record 27 of Set 22 | weyburn\n",
      "Processing Record 28 of Set 22 | takoradi\n",
      "Processing Record 29 of Set 22 | tarko-sale\n",
      "Processing Record 30 of Set 22 | bahia de caraquez\n",
      "Processing Record 31 of Set 22 | plyussa\n",
      "Processing Record 32 of Set 22 | srednekolymsk\n",
      "Processing Record 33 of Set 22 | moose factory\n",
      "Processing Record 34 of Set 22 | moree\n",
      "Processing Record 35 of Set 22 | pedernales\n",
      "Processing Record 36 of Set 22 | port macquarie\n",
      "Processing Record 37 of Set 22 | krasnaya gora\n",
      "Processing Record 38 of Set 22 | udachnyy\n",
      "Processing Record 39 of Set 22 | linqing\n",
      "Processing Record 40 of Set 22 | chapleau\n",
      "Processing Record 41 of Set 22 | mayskiy\n",
      "Processing Record 42 of Set 22 | zaraza\n",
      "Processing Record 43 of Set 22 | leningradskiy\n",
      "Processing Record 44 of Set 22 | montevideo\n",
      "Processing Record 45 of Set 22 | adrar\n",
      "Processing Record 46 of Set 22 | quatre cocos\n",
      "Processing Record 47 of Set 22 | marawi\n",
      "Processing Record 48 of Set 22 | port lincoln\n",
      "Processing Record 49 of Set 22 | manaure\n",
      "Processing Record 50 of Set 22 | shakhovskaya\n",
      "Processing Record 1 of Set 23 | lisakovsk\n",
      "Processing Record 2 of Set 23 | caloundra\n",
      "Processing Record 3 of Set 23 | aykhal\n",
      "Processing Record 4 of Set 23 | libertador general san martin\n"
     ]
    },
    {
     "name": "stdout",
     "output_type": "stream",
     "text": [
      "Processing Record 5 of Set 23 | vanersborg\n",
      "Processing Record 6 of Set 23 | filadelfia\n",
      "Processing Record 7 of Set 23 | hobyo\n",
      "Processing Record 8 of Set 23 | nizhneyansk\n",
      "City not found. Skipping...\n",
      "Processing Record 9 of Set 23 | fort nelson\n",
      "Processing Record 10 of Set 23 | stephenville\n",
      "Processing Record 11 of Set 23 | voh\n",
      "Processing Record 12 of Set 23 | jinchengjiang\n",
      "City not found. Skipping...\n",
      "Processing Record 13 of Set 23 | sorkjosen\n",
      "Processing Record 14 of Set 23 | san clemente\n",
      "Processing Record 15 of Set 23 | pemangkat\n",
      "Processing Record 16 of Set 23 | watertown\n",
      "Processing Record 17 of Set 23 | olinda\n",
      "Processing Record 18 of Set 23 | kinshasa\n",
      "Processing Record 19 of Set 23 | piopio\n",
      "Processing Record 20 of Set 23 | pahrump\n",
      "Processing Record 21 of Set 23 | husavik\n",
      "Processing Record 22 of Set 23 | bubaque\n",
      "Processing Record 23 of Set 23 | baherden\n",
      "Processing Record 24 of Set 23 | bayan\n",
      "Processing Record 25 of Set 23 | canico\n",
      "Processing Record 26 of Set 23 | olga\n",
      "Processing Record 27 of Set 23 | gisborne\n",
      "Processing Record 28 of Set 23 | duldurga\n",
      "Processing Record 29 of Set 23 | jarjis\n",
      "City not found. Skipping...\n",
      "Processing Record 30 of Set 23 | virginia beach\n",
      "Processing Record 31 of Set 23 | saint-andre-les-vergers\n",
      "Processing Record 32 of Set 23 | berlevag\n",
      "Processing Record 33 of Set 23 | urusha\n",
      "Processing Record 34 of Set 23 | steubenville\n",
      "Processing Record 35 of Set 23 | barkot\n",
      "Processing Record 36 of Set 23 | haapiti\n",
      "Processing Record 37 of Set 23 | hofn\n",
      "Processing Record 38 of Set 23 | havre-saint-pierre\n",
      "Processing Record 39 of Set 23 | bargal\n",
      "City not found. Skipping...\n",
      "Processing Record 40 of Set 23 | gimli\n",
      "Processing Record 41 of Set 23 | tonj\n",
      "Processing Record 42 of Set 23 | marzuq\n",
      "-----------------------------\n",
      "Data Retrieval Complete      \n",
      "-----------------------------\n"
     ]
    }
   ],
   "source": [
    "# Loop through all the cities in the list.\n",
    "## change to code to run\n",
    "for i, city in enumerate(cities):\n",
    "\n",
    "    # Group cities in sets of 50 for logging purposes.\n",
    "    if (i % 50 == 0 and i >= 50): #is remainder of 50 >= 0... basically checks if there is a remainder. if so contiue counting until there isn't\n",
    "        set_count += 1\n",
    "        record_count = 1\n",
    "    # Create endpoint URL with each city.\n",
    "    city_url = url + \"&q=\" + city.replace(\" \",\"+\") # replace all spaces in city with \"+\"\n",
    "\n",
    "    # Log the URL, record, and set numbers and the city.\n",
    "    print(f\"Processing Record {record_count} of Set {set_count} | {city}\")\n",
    "    # Add 1 to the record count.\n",
    "    record_count += 1\n",
    "    ###################################################################\n",
    "    #   Start your exception here...when it adds to the iterator      #\n",
    "    #   to go to the next record                                      #\n",
    "    ###################################################################\n",
    "# Run an API request for each of the cities.\n",
    "    try:\n",
    "        # Parse the JSON and retrieve data.\n",
    "        city_weather = requests.get(city_url).json()\n",
    "        # Parse out the needed data.\n",
    "        city_lat = city_weather[\"coord\"][\"lat\"]\n",
    "        city_lng = city_weather[\"coord\"][\"lon\"]\n",
    "        city_max_temp = city_weather[\"main\"][\"temp_max\"]\n",
    "        city_humidity = city_weather[\"main\"][\"humidity\"]\n",
    "        city_clouds = city_weather[\"clouds\"][\"all\"]\n",
    "        city_wind = city_weather[\"wind\"][\"speed\"]\n",
    "        city_country = city_weather[\"sys\"][\"country\"]\n",
    "        # Convert the date to ISO standard.\n",
    "        city_date = datetime.utcfromtimestamp(city_weather[\"dt\"]).strftime('%Y-%m-%d %H:%M:%S')\n",
    "        # Append the city information into city_data list.\n",
    "        city_data.append({\"City\": city.title(),\n",
    "                          \"Lat\": city_lat,\n",
    "                          \"Lng\": city_lng,\n",
    "                          \"Max Temp\": city_max_temp,\n",
    "                          \"Humidity\": city_humidity,\n",
    "                          \"Cloudiness\": city_clouds,\n",
    "                          \"Wind Speed\": city_wind,\n",
    "                          \"Country\": city_country,\n",
    "                          \"Date\": city_date})\n",
    "\n",
    "# If an error is experienced, skip the city.\n",
    "    except:\n",
    "        print(\"City not found. Skipping...\")\n",
    "        pass\n",
    "\n",
    "# Indicate that Data Loading is complete.\n",
    "print(\"-----------------------------\")\n",
    "print(\"Data Retrieval Complete      \")\n",
    "print(\"-----------------------------\")"
   ]
  },
  {
   "cell_type": "code",
   "execution_count": 85,
   "metadata": {},
   "outputs": [
    {
     "data": {
      "text/html": [
       "<div>\n",
       "<style scoped>\n",
       "    .dataframe tbody tr th:only-of-type {\n",
       "        vertical-align: middle;\n",
       "    }\n",
       "\n",
       "    .dataframe tbody tr th {\n",
       "        vertical-align: top;\n",
       "    }\n",
       "\n",
       "    .dataframe thead th {\n",
       "        text-align: right;\n",
       "    }\n",
       "</style>\n",
       "<table border=\"1\" class=\"dataframe\">\n",
       "  <thead>\n",
       "    <tr style=\"text-align: right;\">\n",
       "      <th></th>\n",
       "      <th>City</th>\n",
       "      <th>Lat</th>\n",
       "      <th>Lng</th>\n",
       "      <th>Max Temp</th>\n",
       "      <th>Humidity</th>\n",
       "      <th>Cloudiness</th>\n",
       "      <th>Wind Speed</th>\n",
       "      <th>Country</th>\n",
       "      <th>Date</th>\n",
       "    </tr>\n",
       "  </thead>\n",
       "  <tbody>\n",
       "    <tr>\n",
       "      <th>0</th>\n",
       "      <td>Cape Town</td>\n",
       "      <td>-33.9258</td>\n",
       "      <td>18.4232</td>\n",
       "      <td>52.12</td>\n",
       "      <td>97</td>\n",
       "      <td>0</td>\n",
       "      <td>3.29</td>\n",
       "      <td>ZA</td>\n",
       "      <td>2021-06-05 03:40:00</td>\n",
       "    </tr>\n",
       "    <tr>\n",
       "      <th>1</th>\n",
       "      <td>Atuona</td>\n",
       "      <td>-9.8000</td>\n",
       "      <td>-139.0333</td>\n",
       "      <td>79.41</td>\n",
       "      <td>80</td>\n",
       "      <td>35</td>\n",
       "      <td>19.42</td>\n",
       "      <td>PF</td>\n",
       "      <td>2021-06-05 03:42:35</td>\n",
       "    </tr>\n",
       "    <tr>\n",
       "      <th>2</th>\n",
       "      <td>Westport</td>\n",
       "      <td>41.1415</td>\n",
       "      <td>-73.3579</td>\n",
       "      <td>67.33</td>\n",
       "      <td>95</td>\n",
       "      <td>1</td>\n",
       "      <td>1.01</td>\n",
       "      <td>US</td>\n",
       "      <td>2021-06-05 03:42:35</td>\n",
       "    </tr>\n",
       "    <tr>\n",
       "      <th>3</th>\n",
       "      <td>Castro</td>\n",
       "      <td>-24.7911</td>\n",
       "      <td>-50.0119</td>\n",
       "      <td>55.94</td>\n",
       "      <td>90</td>\n",
       "      <td>0</td>\n",
       "      <td>4.14</td>\n",
       "      <td>BR</td>\n",
       "      <td>2021-06-05 03:42:35</td>\n",
       "    </tr>\n",
       "    <tr>\n",
       "      <th>4</th>\n",
       "      <td>Punta Arenas</td>\n",
       "      <td>-53.1500</td>\n",
       "      <td>-70.9167</td>\n",
       "      <td>30.31</td>\n",
       "      <td>100</td>\n",
       "      <td>40</td>\n",
       "      <td>5.84</td>\n",
       "      <td>CL</td>\n",
       "      <td>2021-06-05 03:42:36</td>\n",
       "    </tr>\n",
       "    <tr>\n",
       "      <th>5</th>\n",
       "      <td>Bambous Virieux</td>\n",
       "      <td>-20.3428</td>\n",
       "      <td>57.7575</td>\n",
       "      <td>74.21</td>\n",
       "      <td>88</td>\n",
       "      <td>75</td>\n",
       "      <td>18.32</td>\n",
       "      <td>MU</td>\n",
       "      <td>2021-06-05 03:42:36</td>\n",
       "    </tr>\n",
       "    <tr>\n",
       "      <th>6</th>\n",
       "      <td>Brae</td>\n",
       "      <td>60.3964</td>\n",
       "      <td>-1.3530</td>\n",
       "      <td>48.11</td>\n",
       "      <td>81</td>\n",
       "      <td>83</td>\n",
       "      <td>5.19</td>\n",
       "      <td>GB</td>\n",
       "      <td>2021-06-05 03:42:36</td>\n",
       "    </tr>\n",
       "    <tr>\n",
       "      <th>7</th>\n",
       "      <td>Saskylakh</td>\n",
       "      <td>71.9167</td>\n",
       "      <td>114.0833</td>\n",
       "      <td>38.86</td>\n",
       "      <td>70</td>\n",
       "      <td>90</td>\n",
       "      <td>10.25</td>\n",
       "      <td>RU</td>\n",
       "      <td>2021-06-05 03:42:36</td>\n",
       "    </tr>\n",
       "    <tr>\n",
       "      <th>8</th>\n",
       "      <td>Bengkulu</td>\n",
       "      <td>-3.8004</td>\n",
       "      <td>102.2655</td>\n",
       "      <td>76.24</td>\n",
       "      <td>92</td>\n",
       "      <td>100</td>\n",
       "      <td>8.52</td>\n",
       "      <td>ID</td>\n",
       "      <td>2021-06-05 03:42:37</td>\n",
       "    </tr>\n",
       "    <tr>\n",
       "      <th>9</th>\n",
       "      <td>Hilo</td>\n",
       "      <td>19.7297</td>\n",
       "      <td>-155.0900</td>\n",
       "      <td>78.53</td>\n",
       "      <td>72</td>\n",
       "      <td>20</td>\n",
       "      <td>13.80</td>\n",
       "      <td>US</td>\n",
       "      <td>2021-06-05 03:37:58</td>\n",
       "    </tr>\n",
       "  </tbody>\n",
       "</table>\n",
       "</div>"
      ],
      "text/plain": [
       "              City      Lat       Lng  Max Temp  Humidity  Cloudiness  \\\n",
       "0        Cape Town -33.9258   18.4232     52.12        97           0   \n",
       "1           Atuona  -9.8000 -139.0333     79.41        80          35   \n",
       "2         Westport  41.1415  -73.3579     67.33        95           1   \n",
       "3           Castro -24.7911  -50.0119     55.94        90           0   \n",
       "4     Punta Arenas -53.1500  -70.9167     30.31       100          40   \n",
       "5  Bambous Virieux -20.3428   57.7575     74.21        88          75   \n",
       "6             Brae  60.3964   -1.3530     48.11        81          83   \n",
       "7        Saskylakh  71.9167  114.0833     38.86        70          90   \n",
       "8         Bengkulu  -3.8004  102.2655     76.24        92         100   \n",
       "9             Hilo  19.7297 -155.0900     78.53        72          20   \n",
       "\n",
       "   Wind Speed Country                 Date  \n",
       "0        3.29      ZA  2021-06-05 03:40:00  \n",
       "1       19.42      PF  2021-06-05 03:42:35  \n",
       "2        1.01      US  2021-06-05 03:42:35  \n",
       "3        4.14      BR  2021-06-05 03:42:35  \n",
       "4        5.84      CL  2021-06-05 03:42:36  \n",
       "5       18.32      MU  2021-06-05 03:42:36  \n",
       "6        5.19      GB  2021-06-05 03:42:36  \n",
       "7       10.25      RU  2021-06-05 03:42:36  \n",
       "8        8.52      ID  2021-06-05 03:42:37  \n",
       "9       13.80      US  2021-06-05 03:37:58  "
      ]
     },
     "execution_count": 85,
     "metadata": {},
     "output_type": "execute_result"
    }
   ],
   "source": [
    "# Convert the array of dictionaries to a Pandas DataFrame.\n",
    "city_data_df = pd.DataFrame(city_data)\n",
    "city_data_df.head(10)"
   ]
  },
  {
   "cell_type": "markdown",
   "metadata": {},
   "source": [
    "### Reorder columns"
   ]
  },
  {
   "cell_type": "code",
   "execution_count": 86,
   "metadata": {},
   "outputs": [],
   "source": [
    "new_column_order= [\"City\",\"Country\",\"Date\",'Lat','Lng','Max Temp', 'Humidity','Cloudiness', 'Wind Speed']"
   ]
  },
  {
   "cell_type": "code",
   "execution_count": 87,
   "metadata": {},
   "outputs": [],
   "source": [
    "city_data_df = city_data_df[new_column_order]"
   ]
  },
  {
   "cell_type": "code",
   "execution_count": 88,
   "metadata": {},
   "outputs": [
    {
     "data": {
      "text/html": [
       "<div>\n",
       "<style scoped>\n",
       "    .dataframe tbody tr th:only-of-type {\n",
       "        vertical-align: middle;\n",
       "    }\n",
       "\n",
       "    .dataframe tbody tr th {\n",
       "        vertical-align: top;\n",
       "    }\n",
       "\n",
       "    .dataframe thead th {\n",
       "        text-align: right;\n",
       "    }\n",
       "</style>\n",
       "<table border=\"1\" class=\"dataframe\">\n",
       "  <thead>\n",
       "    <tr style=\"text-align: right;\">\n",
       "      <th></th>\n",
       "      <th>City</th>\n",
       "      <th>Country</th>\n",
       "      <th>Date</th>\n",
       "      <th>Lat</th>\n",
       "      <th>Lng</th>\n",
       "      <th>Max Temp</th>\n",
       "      <th>Humidity</th>\n",
       "      <th>Cloudiness</th>\n",
       "      <th>Wind Speed</th>\n",
       "    </tr>\n",
       "  </thead>\n",
       "  <tbody>\n",
       "    <tr>\n",
       "      <th>0</th>\n",
       "      <td>Cape Town</td>\n",
       "      <td>ZA</td>\n",
       "      <td>2021-06-05 03:40:00</td>\n",
       "      <td>-33.9258</td>\n",
       "      <td>18.4232</td>\n",
       "      <td>52.12</td>\n",
       "      <td>97</td>\n",
       "      <td>0</td>\n",
       "      <td>3.29</td>\n",
       "    </tr>\n",
       "  </tbody>\n",
       "</table>\n",
       "</div>"
      ],
      "text/plain": [
       "        City Country                 Date      Lat      Lng  Max Temp  \\\n",
       "0  Cape Town      ZA  2021-06-05 03:40:00 -33.9258  18.4232     52.12   \n",
       "\n",
       "   Humidity  Cloudiness  Wind Speed  \n",
       "0        97           0        3.29  "
      ]
     },
     "execution_count": 88,
     "metadata": {},
     "output_type": "execute_result"
    }
   ],
   "source": [
    "city_data_df.head(1)"
   ]
  },
  {
   "cell_type": "markdown",
   "metadata": {},
   "source": [
    "# Convert Dataframe to CSV"
   ]
  },
  {
   "cell_type": "code",
   "execution_count": 89,
   "metadata": {},
   "outputs": [],
   "source": [
    "# Create the output file (CSV).\n",
    "output_data_file = \"weather_data/cities.csv\"\n",
    "# Export the City_Data into a CSV.\n",
    "city_data_df.to_csv(output_data_file, index_label=\"City_ID\")"
   ]
  },
  {
   "cell_type": "code",
   "execution_count": 90,
   "metadata": {},
   "outputs": [],
   "source": [
    "output_data_file2 = \"weather_data/cities.csv\""
   ]
  },
  {
   "cell_type": "markdown",
   "metadata": {},
   "source": [
    "# Create Plot\n",
    "## Gather Plotting data"
   ]
  },
  {
   "cell_type": "code",
   "execution_count": 91,
   "metadata": {},
   "outputs": [],
   "source": [
    "# Extract relevant fields from the DataFrame for plotting.\n",
    "lats = city_data_df[\"Lat\"]\n",
    "max_temps = city_data_df[\"Max Temp\"]\n",
    "humidity = city_data_df[\"Humidity\"]\n",
    "cloudiness = city_data_df[\"Cloudiness\"]\n",
    "wind_speed = city_data_df[\"Wind Speed\"]"
   ]
  },
  {
   "cell_type": "markdown",
   "metadata": {},
   "source": [
    "## Get today's date"
   ]
  },
  {
   "cell_type": "code",
   "execution_count": 92,
   "metadata": {},
   "outputs": [
    {
     "data": {
      "text/plain": [
       "1622866176.9298003"
      ]
     },
     "execution_count": 92,
     "metadata": {},
     "output_type": "execute_result"
    }
   ],
   "source": [
    "# Import the time module.\n",
    "import time\n",
    "# Get today's date in seconds.\n",
    "today = time.time()\n",
    "today"
   ]
  },
  {
   "cell_type": "code",
   "execution_count": 94,
   "metadata": {},
   "outputs": [
    {
     "data": {
      "text/plain": [
       "'06/05/21'"
      ]
     },
     "execution_count": 94,
     "metadata": {},
     "output_type": "execute_result"
    }
   ],
   "source": [
    "today = time.strftime(\"%x\")\n",
    "today"
   ]
  },
  {
   "cell_type": "markdown",
   "metadata": {},
   "source": [
    "### Latitude vs max temp"
   ]
  },
  {
   "cell_type": "code",
   "execution_count": 95,
   "metadata": {},
   "outputs": [
    {
     "data": {
      "image/png": "[encoded data removed]",
      "text/plain": [
       "<Figure size 432x288 with 1 Axes>"
      ]
     },
     "metadata": {
      "needs_background": "light"
     },
     "output_type": "display_data"
    }
   ],
   "source": [
    "# Import time module\n",
    "import time\n",
    "\n",
    "# Build the scatter plot for latitude vs. max temperature.\n",
    "plt.scatter(lats,\n",
    "            max_temps,\n",
    "            edgecolor=\"black\", linewidths=1, marker=\"o\",\n",
    "            alpha=0.8, label=\"Cities\")\n",
    "\n",
    "# Incorporate the other graph properties.\n",
    "plt.title(f\"City Latitude vs. Max Temperature \"+ time.strftime(\"%x\"))\n",
    "plt.ylabel(\"Max Temperature (F)\")\n",
    "plt.xlabel(\"Latitude\")\n",
    "plt.grid(True)\n",
    "\n",
    "# Save the figure.\n",
    "plt.savefig(\"weather_data/Fig1.png\")\n",
    "\n",
    "# Show plot.\n",
    "plt.show()"
   ]
  },
  {
   "cell_type": "markdown",
   "metadata": {},
   "source": [
    "### Latitude vs Humidity"
   ]
  },
  {
   "cell_type": "code",
   "execution_count": 96,
   "metadata": {},
   "outputs": [
    {
     "data": {
      "image/png": "[encoded data removed]",
      "text/plain": [
       "<Figure size 432x288 with 1 Axes>"
      ]
     },
     "metadata": {
      "needs_background": "light"
     },
     "output_type": "display_data"
    }
   ],
   "source": [
    "# Build the scatter plots for latitude vs. humidity.\n",
    "plt.scatter(lats,\n",
    "            humidity,\n",
    "            edgecolor=\"black\", linewidths=1, marker=\"o\",\n",
    "            alpha=0.8, label=\"Cities\")\n",
    "\n",
    "# Incorporate the other graph properties.\n",
    "plt.title(f\"City Latitude vs. Humidity \"+ time.strftime(\"%x\"))\n",
    "plt.ylabel(\"Humidity (%)\")\n",
    "plt.xlabel(\"Latitude\")\n",
    "plt.grid(True)\n",
    "# Save the figure.\n",
    "plt.savefig(\"weather_data/Fig2.png\")\n",
    "# Show plot.\n",
    "plt.show()"
   ]
  },
  {
   "cell_type": "markdown",
   "metadata": {},
   "source": [
    "### Latitude vs Humidity"
   ]
  },
  {
   "cell_type": "code",
   "execution_count": 98,
   "metadata": {},
   "outputs": [
    {
     "data": {
      "image/png": "[encoded data removed]",
      "text/plain": [
       "<Figure size 432x288 with 1 Axes>"
      ]
     },
     "metadata": {
      "needs_background": "light"
     },
     "output_type": "display_data"
    }
   ],
   "source": [
    "# Build the scatter plots for latitude vs. cloudiness.\n",
    "plt.scatter(lats,\n",
    "            cloudiness,\n",
    "            edgecolor=\"black\", linewidths=1, marker=\"o\",\n",
    "            alpha=0.8, label=\"Cities\")\n",
    "\n",
    "# Incorporate the other graph properties.\n",
    "plt.title(f\"City Latitude vs. Cloudiness (%) \"+ time.strftime(\"%x\"))\n",
    "plt.ylabel(\"Cloudiness (%)\")\n",
    "plt.xlabel(\"Latitude\")\n",
    "plt.grid(True)\n",
    "# Save the figure.\n",
    "plt.savefig(\"weather_data/Fig3.png\")\n",
    "# Show plot.\n",
    "plt.show()"
   ]
  },
  {
   "cell_type": "markdown",
   "metadata": {},
   "source": [
    "### Latitude vs Wind Speed"
   ]
  },
  {
   "cell_type": "code",
   "execution_count": 99,
   "metadata": {},
   "outputs": [
    {
     "data": {
      "image/png": "[encoded data removed]",
      "text/plain": [
       "<Figure size 432x288 with 1 Axes>"
      ]
     },
     "metadata": {
      "needs_background": "light"
     },
     "output_type": "display_data"
    }
   ],
   "source": [
    "# Build the scatter plots for latitude vs. wind speed.\n",
    "plt.scatter(lats,\n",
    "            wind_speed,\n",
    "            edgecolor=\"black\", linewidths=1, marker=\"o\",\n",
    "            alpha=0.8, label=\"Cities\")\n",
    "\n",
    "# Incorporate the other graph properties.\n",
    "plt.title(f\"City Latitude vs. Wind Speed \"+ time.strftime(\"%x\"))\n",
    "plt.ylabel(\"Wind Speed (mph)\")\n",
    "plt.xlabel(\"Latitude\")\n",
    "plt.grid(True)\n",
    "# Save the figure.\n",
    "plt.savefig(\"weather_data/Fig4.png\")\n",
    "# Show plot.\n",
    "plt.show()"
   ]
  },
  {
   "cell_type": "markdown",
   "metadata": {},
   "source": [
    "# Linear Regression\n",
    "### Fitting a line using data from scatter plot\n",
    "### Try on all new datasets\n",
    "#### y = mx + b (y-depedent variable (dependent on x), m-slope,x-independent variable,y-intercept)\n",
    "#### use linregress method() ... linregress(independent variable(x), dependent variable(y))\n",
    "#### scipy.stats import lingress\n",
    "#### import matplotlib.pyplot as plt\n",
    "#### in linregress the higher the standard error the less the model describes the data sufficiently\n",
    "#### (slope, intercept, rval, pval, stderr) = linregress(independent(x),dependent(y))\n",
    "#### calculate the line....line equals... line_eq = \"y = \" + str(round(slope,2)) + \"x + \" + str(round(intercept,2))"
   ]
  },
  {
   "cell_type": "code",
   "execution_count": 100,
   "metadata": {},
   "outputs": [],
   "source": [
    "# Import linear regression from the SciPy stats module.\n",
    "from scipy.stats import linregress"
   ]
  },
  {
   "cell_type": "code",
   "execution_count": 101,
   "metadata": {},
   "outputs": [],
   "source": [
    "# Create an equal number of latitudes and temperatures.\n",
    "lats = [42.5, 43.9, 8.1, 36.8, 79.9, 69.1, 25.7, 15.3, 12.7, 64.5]\n",
    "temps = [80.5, 75.3, 90.9, 90.0, 40.4, 62.3, 85.4, 79.6, 72.5, 72.0]"
   ]
  },
  {
   "cell_type": "markdown",
   "metadata": {},
   "source": [
    "## x,y... which variable data set does not depend on the other...thats X"
   ]
  },
  {
   "cell_type": "code",
   "execution_count": 102,
   "metadata": {},
   "outputs": [
    {
     "data": {
      "text/plain": [
       "LinregressResult(slope=-0.452929121241496, intercept=92.93922548147363, rvalue=-0.7590444753769936, pvalue=0.01089687086168761, stderr=0.13734880392044935)"
      ]
     },
     "execution_count": 102,
     "metadata": {},
     "output_type": "execute_result"
    }
   ],
   "source": [
    "linregress(lats,temps) "
   ]
  },
  {
   "cell_type": "markdown",
   "metadata": {},
   "source": [
    "## Perform linear regression. \n",
    "### Adds data to each variable"
   ]
  },
  {
   "cell_type": "code",
   "execution_count": 103,
   "metadata": {},
   "outputs": [],
   "source": [
    "# Perform linear regression. \n",
    "# Adds data to each variable\n",
    "(slope, intercept, r_value, p_value, std_err) = linregress(lats, temps)"
   ]
  },
  {
   "cell_type": "markdown",
   "metadata": {},
   "source": [
    "## Get the equation of the line."
   ]
  },
  {
   "cell_type": "code",
   "execution_count": 104,
   "metadata": {},
   "outputs": [
    {
     "name": "stdout",
     "output_type": "stream",
     "text": [
      "y = -0.45x + 92.94\n"
     ]
    }
   ],
   "source": [
    "# Get the equation of the line.\n",
    "line_eq = \"y = \" + str(round(slope,2)) + \"x + \" + str(round(intercept,2))\n",
    "print(line_eq)\n"
   ]
  },
  {
   "cell_type": "code",
   "execution_count": 105,
   "metadata": {},
   "outputs": [
    {
     "name": "stdout",
     "output_type": "stream",
     "text": [
      "The p-value is: 0.011\n"
     ]
    }
   ],
   "source": [
    "print(f\"The p-value is: {p_value:.3f}\")"
   ]
  },
  {
   "cell_type": "markdown",
   "metadata": {},
   "source": [
    "# AVOID ERROR\n",
    "##### The slope, intercept, r_value, p_value, and std_errare always returned when we run the \n",
    "##### linregress function. If you don't want to calculate one of these values but do not add \n",
    "##### it inside the parentheses, you'll get a ValueError: too many values to unpack.\n",
    "\n",
    "##### To prevent this error, add a comma and underscore for each value you don't want to calculate.\n",
    "\n",
    "##### For instance, if you don't want to print out the p-value and the standard error, \n",
    "##### write your function as (slope, intercept, r_value, _, _) = linregress(x, y)."
   ]
  },
  {
   "cell_type": "markdown",
   "metadata": {},
   "source": [
    "# Understanding p-value and significance of your data\n",
    "##### In statistics, the p-value is used to determine significance of results. In most cases,\n",
    "##### data scientists like to use a significance level of 0.05, which means:\n",
    "\n",
    "### A linear regression with a p-value > 0.05 is not statistically significant.\n",
    "\n",
    "### A linear regression with a p-value < 0.05 is statistically significant.\n",
    "\n",
    "##### P-values can also be used to justify rejecting a null hypothesis. We will discuss\n",
    "##### p-values and hypothesis testing in more detail later in the course."
   ]
  },
  {
   "cell_type": "code",
   "execution_count": null,
   "metadata": {},
   "outputs": [],
   "source": []
  },
  {
   "cell_type": "markdown",
   "metadata": {},
   "source": [
    "# Perform list comprehension \n",
    "### on the latitudes by multiplying each latitude by the slope and adding the intercept\n",
    "## Calculate the regression line \"y values\" from the slope and intercept."
   ]
  },
  {
   "cell_type": "code",
   "execution_count": 107,
   "metadata": {},
   "outputs": [],
   "source": [
    "# Calculate the regression line \"y values\" from the slope and intercept.\n",
    "regress_values = [(lat * slope + intercept) for lat in lats]"
   ]
  },
  {
   "cell_type": "code",
   "execution_count": 109,
   "metadata": {},
   "outputs": [
    {
     "data": {
      "image/png": "[encoded data removed]",
      "text/plain": [
       "<Figure size 432x288 with 1 Axes>"
      ]
     },
     "metadata": {
      "needs_background": "light"
     },
     "output_type": "display_data"
    }
   ],
   "source": [
    "# Import Matplotlib.\n",
    "import matplotlib.pyplot as plt\n",
    "# Create a scatter plot of the x and y values.\n",
    "plt.scatter(lats,temps)\n",
    "# Plot the regression line with the x-values and the y coordinates based on the intercept and slope.\n",
    "plt.plot(lats,regress_values,\"r\")\n",
    "# Annotate the text for the line equation and add its coordinates.\n",
    "plt.annotate(line_eq, (10,40), fontsize=15, color=\"red\")\n",
    "plt.xlabel('Latitude')\n",
    "plt.ylabel('Temp')\n",
    "plt.show()"
   ]
  },
  {
   "cell_type": "markdown",
   "metadata": {},
   "source": [
    "## Let's review what ^this code^ does:\n",
    "\n",
    "### We plot the latitudes and temperatures on a scatter plot.\n",
    "### We create a line plot of our regression line with the ideal temperatures.\n",
    "### We annotate the line plot by adding the equation of our regression line, where the x-axis is 10 and the y-axis is 40, and specify the font and color.\n",
    "### We create x- and y-axes labels."
   ]
  },
  {
   "cell_type": "code",
   "execution_count": null,
   "metadata": {},
   "outputs": [],
   "source": []
  }
 ],
 "metadata": {
  "kernelspec": {
   "display_name": "Python 3",
   "language": "python",
   "name": "python3"
  },
  "language_info": {
   "codemirror_mode": {
    "name": "ipython",
    "version": 3
   },
   "file_extension": ".py",
   "mimetype": "text/x-python",
   "name": "python",
   "nbconvert_exporter": "python",
   "pygments_lexer": "ipython3",
   "version": "3.8.5"
  }
 },
 "nbformat": 4,
 "nbformat_minor": 4
}
